{
 "cells": [
  {
   "cell_type": "code",
   "execution_count": 2,
   "metadata": {
    "collapsed": true
   },
   "outputs": [],
   "source": [
    "import pandas as pd\n",
    "import os\n",
    "\n",
    "from pycaret.classification import *\n",
    "\n",
    "# import warnings\n",
    "# warnings.filterwarnings(\"ignore\")"
   ]
  },
  {
   "cell_type": "code",
   "execution_count": 3,
   "outputs": [
    {
     "data": {
      "text/plain": "       Pelvis_acc_0  Pelvis_acc_1  Pelvis_acc_2  Pelvis_angular_acc_0  \\\n2776      -0.054363      0.056517     -0.053088              0.420520   \n2777      -0.107037      0.053799     -0.122576             -0.002736   \n2778       0.144353     -0.014925     -0.004969             -0.029263   \n2779      -0.030959     -0.105743     -0.107790             -1.158075   \n2780       0.059421     -0.083124      0.010181             -0.362501   \n...             ...           ...           ...                   ...   \n22949      0.227573      0.271797     -0.188536              0.031842   \n22950      0.140364      0.338667     -0.169942              0.841486   \n22951      0.303491      0.391284     -0.168792              0.971461   \n22952      0.466600     -0.106223     -0.036056             -1.061086   \n22953      0.308474      0.176047     -0.128669              0.208862   \n\n       Pelvis_angular_acc_1  Pelvis_angular_acc_2  Pelvis_vel_0  Pelvis_vel_1  \\\n2776               0.209671             -0.530950      0.007970     -0.003923   \n2777               0.640158              0.677067      0.007299     -0.004135   \n2778              -1.064792              0.387637      0.007754     -0.004556   \n2779               0.311378              0.144316      0.007494     -0.005328   \n2780              -0.402047             -0.376975      0.007641     -0.005942   \n...                     ...                   ...           ...           ...   \n22949             -0.768405             -1.020443     -0.001853     -0.003412   \n22950             -0.260586             -0.494808     -0.001510     -0.001102   \n22951             -1.327966             -0.114379     -0.000563      0.001093   \n22952             -2.242514             -1.587088      0.001034      0.000915   \n22953             -1.039205             -0.893719      0.001929      0.001671   \n\n       Pelvis_vel_2  Pelvis_angular_vel_0  ...  LeftFoot_pos_0  \\\n2776      -0.001043             -0.000674  ...        1.618867   \n2777      -0.001530             -0.000686  ...        1.618847   \n2778      -0.001520             -0.000808  ...        1.618827   \n2779      -0.001936             -0.005633  ...        1.618806   \n2780      -0.001857             -0.007143  ...        1.618786   \n...             ...                   ...  ...             ...   \n22949      0.011516             -0.008153  ...        3.537116   \n22950      0.010200             -0.004647  ...        3.537188   \n22951      0.008950             -0.000599  ...        3.537250   \n22952      0.008306             -0.005020  ...        3.537304   \n22953      0.007320             -0.004150  ...        3.537349   \n\n       LeftFoot_pos_1  LeftFoot_pos_2  time  year  id  sample  speed  \\\n2776         9.162230        0.161790   350  2017  10       1   79.0   \n2777         9.162230        0.161792   354  2017  10       1   79.0   \n2778         9.162235        0.161795   359  2017  10       1   79.0   \n2779         9.162238        0.161799   363  2017  10       1   79.0   \n2780         9.162240        0.161802   367  2017  10       1   79.0   \n...               ...             ...   ...   ...  ..     ...    ...   \n22949       10.055651        0.205585   421  2017  10       5   78.0   \n22950       10.055702        0.205587   425  2017  10       5   78.0   \n22951       10.055747        0.205590   429  2017  10       5   78.0   \n22952       10.055788        0.205594   433  2017  10       5   78.0   \n22953       10.055828        0.205601   438  2017  10       5   78.0   \n\n             key  segment  \n2776   2017_10_1       T2  \n2777   2017_10_1       T2  \n2778   2017_10_1       T2  \n2779   2017_10_1       T2  \n2780   2017_10_1       T2  \n...          ...      ...  \n22949  2017_10_5       T2  \n22950  2017_10_5       T2  \n22951  2017_10_5       T2  \n22952  2017_10_5       T2  \n22953  2017_10_5       T2  \n\n[1000 rows x 425 columns]",
      "text/html": "<div>\n<style scoped>\n    .dataframe tbody tr th:only-of-type {\n        vertical-align: middle;\n    }\n\n    .dataframe tbody tr th {\n        vertical-align: top;\n    }\n\n    .dataframe thead th {\n        text-align: right;\n    }\n</style>\n<table border=\"1\" class=\"dataframe\">\n  <thead>\n    <tr style=\"text-align: right;\">\n      <th></th>\n      <th>Pelvis_acc_0</th>\n      <th>Pelvis_acc_1</th>\n      <th>Pelvis_acc_2</th>\n      <th>Pelvis_angular_acc_0</th>\n      <th>Pelvis_angular_acc_1</th>\n      <th>Pelvis_angular_acc_2</th>\n      <th>Pelvis_vel_0</th>\n      <th>Pelvis_vel_1</th>\n      <th>Pelvis_vel_2</th>\n      <th>Pelvis_angular_vel_0</th>\n      <th>...</th>\n      <th>LeftFoot_pos_0</th>\n      <th>LeftFoot_pos_1</th>\n      <th>LeftFoot_pos_2</th>\n      <th>time</th>\n      <th>year</th>\n      <th>id</th>\n      <th>sample</th>\n      <th>speed</th>\n      <th>key</th>\n      <th>segment</th>\n    </tr>\n  </thead>\n  <tbody>\n    <tr>\n      <th>2776</th>\n      <td>-0.054363</td>\n      <td>0.056517</td>\n      <td>-0.053088</td>\n      <td>0.420520</td>\n      <td>0.209671</td>\n      <td>-0.530950</td>\n      <td>0.007970</td>\n      <td>-0.003923</td>\n      <td>-0.001043</td>\n      <td>-0.000674</td>\n      <td>...</td>\n      <td>1.618867</td>\n      <td>9.162230</td>\n      <td>0.161790</td>\n      <td>350</td>\n      <td>2017</td>\n      <td>10</td>\n      <td>1</td>\n      <td>79.0</td>\n      <td>2017_10_1</td>\n      <td>T2</td>\n    </tr>\n    <tr>\n      <th>2777</th>\n      <td>-0.107037</td>\n      <td>0.053799</td>\n      <td>-0.122576</td>\n      <td>-0.002736</td>\n      <td>0.640158</td>\n      <td>0.677067</td>\n      <td>0.007299</td>\n      <td>-0.004135</td>\n      <td>-0.001530</td>\n      <td>-0.000686</td>\n      <td>...</td>\n      <td>1.618847</td>\n      <td>9.162230</td>\n      <td>0.161792</td>\n      <td>354</td>\n      <td>2017</td>\n      <td>10</td>\n      <td>1</td>\n      <td>79.0</td>\n      <td>2017_10_1</td>\n      <td>T2</td>\n    </tr>\n    <tr>\n      <th>2778</th>\n      <td>0.144353</td>\n      <td>-0.014925</td>\n      <td>-0.004969</td>\n      <td>-0.029263</td>\n      <td>-1.064792</td>\n      <td>0.387637</td>\n      <td>0.007754</td>\n      <td>-0.004556</td>\n      <td>-0.001520</td>\n      <td>-0.000808</td>\n      <td>...</td>\n      <td>1.618827</td>\n      <td>9.162235</td>\n      <td>0.161795</td>\n      <td>359</td>\n      <td>2017</td>\n      <td>10</td>\n      <td>1</td>\n      <td>79.0</td>\n      <td>2017_10_1</td>\n      <td>T2</td>\n    </tr>\n    <tr>\n      <th>2779</th>\n      <td>-0.030959</td>\n      <td>-0.105743</td>\n      <td>-0.107790</td>\n      <td>-1.158075</td>\n      <td>0.311378</td>\n      <td>0.144316</td>\n      <td>0.007494</td>\n      <td>-0.005328</td>\n      <td>-0.001936</td>\n      <td>-0.005633</td>\n      <td>...</td>\n      <td>1.618806</td>\n      <td>9.162238</td>\n      <td>0.161799</td>\n      <td>363</td>\n      <td>2017</td>\n      <td>10</td>\n      <td>1</td>\n      <td>79.0</td>\n      <td>2017_10_1</td>\n      <td>T2</td>\n    </tr>\n    <tr>\n      <th>2780</th>\n      <td>0.059421</td>\n      <td>-0.083124</td>\n      <td>0.010181</td>\n      <td>-0.362501</td>\n      <td>-0.402047</td>\n      <td>-0.376975</td>\n      <td>0.007641</td>\n      <td>-0.005942</td>\n      <td>-0.001857</td>\n      <td>-0.007143</td>\n      <td>...</td>\n      <td>1.618786</td>\n      <td>9.162240</td>\n      <td>0.161802</td>\n      <td>367</td>\n      <td>2017</td>\n      <td>10</td>\n      <td>1</td>\n      <td>79.0</td>\n      <td>2017_10_1</td>\n      <td>T2</td>\n    </tr>\n    <tr>\n      <th>...</th>\n      <td>...</td>\n      <td>...</td>\n      <td>...</td>\n      <td>...</td>\n      <td>...</td>\n      <td>...</td>\n      <td>...</td>\n      <td>...</td>\n      <td>...</td>\n      <td>...</td>\n      <td>...</td>\n      <td>...</td>\n      <td>...</td>\n      <td>...</td>\n      <td>...</td>\n      <td>...</td>\n      <td>...</td>\n      <td>...</td>\n      <td>...</td>\n      <td>...</td>\n      <td>...</td>\n    </tr>\n    <tr>\n      <th>22949</th>\n      <td>0.227573</td>\n      <td>0.271797</td>\n      <td>-0.188536</td>\n      <td>0.031842</td>\n      <td>-0.768405</td>\n      <td>-1.020443</td>\n      <td>-0.001853</td>\n      <td>-0.003412</td>\n      <td>0.011516</td>\n      <td>-0.008153</td>\n      <td>...</td>\n      <td>3.537116</td>\n      <td>10.055651</td>\n      <td>0.205585</td>\n      <td>421</td>\n      <td>2017</td>\n      <td>10</td>\n      <td>5</td>\n      <td>78.0</td>\n      <td>2017_10_5</td>\n      <td>T2</td>\n    </tr>\n    <tr>\n      <th>22950</th>\n      <td>0.140364</td>\n      <td>0.338667</td>\n      <td>-0.169942</td>\n      <td>0.841486</td>\n      <td>-0.260586</td>\n      <td>-0.494808</td>\n      <td>-0.001510</td>\n      <td>-0.001102</td>\n      <td>0.010200</td>\n      <td>-0.004647</td>\n      <td>...</td>\n      <td>3.537188</td>\n      <td>10.055702</td>\n      <td>0.205587</td>\n      <td>425</td>\n      <td>2017</td>\n      <td>10</td>\n      <td>5</td>\n      <td>78.0</td>\n      <td>2017_10_5</td>\n      <td>T2</td>\n    </tr>\n    <tr>\n      <th>22951</th>\n      <td>0.303491</td>\n      <td>0.391284</td>\n      <td>-0.168792</td>\n      <td>0.971461</td>\n      <td>-1.327966</td>\n      <td>-0.114379</td>\n      <td>-0.000563</td>\n      <td>0.001093</td>\n      <td>0.008950</td>\n      <td>-0.000599</td>\n      <td>...</td>\n      <td>3.537250</td>\n      <td>10.055747</td>\n      <td>0.205590</td>\n      <td>429</td>\n      <td>2017</td>\n      <td>10</td>\n      <td>5</td>\n      <td>78.0</td>\n      <td>2017_10_5</td>\n      <td>T2</td>\n    </tr>\n    <tr>\n      <th>22952</th>\n      <td>0.466600</td>\n      <td>-0.106223</td>\n      <td>-0.036056</td>\n      <td>-1.061086</td>\n      <td>-2.242514</td>\n      <td>-1.587088</td>\n      <td>0.001034</td>\n      <td>0.000915</td>\n      <td>0.008306</td>\n      <td>-0.005020</td>\n      <td>...</td>\n      <td>3.537304</td>\n      <td>10.055788</td>\n      <td>0.205594</td>\n      <td>433</td>\n      <td>2017</td>\n      <td>10</td>\n      <td>5</td>\n      <td>78.0</td>\n      <td>2017_10_5</td>\n      <td>T2</td>\n    </tr>\n    <tr>\n      <th>22953</th>\n      <td>0.308474</td>\n      <td>0.176047</td>\n      <td>-0.128669</td>\n      <td>0.208862</td>\n      <td>-1.039205</td>\n      <td>-0.893719</td>\n      <td>0.001929</td>\n      <td>0.001671</td>\n      <td>0.007320</td>\n      <td>-0.004150</td>\n      <td>...</td>\n      <td>3.537349</td>\n      <td>10.055828</td>\n      <td>0.205601</td>\n      <td>438</td>\n      <td>2017</td>\n      <td>10</td>\n      <td>5</td>\n      <td>78.0</td>\n      <td>2017_10_5</td>\n      <td>T2</td>\n    </tr>\n  </tbody>\n</table>\n<p>1000 rows × 425 columns</p>\n</div>"
     },
     "execution_count": 3,
     "metadata": {},
     "output_type": "execute_result"
    }
   ],
   "source": [
    "df = pd.read_pickle(os.path.join(\"data\", \"mvnx_merged_data_train_validation_test_preprocessed_har_without_null.pkl\"))\n",
    "df.head(1000)"
   ],
   "metadata": {
    "collapsed": false
   }
  },
  {
   "cell_type": "code",
   "execution_count": 4,
   "outputs": [],
   "source": [
    "fold_groups = df.key\n",
    "data = df.drop(columns=['id', 'sample', 'speed', 'key'])"
   ],
   "metadata": {
    "collapsed": false
   }
  },
  {
   "cell_type": "code",
   "execution_count": 7,
   "outputs": [
    {
     "data": {
      "text/plain": "<IPython.core.display.HTML object>",
      "text/html": ""
     },
     "metadata": {},
     "output_type": "display_data"
    }
   ],
   "source": [
    "model = setup(data = data, target = 'segment', session_id=123, fold_strategy='groupkfold', fold=3,  fold_groups=fold_groups, normalize=True,\n",
    "              normalize_method='minmax', remove_multicollinearity = True, multicollinearity_threshold = 0.6, feature_selection = True)"
   ],
   "metadata": {
    "collapsed": false
   }
  },
  {
   "cell_type": "code",
   "execution_count": null,
   "outputs": [],
   "source": [],
   "metadata": {
    "collapsed": false
   }
  }
 ],
 "metadata": {
  "kernelspec": {
   "display_name": "Python 3",
   "language": "python",
   "name": "python3"
  },
  "language_info": {
   "codemirror_mode": {
    "name": "ipython",
    "version": 2
   },
   "file_extension": ".py",
   "mimetype": "text/x-python",
   "name": "python",
   "nbconvert_exporter": "python",
   "pygments_lexer": "ipython2",
   "version": "2.7.6"
  }
 },
 "nbformat": 4,
 "nbformat_minor": 0
}
