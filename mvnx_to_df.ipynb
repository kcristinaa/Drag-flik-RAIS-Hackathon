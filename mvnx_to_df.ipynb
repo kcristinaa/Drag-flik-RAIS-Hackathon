{
 "cells": [
  {
   "cell_type": "code",
   "execution_count": 28,
   "metadata": {
    "collapsed": true
   },
   "outputs": [],
   "source": [
    "import glob\n",
    "from datetime import datetime\n",
    "import os\n",
    "\n",
    "import pandas as pd\n",
    "from dataprep.eda import create_report\n",
    "from tqdm import tqdm\n",
    "\n",
    "from load_mvnx import load_mvnx\n",
    "from utility_functions import read_single_mvnx_to_df, read_mvnx_metadata\n",
    "\n",
    "DATA_DIRECTORY = 'D:\\\\Projects\\\\Drag-flik-RAIS-Hackathon\\\\data'"
   ]
  },
  {
   "cell_type": "code",
   "execution_count": 29,
   "outputs": [
    {
     "name": "stdout",
     "output_type": "stream",
     "text": [
      "Identified 1722 .mvnx files...\n"
     ]
    }
   ],
   "source": [
    "file_names = []\n",
    "for f in glob.glob(os.path.join(DATA_DIRECTORY, '**\\\\*.mvnx'), recursive=True):\n",
    "    file_names.append(f)\n",
    "print(\"Identified {} .mvnx files...\".format(len(file_names)))"
   ],
   "metadata": {
    "collapsed": false
   }
  },
  {
   "cell_type": "code",
   "execution_count": 30,
   "outputs": [
    {
     "name": "stderr",
     "output_type": "stream",
     "text": [
      " 41%|████      | 701/1722 [20:30<35:40,  2.10s/it]  "
     ]
    },
    {
     "name": "stdout",
     "output_type": "stream",
     "text": [
      "Not possible to parse file D:\\Projects\\Drag-flik-RAIS-Hackathon\\data\\2019\\Mvnx\\Body_32\\Body_32_2019 (16).mvnx\n"
     ]
    },
    {
     "name": "stderr",
     "output_type": "stream",
     "text": [
      " 42%|████▏     | 730/1722 [21:26<33:57,  2.05s/it]"
     ]
    },
    {
     "name": "stdout",
     "output_type": "stream",
     "text": [
      "Not possible to parse file D:\\Projects\\Drag-flik-RAIS-Hackathon\\data\\2019\\Mvnx\\Body_32\\Body_32\\Body_32_071019-017.mvnx\n"
     ]
    },
    {
     "name": "stderr",
     "output_type": "stream",
     "text": [
      " 46%|████▌     | 792/1722 [23:34<34:23,  2.22s/it]"
     ]
    },
    {
     "name": "stdout",
     "output_type": "stream",
     "text": [
      "Not possible to parse file D:\\Projects\\Drag-flik-RAIS-Hackathon\\data\\2019\\Mvnx\\Body_35\\Body_35_2019 (7).mvnx\n"
     ]
    },
    {
     "name": "stderr",
     "output_type": "stream",
     "text": [
      " 74%|███████▍  | 1272/1722 [42:57<23:15,  3.10s/it]"
     ]
    },
    {
     "name": "stdout",
     "output_type": "stream",
     "text": [
      "Not possible to parse file D:\\Projects\\Drag-flik-RAIS-Hackathon\\data\\2021_A\\Mvnx\\Body_65\\Body_65_290621-005.mvnx\n"
     ]
    },
    {
     "name": "stderr",
     "output_type": "stream",
     "text": [
      " 89%|████████▊ | 1526/1722 [56:40<10:30,  3.22s/it]"
     ]
    },
    {
     "name": "stdout",
     "output_type": "stream",
     "text": [
      "Not possible to parse file D:\\Projects\\Drag-flik-RAIS-Hackathon\\data\\2021_B\\Mvnx\\Body_75\\Body_75_2021B (1).mvnx\n"
     ]
    },
    {
     "name": "stderr",
     "output_type": "stream",
     "text": [
      " 89%|████████▉ | 1535/1722 [57:05<09:21,  3.01s/it]"
     ]
    },
    {
     "name": "stdout",
     "output_type": "stream",
     "text": [
      "Not possible to parse file D:\\Projects\\Drag-flik-RAIS-Hackathon\\data\\2021_B\\Mvnx\\Body_75\\Body_75_2021B (3).mvnx\n"
     ]
    },
    {
     "name": "stderr",
     "output_type": "stream",
     "text": [
      " 95%|█████████▍| 1632/1722 [1:02:16<05:54,  3.94s/it]"
     ]
    },
    {
     "name": "stdout",
     "output_type": "stream",
     "text": [
      "Not possible to parse file D:\\Projects\\Drag-flik-RAIS-Hackathon\\data\\2021_B\\Mvnx\\Body_83\\Body_83_2021B (1).mvnx\n"
     ]
    },
    {
     "name": "stderr",
     "output_type": "stream",
     "text": [
      " 95%|█████████▌| 1642/1722 [1:02:43<04:01,  3.02s/it]"
     ]
    },
    {
     "name": "stdout",
     "output_type": "stream",
     "text": [
      "Not possible to parse file D:\\Projects\\Drag-flik-RAIS-Hackathon\\data\\2021_B\\Mvnx\\Body_83\\Body_83_2021B (5).mvnx\n"
     ]
    },
    {
     "name": "stderr",
     "output_type": "stream",
     "text": [
      "100%|██████████| 1722/1722 [1:07:23<00:00,  2.35s/it]\n"
     ]
    }
   ],
   "source": [
    "df = pd.DataFrame()\n",
    "for file_name in tqdm(file_names):\n",
    "    mvnx_file = load_mvnx(os.path.join(DATA_DIRECTORY, file_name))\n",
    "    if mvnx_file is None:\n",
    "        print(\"Not possible to parse file {}\".format(file_name))\n",
    "        continue\n",
    "    file_df = read_single_mvnx_to_df(mvnx_file, disable_print=True)\n",
    "    # add metadata\n",
    "    year, id, sample, gender = read_mvnx_metadata(mvnx_file, file_name)\n",
    "    if 'A' in year or 'B' in year:\n",
    "        year = '2021'\n",
    "\n",
    "    file_df = pd.concat([file_df, pd.Series(year, name='year'), pd.Series(id, name='id'), pd.Series(sample, name='sample'), pd.Series(gender, name='gender')], axis=1)\n",
    "    file_df[['year', 'gender', 'id', 'sample']] = file_df[['year', 'gender', 'id', 'sample']].ffill()\n",
    "    df = pd.concat([df, file_df], axis=0)"
   ],
   "metadata": {
    "collapsed": false
   }
  },
  {
   "cell_type": "code",
   "execution_count": 31,
   "outputs": [
    {
     "data": {
      "text/plain": "   Pelvis_acc_0  Pelvis_acc_1  Pelvis_acc_2  Pelvis_angular_acc_0  \\\n0      0.065029      0.060930     -0.063273              0.848845   \n1      0.124831     -0.110555     -0.033831             -0.365366   \n2      0.149079     -0.071584     -0.092055              0.063539   \n3      0.071367     -0.329402     -0.074564             -1.390745   \n4      0.150359     -0.121912     -0.028015             -0.380801   \n\n   Pelvis_angular_acc_1  Pelvis_angular_acc_2  Pelvis_vel_0  Pelvis_vel_1  \\\n0             -0.554506             -1.050589     -0.069628      0.014435   \n1             -0.883694             -0.479441     -0.068602      0.014635   \n2             -0.969149             -0.945796     -0.067396      0.014898   \n3             -0.642128             -0.478393     -0.066487      0.014024   \n4             -1.111007             -0.887547     -0.065267      0.013861   \n\n   Pelvis_vel_2  Pelvis_angular_vel_0  ...  LeftToe_angular_vel_0  \\\n0      0.004669              0.060686  ...                    NaN   \n1      0.004517              0.059164  ...                    NaN   \n2      0.004128              0.059429  ...                    NaN   \n3      0.003817              0.053634  ...                    NaN   \n4      0.003700              0.052047  ...                    NaN   \n\n   LeftToe_angular_vel_1  LeftToe_angular_vel_2  LeftToe_ori_0  LeftToe_ori_1  \\\n0                    NaN                    NaN            NaN            NaN   \n1                    NaN                    NaN            NaN            NaN   \n2                    NaN                    NaN            NaN            NaN   \n3                    NaN                    NaN            NaN            NaN   \n4                    NaN                    NaN            NaN            NaN   \n\n   LeftToe_ori_2  LeftToe_ori_3  LeftToe_pos_0  LeftToe_pos_1  LeftToe_pos_2  \n0            NaN            NaN            NaN            NaN            NaN  \n1            NaN            NaN            NaN            NaN            NaN  \n2            NaN            NaN            NaN            NaN            NaN  \n3            NaN            NaN            NaN            NaN            NaN  \n4            NaN            NaN            NaN            NaN            NaN  \n\n[5 rows x 442 columns]",
      "text/html": "<div>\n<style scoped>\n    .dataframe tbody tr th:only-of-type {\n        vertical-align: middle;\n    }\n\n    .dataframe tbody tr th {\n        vertical-align: top;\n    }\n\n    .dataframe thead th {\n        text-align: right;\n    }\n</style>\n<table border=\"1\" class=\"dataframe\">\n  <thead>\n    <tr style=\"text-align: right;\">\n      <th></th>\n      <th>Pelvis_acc_0</th>\n      <th>Pelvis_acc_1</th>\n      <th>Pelvis_acc_2</th>\n      <th>Pelvis_angular_acc_0</th>\n      <th>Pelvis_angular_acc_1</th>\n      <th>Pelvis_angular_acc_2</th>\n      <th>Pelvis_vel_0</th>\n      <th>Pelvis_vel_1</th>\n      <th>Pelvis_vel_2</th>\n      <th>Pelvis_angular_vel_0</th>\n      <th>...</th>\n      <th>LeftToe_angular_vel_0</th>\n      <th>LeftToe_angular_vel_1</th>\n      <th>LeftToe_angular_vel_2</th>\n      <th>LeftToe_ori_0</th>\n      <th>LeftToe_ori_1</th>\n      <th>LeftToe_ori_2</th>\n      <th>LeftToe_ori_3</th>\n      <th>LeftToe_pos_0</th>\n      <th>LeftToe_pos_1</th>\n      <th>LeftToe_pos_2</th>\n    </tr>\n  </thead>\n  <tbody>\n    <tr>\n      <th>0</th>\n      <td>0.065029</td>\n      <td>0.060930</td>\n      <td>-0.063273</td>\n      <td>0.848845</td>\n      <td>-0.554506</td>\n      <td>-1.050589</td>\n      <td>-0.069628</td>\n      <td>0.014435</td>\n      <td>0.004669</td>\n      <td>0.060686</td>\n      <td>...</td>\n      <td>NaN</td>\n      <td>NaN</td>\n      <td>NaN</td>\n      <td>NaN</td>\n      <td>NaN</td>\n      <td>NaN</td>\n      <td>NaN</td>\n      <td>NaN</td>\n      <td>NaN</td>\n      <td>NaN</td>\n    </tr>\n    <tr>\n      <th>1</th>\n      <td>0.124831</td>\n      <td>-0.110555</td>\n      <td>-0.033831</td>\n      <td>-0.365366</td>\n      <td>-0.883694</td>\n      <td>-0.479441</td>\n      <td>-0.068602</td>\n      <td>0.014635</td>\n      <td>0.004517</td>\n      <td>0.059164</td>\n      <td>...</td>\n      <td>NaN</td>\n      <td>NaN</td>\n      <td>NaN</td>\n      <td>NaN</td>\n      <td>NaN</td>\n      <td>NaN</td>\n      <td>NaN</td>\n      <td>NaN</td>\n      <td>NaN</td>\n      <td>NaN</td>\n    </tr>\n    <tr>\n      <th>2</th>\n      <td>0.149079</td>\n      <td>-0.071584</td>\n      <td>-0.092055</td>\n      <td>0.063539</td>\n      <td>-0.969149</td>\n      <td>-0.945796</td>\n      <td>-0.067396</td>\n      <td>0.014898</td>\n      <td>0.004128</td>\n      <td>0.059429</td>\n      <td>...</td>\n      <td>NaN</td>\n      <td>NaN</td>\n      <td>NaN</td>\n      <td>NaN</td>\n      <td>NaN</td>\n      <td>NaN</td>\n      <td>NaN</td>\n      <td>NaN</td>\n      <td>NaN</td>\n      <td>NaN</td>\n    </tr>\n    <tr>\n      <th>3</th>\n      <td>0.071367</td>\n      <td>-0.329402</td>\n      <td>-0.074564</td>\n      <td>-1.390745</td>\n      <td>-0.642128</td>\n      <td>-0.478393</td>\n      <td>-0.066487</td>\n      <td>0.014024</td>\n      <td>0.003817</td>\n      <td>0.053634</td>\n      <td>...</td>\n      <td>NaN</td>\n      <td>NaN</td>\n      <td>NaN</td>\n      <td>NaN</td>\n      <td>NaN</td>\n      <td>NaN</td>\n      <td>NaN</td>\n      <td>NaN</td>\n      <td>NaN</td>\n      <td>NaN</td>\n    </tr>\n    <tr>\n      <th>4</th>\n      <td>0.150359</td>\n      <td>-0.121912</td>\n      <td>-0.028015</td>\n      <td>-0.380801</td>\n      <td>-1.111007</td>\n      <td>-0.887547</td>\n      <td>-0.065267</td>\n      <td>0.013861</td>\n      <td>0.003700</td>\n      <td>0.052047</td>\n      <td>...</td>\n      <td>NaN</td>\n      <td>NaN</td>\n      <td>NaN</td>\n      <td>NaN</td>\n      <td>NaN</td>\n      <td>NaN</td>\n      <td>NaN</td>\n      <td>NaN</td>\n      <td>NaN</td>\n      <td>NaN</td>\n    </tr>\n  </tbody>\n</table>\n<p>5 rows × 442 columns</p>\n</div>"
     },
     "execution_count": 31,
     "metadata": {},
     "output_type": "execute_result"
    }
   ],
   "source": [
    "df.head()"
   ],
   "metadata": {
    "collapsed": false
   }
  },
  {
   "cell_type": "code",
   "execution_count": 33,
   "outputs": [],
   "source": [
    "df = df.astype({'year': int, 'id': int, 'sample': int})"
   ],
   "metadata": {
    "collapsed": false
   }
  },
  {
   "cell_type": "code",
   "execution_count": 34,
   "outputs": [],
   "source": [
    "df.to_pickle('mvnx_data.pkl')"
   ],
   "metadata": {
    "collapsed": false
   }
  },
  {
   "cell_type": "code",
   "execution_count": 35,
   "outputs": [],
   "source": [
    "label = pd.read_csv(os.path.join(\"data\", \"ballspeed.csv\"))"
   ],
   "metadata": {
    "collapsed": false
   }
  },
  {
   "cell_type": "code",
   "execution_count": 36,
   "outputs": [
    {
     "data": {
      "text/plain": "   id  year  sample  speed\n0   1  2017       1   65.0\n1   1  2017       2   69.0\n2   1  2017       3   70.0\n3   1  2017       4   69.0\n4   1  2017       5   69.0",
      "text/html": "<div>\n<style scoped>\n    .dataframe tbody tr th:only-of-type {\n        vertical-align: middle;\n    }\n\n    .dataframe tbody tr th {\n        vertical-align: top;\n    }\n\n    .dataframe thead th {\n        text-align: right;\n    }\n</style>\n<table border=\"1\" class=\"dataframe\">\n  <thead>\n    <tr style=\"text-align: right;\">\n      <th></th>\n      <th>id</th>\n      <th>year</th>\n      <th>sample</th>\n      <th>speed</th>\n    </tr>\n  </thead>\n  <tbody>\n    <tr>\n      <th>0</th>\n      <td>1</td>\n      <td>2017</td>\n      <td>1</td>\n      <td>65.0</td>\n    </tr>\n    <tr>\n      <th>1</th>\n      <td>1</td>\n      <td>2017</td>\n      <td>2</td>\n      <td>69.0</td>\n    </tr>\n    <tr>\n      <th>2</th>\n      <td>1</td>\n      <td>2017</td>\n      <td>3</td>\n      <td>70.0</td>\n    </tr>\n    <tr>\n      <th>3</th>\n      <td>1</td>\n      <td>2017</td>\n      <td>4</td>\n      <td>69.0</td>\n    </tr>\n    <tr>\n      <th>4</th>\n      <td>1</td>\n      <td>2017</td>\n      <td>5</td>\n      <td>69.0</td>\n    </tr>\n  </tbody>\n</table>\n</div>"
     },
     "execution_count": 36,
     "metadata": {},
     "output_type": "execute_result"
    }
   ],
   "source": [
    "label.head()"
   ],
   "metadata": {
    "collapsed": false
   }
  },
  {
   "cell_type": "code",
   "execution_count": 37,
   "outputs": [
    {
     "ename": "MemoryError",
     "evalue": "Unable to allocate 14.7 MiB for an array with shape (1, 1922335) and data type float64",
     "output_type": "error",
     "traceback": [
      "\u001B[1;31m---------------------------------------------------------------------------\u001B[0m",
      "\u001B[1;31mMemoryError\u001B[0m                               Traceback (most recent call last)",
      "Cell \u001B[1;32mIn[37], line 2\u001B[0m\n\u001B[0;32m      1\u001B[0m \u001B[38;5;66;03m# todo merge the ballspeed.csv based on id, year, and sample\u001B[39;00m\n\u001B[1;32m----> 2\u001B[0m merged \u001B[38;5;241m=\u001B[39m \u001B[43mdf\u001B[49m\u001B[38;5;241;43m.\u001B[39;49m\u001B[43mmerge\u001B[49m\u001B[43m(\u001B[49m\u001B[43mlabel\u001B[49m\u001B[43m,\u001B[49m\u001B[43m \u001B[49m\u001B[43mon\u001B[49m\u001B[38;5;241;43m=\u001B[39;49m\u001B[43m[\u001B[49m\u001B[38;5;124;43m'\u001B[39;49m\u001B[38;5;124;43myear\u001B[39;49m\u001B[38;5;124;43m'\u001B[39;49m\u001B[43m,\u001B[49m\u001B[43m \u001B[49m\u001B[38;5;124;43m'\u001B[39;49m\u001B[38;5;124;43mid\u001B[39;49m\u001B[38;5;124;43m'\u001B[39;49m\u001B[43m,\u001B[49m\u001B[43m \u001B[49m\u001B[38;5;124;43m'\u001B[39;49m\u001B[38;5;124;43msample\u001B[39;49m\u001B[38;5;124;43m'\u001B[39;49m\u001B[43m]\u001B[49m\u001B[43m,\u001B[49m\u001B[43m \u001B[49m\u001B[43mhow\u001B[49m\u001B[38;5;241;43m=\u001B[39;49m\u001B[38;5;124;43m'\u001B[39;49m\u001B[38;5;124;43minner\u001B[39;49m\u001B[38;5;124;43m'\u001B[39;49m\u001B[43m)\u001B[49m\n\u001B[0;32m      3\u001B[0m \u001B[38;5;28mprint\u001B[39m(\u001B[38;5;124m\"\u001B[39m\u001B[38;5;124mLabels shape: \u001B[39m\u001B[38;5;132;01m{}\u001B[39;00m\u001B[38;5;124m - Features Shape: \u001B[39m\u001B[38;5;132;01m{}\u001B[39;00m\u001B[38;5;124m - Inner Join Merged df Shape: \u001B[39m\u001B[38;5;132;01m{}\u001B[39;00m\u001B[38;5;124m\"\u001B[39m\u001B[38;5;241m.\u001B[39mformat(label\u001B[38;5;241m.\u001B[39mshape, df\u001B[38;5;241m.\u001B[39mshape, merged\u001B[38;5;241m.\u001B[39mshape))\n",
      "File \u001B[1;32mD:\\Projects\\Drag-flik-RAIS-Hackathon\\venv\\lib\\site-packages\\pandas\\core\\frame.py:10090\u001B[0m, in \u001B[0;36mDataFrame.merge\u001B[1;34m(self, right, how, on, left_on, right_on, left_index, right_index, sort, suffixes, copy, indicator, validate)\u001B[0m\n\u001B[0;32m  10071\u001B[0m \u001B[38;5;129m@Substitution\u001B[39m(\u001B[38;5;124m\"\u001B[39m\u001B[38;5;124m\"\u001B[39m)\n\u001B[0;32m  10072\u001B[0m \u001B[38;5;129m@Appender\u001B[39m(_merge_doc, indents\u001B[38;5;241m=\u001B[39m\u001B[38;5;241m2\u001B[39m)\n\u001B[0;32m  10073\u001B[0m \u001B[38;5;28;01mdef\u001B[39;00m \u001B[38;5;21mmerge\u001B[39m(\n\u001B[1;32m   (...)\u001B[0m\n\u001B[0;32m  10086\u001B[0m     validate: \u001B[38;5;28mstr\u001B[39m \u001B[38;5;241m|\u001B[39m \u001B[38;5;28;01mNone\u001B[39;00m \u001B[38;5;241m=\u001B[39m \u001B[38;5;28;01mNone\u001B[39;00m,\n\u001B[0;32m  10087\u001B[0m ) \u001B[38;5;241m-\u001B[39m\u001B[38;5;241m>\u001B[39m DataFrame:\n\u001B[0;32m  10088\u001B[0m     \u001B[38;5;28;01mfrom\u001B[39;00m \u001B[38;5;21;01mpandas\u001B[39;00m\u001B[38;5;21;01m.\u001B[39;00m\u001B[38;5;21;01mcore\u001B[39;00m\u001B[38;5;21;01m.\u001B[39;00m\u001B[38;5;21;01mreshape\u001B[39;00m\u001B[38;5;21;01m.\u001B[39;00m\u001B[38;5;21;01mmerge\u001B[39;00m \u001B[38;5;28;01mimport\u001B[39;00m merge\n\u001B[1;32m> 10090\u001B[0m     \u001B[38;5;28;01mreturn\u001B[39;00m \u001B[43mmerge\u001B[49m\u001B[43m(\u001B[49m\n\u001B[0;32m  10091\u001B[0m \u001B[43m        \u001B[49m\u001B[38;5;28;43mself\u001B[39;49m\u001B[43m,\u001B[49m\n\u001B[0;32m  10092\u001B[0m \u001B[43m        \u001B[49m\u001B[43mright\u001B[49m\u001B[43m,\u001B[49m\n\u001B[0;32m  10093\u001B[0m \u001B[43m        \u001B[49m\u001B[43mhow\u001B[49m\u001B[38;5;241;43m=\u001B[39;49m\u001B[43mhow\u001B[49m\u001B[43m,\u001B[49m\n\u001B[0;32m  10094\u001B[0m \u001B[43m        \u001B[49m\u001B[43mon\u001B[49m\u001B[38;5;241;43m=\u001B[39;49m\u001B[43mon\u001B[49m\u001B[43m,\u001B[49m\n\u001B[0;32m  10095\u001B[0m \u001B[43m        \u001B[49m\u001B[43mleft_on\u001B[49m\u001B[38;5;241;43m=\u001B[39;49m\u001B[43mleft_on\u001B[49m\u001B[43m,\u001B[49m\n\u001B[0;32m  10096\u001B[0m \u001B[43m        \u001B[49m\u001B[43mright_on\u001B[49m\u001B[38;5;241;43m=\u001B[39;49m\u001B[43mright_on\u001B[49m\u001B[43m,\u001B[49m\n\u001B[0;32m  10097\u001B[0m \u001B[43m        \u001B[49m\u001B[43mleft_index\u001B[49m\u001B[38;5;241;43m=\u001B[39;49m\u001B[43mleft_index\u001B[49m\u001B[43m,\u001B[49m\n\u001B[0;32m  10098\u001B[0m \u001B[43m        \u001B[49m\u001B[43mright_index\u001B[49m\u001B[38;5;241;43m=\u001B[39;49m\u001B[43mright_index\u001B[49m\u001B[43m,\u001B[49m\n\u001B[0;32m  10099\u001B[0m \u001B[43m        \u001B[49m\u001B[43msort\u001B[49m\u001B[38;5;241;43m=\u001B[39;49m\u001B[43msort\u001B[49m\u001B[43m,\u001B[49m\n\u001B[0;32m  10100\u001B[0m \u001B[43m        \u001B[49m\u001B[43msuffixes\u001B[49m\u001B[38;5;241;43m=\u001B[39;49m\u001B[43msuffixes\u001B[49m\u001B[43m,\u001B[49m\n\u001B[0;32m  10101\u001B[0m \u001B[43m        \u001B[49m\u001B[43mcopy\u001B[49m\u001B[38;5;241;43m=\u001B[39;49m\u001B[43mcopy\u001B[49m\u001B[43m,\u001B[49m\n\u001B[0;32m  10102\u001B[0m \u001B[43m        \u001B[49m\u001B[43mindicator\u001B[49m\u001B[38;5;241;43m=\u001B[39;49m\u001B[43mindicator\u001B[49m\u001B[43m,\u001B[49m\n\u001B[0;32m  10103\u001B[0m \u001B[43m        \u001B[49m\u001B[43mvalidate\u001B[49m\u001B[38;5;241;43m=\u001B[39;49m\u001B[43mvalidate\u001B[49m\u001B[43m,\u001B[49m\n\u001B[0;32m  10104\u001B[0m \u001B[43m    \u001B[49m\u001B[43m)\u001B[49m\n",
      "File \u001B[1;32mD:\\Projects\\Drag-flik-RAIS-Hackathon\\venv\\lib\\site-packages\\pandas\\core\\reshape\\merge.py:124\u001B[0m, in \u001B[0;36mmerge\u001B[1;34m(left, right, how, on, left_on, right_on, left_index, right_index, sort, suffixes, copy, indicator, validate)\u001B[0m\n\u001B[0;32m     93\u001B[0m \u001B[38;5;129m@Substitution\u001B[39m(\u001B[38;5;124m\"\u001B[39m\u001B[38;5;130;01m\\n\u001B[39;00m\u001B[38;5;124mleft : DataFrame or named Series\u001B[39m\u001B[38;5;124m\"\u001B[39m)\n\u001B[0;32m     94\u001B[0m \u001B[38;5;129m@Appender\u001B[39m(_merge_doc, indents\u001B[38;5;241m=\u001B[39m\u001B[38;5;241m0\u001B[39m)\n\u001B[0;32m     95\u001B[0m \u001B[38;5;28;01mdef\u001B[39;00m \u001B[38;5;21mmerge\u001B[39m(\n\u001B[1;32m   (...)\u001B[0m\n\u001B[0;32m    108\u001B[0m     validate: \u001B[38;5;28mstr\u001B[39m \u001B[38;5;241m|\u001B[39m \u001B[38;5;28;01mNone\u001B[39;00m \u001B[38;5;241m=\u001B[39m \u001B[38;5;28;01mNone\u001B[39;00m,\n\u001B[0;32m    109\u001B[0m ) \u001B[38;5;241m-\u001B[39m\u001B[38;5;241m>\u001B[39m DataFrame:\n\u001B[0;32m    110\u001B[0m     op \u001B[38;5;241m=\u001B[39m _MergeOperation(\n\u001B[0;32m    111\u001B[0m         left,\n\u001B[0;32m    112\u001B[0m         right,\n\u001B[1;32m   (...)\u001B[0m\n\u001B[0;32m    122\u001B[0m         validate\u001B[38;5;241m=\u001B[39mvalidate,\n\u001B[0;32m    123\u001B[0m     )\n\u001B[1;32m--> 124\u001B[0m     \u001B[38;5;28;01mreturn\u001B[39;00m \u001B[43mop\u001B[49m\u001B[38;5;241;43m.\u001B[39;49m\u001B[43mget_result\u001B[49m\u001B[43m(\u001B[49m\u001B[43mcopy\u001B[49m\u001B[38;5;241;43m=\u001B[39;49m\u001B[43mcopy\u001B[49m\u001B[43m)\u001B[49m\n",
      "File \u001B[1;32mD:\\Projects\\Drag-flik-RAIS-Hackathon\\venv\\lib\\site-packages\\pandas\\core\\reshape\\merge.py:775\u001B[0m, in \u001B[0;36m_MergeOperation.get_result\u001B[1;34m(self, copy)\u001B[0m\n\u001B[0;32m    771\u001B[0m     \u001B[38;5;28mself\u001B[39m\u001B[38;5;241m.\u001B[39mleft, \u001B[38;5;28mself\u001B[39m\u001B[38;5;241m.\u001B[39mright \u001B[38;5;241m=\u001B[39m \u001B[38;5;28mself\u001B[39m\u001B[38;5;241m.\u001B[39m_indicator_pre_merge(\u001B[38;5;28mself\u001B[39m\u001B[38;5;241m.\u001B[39mleft, \u001B[38;5;28mself\u001B[39m\u001B[38;5;241m.\u001B[39mright)\n\u001B[0;32m    773\u001B[0m join_index, left_indexer, right_indexer \u001B[38;5;241m=\u001B[39m \u001B[38;5;28mself\u001B[39m\u001B[38;5;241m.\u001B[39m_get_join_info()\n\u001B[1;32m--> 775\u001B[0m result \u001B[38;5;241m=\u001B[39m \u001B[38;5;28;43mself\u001B[39;49m\u001B[38;5;241;43m.\u001B[39;49m\u001B[43m_reindex_and_concat\u001B[49m\u001B[43m(\u001B[49m\n\u001B[0;32m    776\u001B[0m \u001B[43m    \u001B[49m\u001B[43mjoin_index\u001B[49m\u001B[43m,\u001B[49m\u001B[43m \u001B[49m\u001B[43mleft_indexer\u001B[49m\u001B[43m,\u001B[49m\u001B[43m \u001B[49m\u001B[43mright_indexer\u001B[49m\u001B[43m,\u001B[49m\u001B[43m \u001B[49m\u001B[43mcopy\u001B[49m\u001B[38;5;241;43m=\u001B[39;49m\u001B[43mcopy\u001B[49m\n\u001B[0;32m    777\u001B[0m \u001B[43m\u001B[49m\u001B[43m)\u001B[49m\n\u001B[0;32m    778\u001B[0m result \u001B[38;5;241m=\u001B[39m result\u001B[38;5;241m.\u001B[39m__finalize__(\u001B[38;5;28mself\u001B[39m, method\u001B[38;5;241m=\u001B[39m\u001B[38;5;28mself\u001B[39m\u001B[38;5;241m.\u001B[39m_merge_type)\n\u001B[0;32m    780\u001B[0m \u001B[38;5;28;01mif\u001B[39;00m \u001B[38;5;28mself\u001B[39m\u001B[38;5;241m.\u001B[39mindicator:\n",
      "File \u001B[1;32mD:\\Projects\\Drag-flik-RAIS-Hackathon\\venv\\lib\\site-packages\\pandas\\core\\reshape\\merge.py:766\u001B[0m, in \u001B[0;36m_MergeOperation._reindex_and_concat\u001B[1;34m(self, join_index, left_indexer, right_indexer, copy)\u001B[0m\n\u001B[0;32m    764\u001B[0m left\u001B[38;5;241m.\u001B[39mcolumns \u001B[38;5;241m=\u001B[39m llabels\n\u001B[0;32m    765\u001B[0m right\u001B[38;5;241m.\u001B[39mcolumns \u001B[38;5;241m=\u001B[39m rlabels\n\u001B[1;32m--> 766\u001B[0m result \u001B[38;5;241m=\u001B[39m \u001B[43mconcat\u001B[49m\u001B[43m(\u001B[49m\u001B[43m[\u001B[49m\u001B[43mleft\u001B[49m\u001B[43m,\u001B[49m\u001B[43m \u001B[49m\u001B[43mright\u001B[49m\u001B[43m]\u001B[49m\u001B[43m,\u001B[49m\u001B[43m \u001B[49m\u001B[43maxis\u001B[49m\u001B[38;5;241;43m=\u001B[39;49m\u001B[38;5;241;43m1\u001B[39;49m\u001B[43m,\u001B[49m\u001B[43m \u001B[49m\u001B[43mcopy\u001B[49m\u001B[38;5;241;43m=\u001B[39;49m\u001B[43mcopy\u001B[49m\u001B[43m)\u001B[49m\n\u001B[0;32m    767\u001B[0m \u001B[38;5;28;01mreturn\u001B[39;00m result\n",
      "File \u001B[1;32mD:\\Projects\\Drag-flik-RAIS-Hackathon\\venv\\lib\\site-packages\\pandas\\util\\_decorators.py:331\u001B[0m, in \u001B[0;36mdeprecate_nonkeyword_arguments.<locals>.decorate.<locals>.wrapper\u001B[1;34m(*args, **kwargs)\u001B[0m\n\u001B[0;32m    325\u001B[0m \u001B[38;5;28;01mif\u001B[39;00m \u001B[38;5;28mlen\u001B[39m(args) \u001B[38;5;241m>\u001B[39m num_allow_args:\n\u001B[0;32m    326\u001B[0m     warnings\u001B[38;5;241m.\u001B[39mwarn(\n\u001B[0;32m    327\u001B[0m         msg\u001B[38;5;241m.\u001B[39mformat(arguments\u001B[38;5;241m=\u001B[39m_format_argument_list(allow_args)),\n\u001B[0;32m    328\u001B[0m         \u001B[38;5;167;01mFutureWarning\u001B[39;00m,\n\u001B[0;32m    329\u001B[0m         stacklevel\u001B[38;5;241m=\u001B[39mfind_stack_level(),\n\u001B[0;32m    330\u001B[0m     )\n\u001B[1;32m--> 331\u001B[0m \u001B[38;5;28;01mreturn\u001B[39;00m func(\u001B[38;5;241m*\u001B[39margs, \u001B[38;5;241m*\u001B[39m\u001B[38;5;241m*\u001B[39mkwargs)\n",
      "File \u001B[1;32mD:\\Projects\\Drag-flik-RAIS-Hackathon\\venv\\lib\\site-packages\\pandas\\core\\reshape\\concat.py:381\u001B[0m, in \u001B[0;36mconcat\u001B[1;34m(objs, axis, join, ignore_index, keys, levels, names, verify_integrity, sort, copy)\u001B[0m\n\u001B[0;32m    159\u001B[0m \u001B[38;5;124;03m\"\"\"\u001B[39;00m\n\u001B[0;32m    160\u001B[0m \u001B[38;5;124;03mConcatenate pandas objects along a particular axis.\u001B[39;00m\n\u001B[0;32m    161\u001B[0m \n\u001B[1;32m   (...)\u001B[0m\n\u001B[0;32m    366\u001B[0m \u001B[38;5;124;03m1   3   4\u001B[39;00m\n\u001B[0;32m    367\u001B[0m \u001B[38;5;124;03m\"\"\"\u001B[39;00m\n\u001B[0;32m    368\u001B[0m op \u001B[38;5;241m=\u001B[39m _Concatenator(\n\u001B[0;32m    369\u001B[0m     objs,\n\u001B[0;32m    370\u001B[0m     axis\u001B[38;5;241m=\u001B[39maxis,\n\u001B[1;32m   (...)\u001B[0m\n\u001B[0;32m    378\u001B[0m     sort\u001B[38;5;241m=\u001B[39msort,\n\u001B[0;32m    379\u001B[0m )\n\u001B[1;32m--> 381\u001B[0m \u001B[38;5;28;01mreturn\u001B[39;00m \u001B[43mop\u001B[49m\u001B[38;5;241;43m.\u001B[39;49m\u001B[43mget_result\u001B[49m\u001B[43m(\u001B[49m\u001B[43m)\u001B[49m\n",
      "File \u001B[1;32mD:\\Projects\\Drag-flik-RAIS-Hackathon\\venv\\lib\\site-packages\\pandas\\core\\reshape\\concat.py:616\u001B[0m, in \u001B[0;36m_Concatenator.get_result\u001B[1;34m(self)\u001B[0m\n\u001B[0;32m    612\u001B[0m             indexers[ax] \u001B[38;5;241m=\u001B[39m obj_labels\u001B[38;5;241m.\u001B[39mget_indexer(new_labels)\n\u001B[0;32m    614\u001B[0m     mgrs_indexers\u001B[38;5;241m.\u001B[39mappend((obj\u001B[38;5;241m.\u001B[39m_mgr, indexers))\n\u001B[1;32m--> 616\u001B[0m new_data \u001B[38;5;241m=\u001B[39m \u001B[43mconcatenate_managers\u001B[49m\u001B[43m(\u001B[49m\n\u001B[0;32m    617\u001B[0m \u001B[43m    \u001B[49m\u001B[43mmgrs_indexers\u001B[49m\u001B[43m,\u001B[49m\u001B[43m \u001B[49m\u001B[38;5;28;43mself\u001B[39;49m\u001B[38;5;241;43m.\u001B[39;49m\u001B[43mnew_axes\u001B[49m\u001B[43m,\u001B[49m\u001B[43m \u001B[49m\u001B[43mconcat_axis\u001B[49m\u001B[38;5;241;43m=\u001B[39;49m\u001B[38;5;28;43mself\u001B[39;49m\u001B[38;5;241;43m.\u001B[39;49m\u001B[43mbm_axis\u001B[49m\u001B[43m,\u001B[49m\u001B[43m \u001B[49m\u001B[43mcopy\u001B[49m\u001B[38;5;241;43m=\u001B[39;49m\u001B[38;5;28;43mself\u001B[39;49m\u001B[38;5;241;43m.\u001B[39;49m\u001B[43mcopy\u001B[49m\n\u001B[0;32m    618\u001B[0m \u001B[43m\u001B[49m\u001B[43m)\u001B[49m\n\u001B[0;32m    619\u001B[0m \u001B[38;5;28;01mif\u001B[39;00m \u001B[38;5;129;01mnot\u001B[39;00m \u001B[38;5;28mself\u001B[39m\u001B[38;5;241m.\u001B[39mcopy:\n\u001B[0;32m    620\u001B[0m     new_data\u001B[38;5;241m.\u001B[39m_consolidate_inplace()\n",
      "File \u001B[1;32mD:\\Projects\\Drag-flik-RAIS-Hackathon\\venv\\lib\\site-packages\\pandas\\core\\internals\\concat.py:212\u001B[0m, in \u001B[0;36mconcatenate_managers\u001B[1;34m(mgrs_indexers, axes, concat_axis, copy)\u001B[0m\n\u001B[0;32m    210\u001B[0m values \u001B[38;5;241m=\u001B[39m blk\u001B[38;5;241m.\u001B[39mvalues\n\u001B[0;32m    211\u001B[0m \u001B[38;5;28;01mif\u001B[39;00m copy:\n\u001B[1;32m--> 212\u001B[0m     values \u001B[38;5;241m=\u001B[39m \u001B[43mvalues\u001B[49m\u001B[38;5;241;43m.\u001B[39;49m\u001B[43mcopy\u001B[49m\u001B[43m(\u001B[49m\u001B[43m)\u001B[49m\n\u001B[0;32m    213\u001B[0m \u001B[38;5;28;01melse\u001B[39;00m:\n\u001B[0;32m    214\u001B[0m     values \u001B[38;5;241m=\u001B[39m values\u001B[38;5;241m.\u001B[39mview()\n",
      "\u001B[1;31mMemoryError\u001B[0m: Unable to allocate 14.7 MiB for an array with shape (1, 1922335) and data type float64"
     ]
    }
   ],
   "source": [
    "# todo merge the ballspeed.csv based on id, year, and sample\n",
    "merged = df.merge(label, on=['year', 'id', 'sample'], how='inner')\n",
    "print(\"Labels shape: {} - Features Shape: {} - Inner Join Merged df Shape: {}\".format(label.shape, df.shape, merged.shape))"
   ],
   "metadata": {
    "collapsed": false
   }
  },
  {
   "cell_type": "code",
   "execution_count": null,
   "outputs": [],
   "source": [
    "merged.to_pickle('mvnx_merged_data.pkl')"
   ],
   "metadata": {
    "collapsed": false
   }
  },
  {
   "cell_type": "code",
   "execution_count": null,
   "outputs": [],
   "source": [
    "report = create_report(df, title='Kinetic Analysis').show_browser()"
   ],
   "metadata": {
    "collapsed": false,
    "pycharm": {
     "is_executing": true
    }
   }
  }
 ],
 "metadata": {
  "kernelspec": {
   "display_name": "Python 3",
   "language": "python",
   "name": "python3"
  },
  "language_info": {
   "codemirror_mode": {
    "name": "ipython",
    "version": 2
   },
   "file_extension": ".py",
   "mimetype": "text/x-python",
   "name": "python",
   "nbconvert_exporter": "python",
   "pygments_lexer": "ipython2",
   "version": "2.7.6"
  }
 },
 "nbformat": 4,
 "nbformat_minor": 0
}
