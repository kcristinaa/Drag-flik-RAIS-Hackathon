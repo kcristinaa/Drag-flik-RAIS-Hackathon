{
 "cells": [
  {
   "cell_type": "markdown",
   "source": [
    "### In this notebook we add the following features:\n",
    "1. stance width\n",
    "2. dragging distance\n",
    "3. foot-ball distance\n",
    "4. knee angles\n",
    "5. maximum knee flexion angle\n",
    "6. maximal angular lead knee extension velocity"
   ],
   "metadata": {
    "collapsed": false,
    "pycharm": {
     "name": "#%% md\n"
    }
   }
  },
  {
   "cell_type": "code",
   "execution_count": 60,
   "metadata": {
    "collapsed": true,
    "pycharm": {
     "name": "#%%\n"
    }
   },
   "outputs": [],
   "source": [
    "import numpy as np\n",
    "import pandas as pd\n",
    "import seaborn as sns\n",
    "import matplotlib.pyplot as plt\n",
    "from dataprep.eda import create_report"
   ]
  },
  {
   "cell_type": "markdown",
   "source": [
    "### Preprocess the data"
   ],
   "metadata": {
    "collapsed": false,
    "pycharm": {
     "name": "#%% md\n"
    }
   }
  },
  {
   "cell_type": "markdown",
   "source": [
    "Read the non-grouped segmented data"
   ],
   "metadata": {
    "collapsed": false,
    "pycharm": {
     "name": "#%% md\n"
    }
   }
  },
  {
   "cell_type": "code",
   "execution_count": 2,
   "outputs": [
    {
     "data": {
      "text/plain": "         Pelvis_acc_0  Pelvis_acc_1  Pelvis_acc_2  Pelvis_angular_acc_0  \\\n0            0.065029      0.060930     -0.063273              0.848845   \n1            0.124831     -0.110555     -0.033831             -0.365366   \n2            0.149079     -0.071584     -0.092055              0.063539   \n3            0.071367     -0.329402     -0.074564             -1.390745   \n4            0.150359     -0.121912     -0.028015             -0.380801   \n...               ...           ...           ...                   ...   \n1818484     -0.678712     -0.744590     -1.186564             -3.637199   \n1818485     -0.940335     -1.197655     -1.366915             -7.152955   \n1818486     -0.831967     -1.163168     -1.292596             -5.512093   \n1818487     -0.617368     -0.357365     -1.066019             -1.425752   \n1818488     -1.159579     -0.899015     -1.462578             -5.758271   \n\n         Pelvis_angular_acc_1  Pelvis_angular_acc_2  Pelvis_vel_0  \\\n0                   -0.554506             -1.050589     -0.069628   \n1                   -0.883694             -0.479441     -0.068602   \n2                   -0.969149             -0.945796     -0.067396   \n3                   -0.642128             -0.478393     -0.066487   \n4                   -1.111007             -0.887547     -0.065267   \n...                       ...                   ...           ...   \n1818484             -0.377002              4.884401      0.055096   \n1818485              0.081270              5.653244      0.051436   \n1818486             -0.151179              3.237055      0.047789   \n1818487             -2.776401              5.538847      0.044178   \n1818488              0.260591              6.279631      0.040622   \n\n         Pelvis_vel_1  Pelvis_vel_2  Pelvis_angular_vel_0  ...  \\\n0            0.014435      0.004669              0.060686  ...   \n1            0.014635      0.004517              0.059164  ...   \n2            0.014898      0.004128              0.059429  ...   \n3            0.014024      0.003817              0.053634  ...   \n4            0.013861      0.003700              0.052047  ...   \n...               ...           ...                   ...  ...   \n1818484      0.064242      0.032775             -0.310567  ...   \n1818485      0.061982      0.027549             -0.340371  ...   \n1818486      0.059788      0.022355             -0.363338  ...   \n1818487      0.057759      0.017240             -0.369279  ...   \n1818488      0.055993      0.012251             -0.393272  ...   \n\n         LeftFoot_pos_0  LeftFoot_pos_1  LeftFoot_pos_2  time  year  id  \\\n0              8.701041       11.541834        0.171602     0  2017   1   \n1              8.700834       11.541925        0.171608     4  2017   1   \n2              8.700640       11.542024        0.171618     9  2017   1   \n3              8.700454       11.542136        0.171630    13  2017   1   \n4              8.700278       11.542247        0.171644    17  2017   1   \n...                 ...             ...             ...   ...   ...  ..   \n1818484        6.571525        0.447844        0.226406  3234  2021  83   \n1818485        6.569550        0.451821        0.224835  3238  2021  83   \n1818486        6.567587        0.455787        0.223269  3242  2021  83   \n1818487        6.565653        0.459721        0.221714  3246  2021  83   \n1818488        6.563767        0.463606        0.220178  3250  2021  83   \n\n         sample  speed        key  segment  \n0             1   65.0   2017_1_1      NaN  \n1             1   65.0   2017_1_1      NaN  \n2             1   65.0   2017_1_1      NaN  \n3             1   65.0   2017_1_1      NaN  \n4             1   65.0   2017_1_1      NaN  \n...         ...    ...        ...      ...  \n1818484       2   80.0  2021_83_2      NaN  \n1818485       2   80.0  2021_83_2      NaN  \n1818486       2   80.0  2021_83_2      NaN  \n1818487       2   80.0  2021_83_2      NaN  \n1818488       2   80.0  2021_83_2      NaN  \n\n[1057637 rows x 425 columns]",
      "text/html": "<div>\n<style scoped>\n    .dataframe tbody tr th:only-of-type {\n        vertical-align: middle;\n    }\n\n    .dataframe tbody tr th {\n        vertical-align: top;\n    }\n\n    .dataframe thead th {\n        text-align: right;\n    }\n</style>\n<table border=\"1\" class=\"dataframe\">\n  <thead>\n    <tr style=\"text-align: right;\">\n      <th></th>\n      <th>Pelvis_acc_0</th>\n      <th>Pelvis_acc_1</th>\n      <th>Pelvis_acc_2</th>\n      <th>Pelvis_angular_acc_0</th>\n      <th>Pelvis_angular_acc_1</th>\n      <th>Pelvis_angular_acc_2</th>\n      <th>Pelvis_vel_0</th>\n      <th>Pelvis_vel_1</th>\n      <th>Pelvis_vel_2</th>\n      <th>Pelvis_angular_vel_0</th>\n      <th>...</th>\n      <th>LeftFoot_pos_0</th>\n      <th>LeftFoot_pos_1</th>\n      <th>LeftFoot_pos_2</th>\n      <th>time</th>\n      <th>year</th>\n      <th>id</th>\n      <th>sample</th>\n      <th>speed</th>\n      <th>key</th>\n      <th>segment</th>\n    </tr>\n  </thead>\n  <tbody>\n    <tr>\n      <th>0</th>\n      <td>0.065029</td>\n      <td>0.060930</td>\n      <td>-0.063273</td>\n      <td>0.848845</td>\n      <td>-0.554506</td>\n      <td>-1.050589</td>\n      <td>-0.069628</td>\n      <td>0.014435</td>\n      <td>0.004669</td>\n      <td>0.060686</td>\n      <td>...</td>\n      <td>8.701041</td>\n      <td>11.541834</td>\n      <td>0.171602</td>\n      <td>0</td>\n      <td>2017</td>\n      <td>1</td>\n      <td>1</td>\n      <td>65.0</td>\n      <td>2017_1_1</td>\n      <td>NaN</td>\n    </tr>\n    <tr>\n      <th>1</th>\n      <td>0.124831</td>\n      <td>-0.110555</td>\n      <td>-0.033831</td>\n      <td>-0.365366</td>\n      <td>-0.883694</td>\n      <td>-0.479441</td>\n      <td>-0.068602</td>\n      <td>0.014635</td>\n      <td>0.004517</td>\n      <td>0.059164</td>\n      <td>...</td>\n      <td>8.700834</td>\n      <td>11.541925</td>\n      <td>0.171608</td>\n      <td>4</td>\n      <td>2017</td>\n      <td>1</td>\n      <td>1</td>\n      <td>65.0</td>\n      <td>2017_1_1</td>\n      <td>NaN</td>\n    </tr>\n    <tr>\n      <th>2</th>\n      <td>0.149079</td>\n      <td>-0.071584</td>\n      <td>-0.092055</td>\n      <td>0.063539</td>\n      <td>-0.969149</td>\n      <td>-0.945796</td>\n      <td>-0.067396</td>\n      <td>0.014898</td>\n      <td>0.004128</td>\n      <td>0.059429</td>\n      <td>...</td>\n      <td>8.700640</td>\n      <td>11.542024</td>\n      <td>0.171618</td>\n      <td>9</td>\n      <td>2017</td>\n      <td>1</td>\n      <td>1</td>\n      <td>65.0</td>\n      <td>2017_1_1</td>\n      <td>NaN</td>\n    </tr>\n    <tr>\n      <th>3</th>\n      <td>0.071367</td>\n      <td>-0.329402</td>\n      <td>-0.074564</td>\n      <td>-1.390745</td>\n      <td>-0.642128</td>\n      <td>-0.478393</td>\n      <td>-0.066487</td>\n      <td>0.014024</td>\n      <td>0.003817</td>\n      <td>0.053634</td>\n      <td>...</td>\n      <td>8.700454</td>\n      <td>11.542136</td>\n      <td>0.171630</td>\n      <td>13</td>\n      <td>2017</td>\n      <td>1</td>\n      <td>1</td>\n      <td>65.0</td>\n      <td>2017_1_1</td>\n      <td>NaN</td>\n    </tr>\n    <tr>\n      <th>4</th>\n      <td>0.150359</td>\n      <td>-0.121912</td>\n      <td>-0.028015</td>\n      <td>-0.380801</td>\n      <td>-1.111007</td>\n      <td>-0.887547</td>\n      <td>-0.065267</td>\n      <td>0.013861</td>\n      <td>0.003700</td>\n      <td>0.052047</td>\n      <td>...</td>\n      <td>8.700278</td>\n      <td>11.542247</td>\n      <td>0.171644</td>\n      <td>17</td>\n      <td>2017</td>\n      <td>1</td>\n      <td>1</td>\n      <td>65.0</td>\n      <td>2017_1_1</td>\n      <td>NaN</td>\n    </tr>\n    <tr>\n      <th>...</th>\n      <td>...</td>\n      <td>...</td>\n      <td>...</td>\n      <td>...</td>\n      <td>...</td>\n      <td>...</td>\n      <td>...</td>\n      <td>...</td>\n      <td>...</td>\n      <td>...</td>\n      <td>...</td>\n      <td>...</td>\n      <td>...</td>\n      <td>...</td>\n      <td>...</td>\n      <td>...</td>\n      <td>...</td>\n      <td>...</td>\n      <td>...</td>\n      <td>...</td>\n      <td>...</td>\n    </tr>\n    <tr>\n      <th>1818484</th>\n      <td>-0.678712</td>\n      <td>-0.744590</td>\n      <td>-1.186564</td>\n      <td>-3.637199</td>\n      <td>-0.377002</td>\n      <td>4.884401</td>\n      <td>0.055096</td>\n      <td>0.064242</td>\n      <td>0.032775</td>\n      <td>-0.310567</td>\n      <td>...</td>\n      <td>6.571525</td>\n      <td>0.447844</td>\n      <td>0.226406</td>\n      <td>3234</td>\n      <td>2021</td>\n      <td>83</td>\n      <td>2</td>\n      <td>80.0</td>\n      <td>2021_83_2</td>\n      <td>NaN</td>\n    </tr>\n    <tr>\n      <th>1818485</th>\n      <td>-0.940335</td>\n      <td>-1.197655</td>\n      <td>-1.366915</td>\n      <td>-7.152955</td>\n      <td>0.081270</td>\n      <td>5.653244</td>\n      <td>0.051436</td>\n      <td>0.061982</td>\n      <td>0.027549</td>\n      <td>-0.340371</td>\n      <td>...</td>\n      <td>6.569550</td>\n      <td>0.451821</td>\n      <td>0.224835</td>\n      <td>3238</td>\n      <td>2021</td>\n      <td>83</td>\n      <td>2</td>\n      <td>80.0</td>\n      <td>2021_83_2</td>\n      <td>NaN</td>\n    </tr>\n    <tr>\n      <th>1818486</th>\n      <td>-0.831967</td>\n      <td>-1.163168</td>\n      <td>-1.292596</td>\n      <td>-5.512093</td>\n      <td>-0.151179</td>\n      <td>3.237055</td>\n      <td>0.047789</td>\n      <td>0.059788</td>\n      <td>0.022355</td>\n      <td>-0.363338</td>\n      <td>...</td>\n      <td>6.567587</td>\n      <td>0.455787</td>\n      <td>0.223269</td>\n      <td>3242</td>\n      <td>2021</td>\n      <td>83</td>\n      <td>2</td>\n      <td>80.0</td>\n      <td>2021_83_2</td>\n      <td>NaN</td>\n    </tr>\n    <tr>\n      <th>1818487</th>\n      <td>-0.617368</td>\n      <td>-0.357365</td>\n      <td>-1.066019</td>\n      <td>-1.425752</td>\n      <td>-2.776401</td>\n      <td>5.538847</td>\n      <td>0.044178</td>\n      <td>0.057759</td>\n      <td>0.017240</td>\n      <td>-0.369279</td>\n      <td>...</td>\n      <td>6.565653</td>\n      <td>0.459721</td>\n      <td>0.221714</td>\n      <td>3246</td>\n      <td>2021</td>\n      <td>83</td>\n      <td>2</td>\n      <td>80.0</td>\n      <td>2021_83_2</td>\n      <td>NaN</td>\n    </tr>\n    <tr>\n      <th>1818488</th>\n      <td>-1.159579</td>\n      <td>-0.899015</td>\n      <td>-1.462578</td>\n      <td>-5.758271</td>\n      <td>0.260591</td>\n      <td>6.279631</td>\n      <td>0.040622</td>\n      <td>0.055993</td>\n      <td>0.012251</td>\n      <td>-0.393272</td>\n      <td>...</td>\n      <td>6.563767</td>\n      <td>0.463606</td>\n      <td>0.220178</td>\n      <td>3250</td>\n      <td>2021</td>\n      <td>83</td>\n      <td>2</td>\n      <td>80.0</td>\n      <td>2021_83_2</td>\n      <td>NaN</td>\n    </tr>\n  </tbody>\n</table>\n<p>1057637 rows × 425 columns</p>\n</div>"
     },
     "execution_count": 2,
     "metadata": {},
     "output_type": "execute_result"
    }
   ],
   "source": [
    "data = pd.read_pickle('C:/Users/evapa/OneDrive/DATALAB/RAIS/HackathonCyprus/mvnx_merged_data_train_validation_test_preprocessed_har.pkl')\n",
    "data"
   ],
   "metadata": {
    "collapsed": false,
    "pycharm": {
     "name": "#%%\n"
    }
   }
  },
  {
   "cell_type": "code",
   "execution_count": 32,
   "outputs": [
    {
     "data": {
      "text/plain": "T2    39140\nT5    31916\nT4    10870\nT3     9789\nName: segment, dtype: int64"
     },
     "execution_count": 32,
     "metadata": {},
     "output_type": "execute_result"
    }
   ],
   "source": [
    "values_segment = data['segment'].value_counts()\n",
    "values_segment"
   ],
   "metadata": {
    "collapsed": false,
    "pycharm": {
     "name": "#%%\n"
    }
   }
  },
  {
   "cell_type": "code",
   "execution_count": 33,
   "outputs": [
    {
     "data": {
      "text/plain": "91715"
     },
     "execution_count": 33,
     "metadata": {},
     "output_type": "execute_result"
    }
   ],
   "source": [
    "values_segment.sum()"
   ],
   "metadata": {
    "collapsed": false,
    "pycharm": {
     "name": "#%%\n"
    }
   }
  },
  {
   "cell_type": "code",
   "execution_count": 34,
   "outputs": [
    {
     "data": {
      "text/plain": "<Figure size 640x480 with 1 Axes>",
      "image/png": "[encoded data removed]"
     },
     "metadata": {},
     "output_type": "display_data"
    }
   ],
   "source": [
    "p = sns.countplot(x='segment', data=data)\n",
    "p.set_xticklabels(p.get_xticklabels(), rotation=90, horizontalalignment='right')\n",
    "plt.show()"
   ],
   "metadata": {
    "collapsed": false,
    "pycharm": {
     "name": "#%%\n"
    }
   }
  },
  {
   "cell_type": "markdown",
   "source": [
    "keep only the segmented data (drop where segment=NaN)"
   ],
   "metadata": {
    "collapsed": false,
    "pycharm": {
     "name": "#%% md\n"
    }
   }
  },
  {
   "cell_type": "code",
   "execution_count": 35,
   "outputs": [
    {
     "data": {
      "text/plain": "       Pelvis_acc_0  Pelvis_acc_1  Pelvis_acc_2  Pelvis_angular_acc_0  \\\n0         -0.054363      0.056517     -0.053088              0.420520   \n1         -0.107037      0.053799     -0.122576             -0.002736   \n2          0.144353     -0.014925     -0.004969             -0.029263   \n3         -0.030959     -0.105743     -0.107790             -1.158075   \n4          0.059421     -0.083124      0.010181             -0.362501   \n...             ...           ...           ...                   ...   \n91710      2.768642     -0.111274     -3.398066            -50.671607   \n91711      1.977710      0.114427     -4.097666            -53.581650   \n91712      1.337048      0.807283     -6.118449            -51.941492   \n91713      1.636446      1.748325     -7.019642            -46.996131   \n91714      2.192252      3.361778     -7.891036            -39.437375   \n\n       Pelvis_angular_acc_1  Pelvis_angular_acc_2  Pelvis_vel_0  Pelvis_vel_1  \\\n0                  0.209671             -0.530950      0.007970     -0.003923   \n1                  0.640158              0.677067      0.007299     -0.004135   \n2                 -1.064792              0.387637      0.007754     -0.004556   \n3                  0.311378              0.144316      0.007494     -0.005328   \n4                 -0.402047             -0.376975      0.007641     -0.005942   \n...                     ...                   ...           ...           ...   \n91710             16.548586            -30.871259      1.486902     -0.038364   \n91711             19.719689            -35.784542      1.506722     -0.027991   \n91712             24.628179            -39.636580      1.526256     -0.013196   \n91713             20.312061            -45.623786      1.545766      0.008350   \n91714             15.209137            -49.699073      1.565313      0.037428   \n\n       Pelvis_vel_2  Pelvis_angular_vel_0  ...  LeftFoot_pos_0  \\\n0         -0.001043             -0.000674  ...        1.618867   \n1         -0.001530             -0.000686  ...        1.618847   \n2         -0.001520             -0.000808  ...        1.618827   \n3         -0.001936             -0.005633  ...        1.618806   \n4         -0.001857             -0.007143  ...        1.618786   \n...             ...                   ...  ...             ...   \n91710      0.171214              0.214921  ...        0.765612   \n91711      0.153793             -0.008335  ...        0.768766   \n91712      0.134674             -0.224758  ...        0.771451   \n91713      0.111672             -0.420576  ...        0.773487   \n91714      0.083194             -0.584898  ...        0.774775   \n\n       LeftFoot_pos_1  LeftFoot_pos_2  time  year  id  sample  speed  \\\n0            9.162230        0.161790   350  2017  10       1   79.0   \n1            9.162230        0.161792   354  2017  10       1   79.0   \n2            9.162235        0.161795   359  2017  10       1   79.0   \n3            9.162238        0.161799   363  2017  10       1   79.0   \n4            9.162240        0.161802   367  2017  10       1   79.0   \n...               ...             ...   ...   ...  ..     ...    ...   \n91710        0.285792        0.211505   546  2021  83       2   80.0   \n91711        0.286086        0.209387   550  2021  83       2   80.0   \n91712        0.286508        0.207590   554  2021  83       2   80.0   \n91713        0.287239        0.206113   559  2021  83       2   80.0   \n91714        0.288382        0.204909   563  2021  83       2   80.0   \n\n             key  segment  \n0      2017_10_1       T2  \n1      2017_10_1       T2  \n2      2017_10_1       T2  \n3      2017_10_1       T2  \n4      2017_10_1       T2  \n...          ...      ...  \n91710  2021_83_2       T5  \n91711  2021_83_2       T5  \n91712  2021_83_2       T5  \n91713  2021_83_2       T5  \n91714  2021_83_2       T5  \n\n[91715 rows x 425 columns]",
      "text/html": "<div>\n<style scoped>\n    .dataframe tbody tr th:only-of-type {\n        vertical-align: middle;\n    }\n\n    .dataframe tbody tr th {\n        vertical-align: top;\n    }\n\n    .dataframe thead th {\n        text-align: right;\n    }\n</style>\n<table border=\"1\" class=\"dataframe\">\n  <thead>\n    <tr style=\"text-align: right;\">\n      <th></th>\n      <th>Pelvis_acc_0</th>\n      <th>Pelvis_acc_1</th>\n      <th>Pelvis_acc_2</th>\n      <th>Pelvis_angular_acc_0</th>\n      <th>Pelvis_angular_acc_1</th>\n      <th>Pelvis_angular_acc_2</th>\n      <th>Pelvis_vel_0</th>\n      <th>Pelvis_vel_1</th>\n      <th>Pelvis_vel_2</th>\n      <th>Pelvis_angular_vel_0</th>\n      <th>...</th>\n      <th>LeftFoot_pos_0</th>\n      <th>LeftFoot_pos_1</th>\n      <th>LeftFoot_pos_2</th>\n      <th>time</th>\n      <th>year</th>\n      <th>id</th>\n      <th>sample</th>\n      <th>speed</th>\n      <th>key</th>\n      <th>segment</th>\n    </tr>\n  </thead>\n  <tbody>\n    <tr>\n      <th>0</th>\n      <td>-0.054363</td>\n      <td>0.056517</td>\n      <td>-0.053088</td>\n      <td>0.420520</td>\n      <td>0.209671</td>\n      <td>-0.530950</td>\n      <td>0.007970</td>\n      <td>-0.003923</td>\n      <td>-0.001043</td>\n      <td>-0.000674</td>\n      <td>...</td>\n      <td>1.618867</td>\n      <td>9.162230</td>\n      <td>0.161790</td>\n      <td>350</td>\n      <td>2017</td>\n      <td>10</td>\n      <td>1</td>\n      <td>79.0</td>\n      <td>2017_10_1</td>\n      <td>T2</td>\n    </tr>\n    <tr>\n      <th>1</th>\n      <td>-0.107037</td>\n      <td>0.053799</td>\n      <td>-0.122576</td>\n      <td>-0.002736</td>\n      <td>0.640158</td>\n      <td>0.677067</td>\n      <td>0.007299</td>\n      <td>-0.004135</td>\n      <td>-0.001530</td>\n      <td>-0.000686</td>\n      <td>...</td>\n      <td>1.618847</td>\n      <td>9.162230</td>\n      <td>0.161792</td>\n      <td>354</td>\n      <td>2017</td>\n      <td>10</td>\n      <td>1</td>\n      <td>79.0</td>\n      <td>2017_10_1</td>\n      <td>T2</td>\n    </tr>\n    <tr>\n      <th>2</th>\n      <td>0.144353</td>\n      <td>-0.014925</td>\n      <td>-0.004969</td>\n      <td>-0.029263</td>\n      <td>-1.064792</td>\n      <td>0.387637</td>\n      <td>0.007754</td>\n      <td>-0.004556</td>\n      <td>-0.001520</td>\n      <td>-0.000808</td>\n      <td>...</td>\n      <td>1.618827</td>\n      <td>9.162235</td>\n      <td>0.161795</td>\n      <td>359</td>\n      <td>2017</td>\n      <td>10</td>\n      <td>1</td>\n      <td>79.0</td>\n      <td>2017_10_1</td>\n      <td>T2</td>\n    </tr>\n    <tr>\n      <th>3</th>\n      <td>-0.030959</td>\n      <td>-0.105743</td>\n      <td>-0.107790</td>\n      <td>-1.158075</td>\n      <td>0.311378</td>\n      <td>0.144316</td>\n      <td>0.007494</td>\n      <td>-0.005328</td>\n      <td>-0.001936</td>\n      <td>-0.005633</td>\n      <td>...</td>\n      <td>1.618806</td>\n      <td>9.162238</td>\n      <td>0.161799</td>\n      <td>363</td>\n      <td>2017</td>\n      <td>10</td>\n      <td>1</td>\n      <td>79.0</td>\n      <td>2017_10_1</td>\n      <td>T2</td>\n    </tr>\n    <tr>\n      <th>4</th>\n      <td>0.059421</td>\n      <td>-0.083124</td>\n      <td>0.010181</td>\n      <td>-0.362501</td>\n      <td>-0.402047</td>\n      <td>-0.376975</td>\n      <td>0.007641</td>\n      <td>-0.005942</td>\n      <td>-0.001857</td>\n      <td>-0.007143</td>\n      <td>...</td>\n      <td>1.618786</td>\n      <td>9.162240</td>\n      <td>0.161802</td>\n      <td>367</td>\n      <td>2017</td>\n      <td>10</td>\n      <td>1</td>\n      <td>79.0</td>\n      <td>2017_10_1</td>\n      <td>T2</td>\n    </tr>\n    <tr>\n      <th>...</th>\n      <td>...</td>\n      <td>...</td>\n      <td>...</td>\n      <td>...</td>\n      <td>...</td>\n      <td>...</td>\n      <td>...</td>\n      <td>...</td>\n      <td>...</td>\n      <td>...</td>\n      <td>...</td>\n      <td>...</td>\n      <td>...</td>\n      <td>...</td>\n      <td>...</td>\n      <td>...</td>\n      <td>...</td>\n      <td>...</td>\n      <td>...</td>\n      <td>...</td>\n      <td>...</td>\n    </tr>\n    <tr>\n      <th>91710</th>\n      <td>2.768642</td>\n      <td>-0.111274</td>\n      <td>-3.398066</td>\n      <td>-50.671607</td>\n      <td>16.548586</td>\n      <td>-30.871259</td>\n      <td>1.486902</td>\n      <td>-0.038364</td>\n      <td>0.171214</td>\n      <td>0.214921</td>\n      <td>...</td>\n      <td>0.765612</td>\n      <td>0.285792</td>\n      <td>0.211505</td>\n      <td>546</td>\n      <td>2021</td>\n      <td>83</td>\n      <td>2</td>\n      <td>80.0</td>\n      <td>2021_83_2</td>\n      <td>T5</td>\n    </tr>\n    <tr>\n      <th>91711</th>\n      <td>1.977710</td>\n      <td>0.114427</td>\n      <td>-4.097666</td>\n      <td>-53.581650</td>\n      <td>19.719689</td>\n      <td>-35.784542</td>\n      <td>1.506722</td>\n      <td>-0.027991</td>\n      <td>0.153793</td>\n      <td>-0.008335</td>\n      <td>...</td>\n      <td>0.768766</td>\n      <td>0.286086</td>\n      <td>0.209387</td>\n      <td>550</td>\n      <td>2021</td>\n      <td>83</td>\n      <td>2</td>\n      <td>80.0</td>\n      <td>2021_83_2</td>\n      <td>T5</td>\n    </tr>\n    <tr>\n      <th>91712</th>\n      <td>1.337048</td>\n      <td>0.807283</td>\n      <td>-6.118449</td>\n      <td>-51.941492</td>\n      <td>24.628179</td>\n      <td>-39.636580</td>\n      <td>1.526256</td>\n      <td>-0.013196</td>\n      <td>0.134674</td>\n      <td>-0.224758</td>\n      <td>...</td>\n      <td>0.771451</td>\n      <td>0.286508</td>\n      <td>0.207590</td>\n      <td>554</td>\n      <td>2021</td>\n      <td>83</td>\n      <td>2</td>\n      <td>80.0</td>\n      <td>2021_83_2</td>\n      <td>T5</td>\n    </tr>\n    <tr>\n      <th>91713</th>\n      <td>1.636446</td>\n      <td>1.748325</td>\n      <td>-7.019642</td>\n      <td>-46.996131</td>\n      <td>20.312061</td>\n      <td>-45.623786</td>\n      <td>1.545766</td>\n      <td>0.008350</td>\n      <td>0.111672</td>\n      <td>-0.420576</td>\n      <td>...</td>\n      <td>0.773487</td>\n      <td>0.287239</td>\n      <td>0.206113</td>\n      <td>559</td>\n      <td>2021</td>\n      <td>83</td>\n      <td>2</td>\n      <td>80.0</td>\n      <td>2021_83_2</td>\n      <td>T5</td>\n    </tr>\n    <tr>\n      <th>91714</th>\n      <td>2.192252</td>\n      <td>3.361778</td>\n      <td>-7.891036</td>\n      <td>-39.437375</td>\n      <td>15.209137</td>\n      <td>-49.699073</td>\n      <td>1.565313</td>\n      <td>0.037428</td>\n      <td>0.083194</td>\n      <td>-0.584898</td>\n      <td>...</td>\n      <td>0.774775</td>\n      <td>0.288382</td>\n      <td>0.204909</td>\n      <td>563</td>\n      <td>2021</td>\n      <td>83</td>\n      <td>2</td>\n      <td>80.0</td>\n      <td>2021_83_2</td>\n      <td>T5</td>\n    </tr>\n  </tbody>\n</table>\n<p>91715 rows × 425 columns</p>\n</div>"
     },
     "execution_count": 35,
     "metadata": {},
     "output_type": "execute_result"
    }
   ],
   "source": [
    "data = data.dropna(subset=['segment']).reset_index(drop=True)\n",
    "data"
   ],
   "metadata": {
    "collapsed": false,
    "pycharm": {
     "name": "#%%\n"
    }
   }
  },
  {
   "cell_type": "code",
   "execution_count": 36,
   "outputs": [],
   "source": [
    "data.to_pickle('data_for_feature_engineering.pkl')"
   ],
   "metadata": {
    "collapsed": false,
    "pycharm": {
     "name": "#%%\n"
    }
   }
  },
  {
   "cell_type": "markdown",
   "source": [
    "### Stance width\n",
    "Based on the paper, stance width = trailing_foot at step 4 - leading_foot at step 5.\n",
    "At T4 the trailing foot is the right foot and at T5 the leading foot is the left foot.\n",
    "So we need to calculate the stance width per user and per trial as:\n",
    "##### stance_width = distance((RightFoot_pos_0, RightFoot_pos_1, RightFoot_pos_2), (LeftFoot_pos_0, LeftFoot_pos_1, LeftFoot_pos_2))"
   ],
   "metadata": {
    "collapsed": false,
    "pycharm": {
     "name": "#%% md\n"
    }
   }
  },
  {
   "cell_type": "code",
   "execution_count": 109,
   "outputs": [
    {
     "data": {
      "text/plain": "       Pelvis_acc_0  Pelvis_acc_1  Pelvis_acc_2  Pelvis_angular_acc_0  \\\n0         -0.054363      0.056517     -0.053088              0.420520   \n1         -0.107037      0.053799     -0.122576             -0.002736   \n2          0.144353     -0.014925     -0.004969             -0.029263   \n3         -0.030959     -0.105743     -0.107790             -1.158075   \n4          0.059421     -0.083124      0.010181             -0.362501   \n...             ...           ...           ...                   ...   \n91710      2.768642     -0.111274     -3.398066            -50.671607   \n91711      1.977710      0.114427     -4.097666            -53.581650   \n91712      1.337048      0.807283     -6.118449            -51.941492   \n91713      1.636446      1.748325     -7.019642            -46.996131   \n91714      2.192252      3.361778     -7.891036            -39.437375   \n\n       Pelvis_angular_acc_1  Pelvis_angular_acc_2  Pelvis_vel_0  Pelvis_vel_1  \\\n0                  0.209671             -0.530950      0.007970     -0.003923   \n1                  0.640158              0.677067      0.007299     -0.004135   \n2                 -1.064792              0.387637      0.007754     -0.004556   \n3                  0.311378              0.144316      0.007494     -0.005328   \n4                 -0.402047             -0.376975      0.007641     -0.005942   \n...                     ...                   ...           ...           ...   \n91710             16.548586            -30.871259      1.486902     -0.038364   \n91711             19.719689            -35.784542      1.506722     -0.027991   \n91712             24.628179            -39.636580      1.526256     -0.013196   \n91713             20.312061            -45.623786      1.545766      0.008350   \n91714             15.209137            -49.699073      1.565313      0.037428   \n\n       Pelvis_vel_2  Pelvis_angular_vel_0  ...  LeftFoot_pos_0  \\\n0         -0.001043             -0.000674  ...        1.618867   \n1         -0.001530             -0.000686  ...        1.618847   \n2         -0.001520             -0.000808  ...        1.618827   \n3         -0.001936             -0.005633  ...        1.618806   \n4         -0.001857             -0.007143  ...        1.618786   \n...             ...                   ...  ...             ...   \n91710      0.171214              0.214921  ...        0.765612   \n91711      0.153793             -0.008335  ...        0.768766   \n91712      0.134674             -0.224758  ...        0.771451   \n91713      0.111672             -0.420576  ...        0.773487   \n91714      0.083194             -0.584898  ...        0.774775   \n\n       LeftFoot_pos_1  LeftFoot_pos_2  time  year  id  sample  speed  \\\n0            9.162230        0.161790   350  2017  10       1   79.0   \n1            9.162230        0.161792   354  2017  10       1   79.0   \n2            9.162235        0.161795   359  2017  10       1   79.0   \n3            9.162238        0.161799   363  2017  10       1   79.0   \n4            9.162240        0.161802   367  2017  10       1   79.0   \n...               ...             ...   ...   ...  ..     ...    ...   \n91710        0.285792        0.211505   546  2021  83       2   80.0   \n91711        0.286086        0.209387   550  2021  83       2   80.0   \n91712        0.286508        0.207590   554  2021  83       2   80.0   \n91713        0.287239        0.206113   559  2021  83       2   80.0   \n91714        0.288382        0.204909   563  2021  83       2   80.0   \n\n             key  segment  \n0      2017_10_1       T2  \n1      2017_10_1       T2  \n2      2017_10_1       T2  \n3      2017_10_1       T2  \n4      2017_10_1       T2  \n...          ...      ...  \n91710  2021_83_2       T5  \n91711  2021_83_2       T5  \n91712  2021_83_2       T5  \n91713  2021_83_2       T5  \n91714  2021_83_2       T5  \n\n[91715 rows x 425 columns]",
      "text/html": "<div>\n<style scoped>\n    .dataframe tbody tr th:only-of-type {\n        vertical-align: middle;\n    }\n\n    .dataframe tbody tr th {\n        vertical-align: top;\n    }\n\n    .dataframe thead th {\n        text-align: right;\n    }\n</style>\n<table border=\"1\" class=\"dataframe\">\n  <thead>\n    <tr style=\"text-align: right;\">\n      <th></th>\n      <th>Pelvis_acc_0</th>\n      <th>Pelvis_acc_1</th>\n      <th>Pelvis_acc_2</th>\n      <th>Pelvis_angular_acc_0</th>\n      <th>Pelvis_angular_acc_1</th>\n      <th>Pelvis_angular_acc_2</th>\n      <th>Pelvis_vel_0</th>\n      <th>Pelvis_vel_1</th>\n      <th>Pelvis_vel_2</th>\n      <th>Pelvis_angular_vel_0</th>\n      <th>...</th>\n      <th>LeftFoot_pos_0</th>\n      <th>LeftFoot_pos_1</th>\n      <th>LeftFoot_pos_2</th>\n      <th>time</th>\n      <th>year</th>\n      <th>id</th>\n      <th>sample</th>\n      <th>speed</th>\n      <th>key</th>\n      <th>segment</th>\n    </tr>\n  </thead>\n  <tbody>\n    <tr>\n      <th>0</th>\n      <td>-0.054363</td>\n      <td>0.056517</td>\n      <td>-0.053088</td>\n      <td>0.420520</td>\n      <td>0.209671</td>\n      <td>-0.530950</td>\n      <td>0.007970</td>\n      <td>-0.003923</td>\n      <td>-0.001043</td>\n      <td>-0.000674</td>\n      <td>...</td>\n      <td>1.618867</td>\n      <td>9.162230</td>\n      <td>0.161790</td>\n      <td>350</td>\n      <td>2017</td>\n      <td>10</td>\n      <td>1</td>\n      <td>79.0</td>\n      <td>2017_10_1</td>\n      <td>T2</td>\n    </tr>\n    <tr>\n      <th>1</th>\n      <td>-0.107037</td>\n      <td>0.053799</td>\n      <td>-0.122576</td>\n      <td>-0.002736</td>\n      <td>0.640158</td>\n      <td>0.677067</td>\n      <td>0.007299</td>\n      <td>-0.004135</td>\n      <td>-0.001530</td>\n      <td>-0.000686</td>\n      <td>...</td>\n      <td>1.618847</td>\n      <td>9.162230</td>\n      <td>0.161792</td>\n      <td>354</td>\n      <td>2017</td>\n      <td>10</td>\n      <td>1</td>\n      <td>79.0</td>\n      <td>2017_10_1</td>\n      <td>T2</td>\n    </tr>\n    <tr>\n      <th>2</th>\n      <td>0.144353</td>\n      <td>-0.014925</td>\n      <td>-0.004969</td>\n      <td>-0.029263</td>\n      <td>-1.064792</td>\n      <td>0.387637</td>\n      <td>0.007754</td>\n      <td>-0.004556</td>\n      <td>-0.001520</td>\n      <td>-0.000808</td>\n      <td>...</td>\n      <td>1.618827</td>\n      <td>9.162235</td>\n      <td>0.161795</td>\n      <td>359</td>\n      <td>2017</td>\n      <td>10</td>\n      <td>1</td>\n      <td>79.0</td>\n      <td>2017_10_1</td>\n      <td>T2</td>\n    </tr>\n    <tr>\n      <th>3</th>\n      <td>-0.030959</td>\n      <td>-0.105743</td>\n      <td>-0.107790</td>\n      <td>-1.158075</td>\n      <td>0.311378</td>\n      <td>0.144316</td>\n      <td>0.007494</td>\n      <td>-0.005328</td>\n      <td>-0.001936</td>\n      <td>-0.005633</td>\n      <td>...</td>\n      <td>1.618806</td>\n      <td>9.162238</td>\n      <td>0.161799</td>\n      <td>363</td>\n      <td>2017</td>\n      <td>10</td>\n      <td>1</td>\n      <td>79.0</td>\n      <td>2017_10_1</td>\n      <td>T2</td>\n    </tr>\n    <tr>\n      <th>4</th>\n      <td>0.059421</td>\n      <td>-0.083124</td>\n      <td>0.010181</td>\n      <td>-0.362501</td>\n      <td>-0.402047</td>\n      <td>-0.376975</td>\n      <td>0.007641</td>\n      <td>-0.005942</td>\n      <td>-0.001857</td>\n      <td>-0.007143</td>\n      <td>...</td>\n      <td>1.618786</td>\n      <td>9.162240</td>\n      <td>0.161802</td>\n      <td>367</td>\n      <td>2017</td>\n      <td>10</td>\n      <td>1</td>\n      <td>79.0</td>\n      <td>2017_10_1</td>\n      <td>T2</td>\n    </tr>\n    <tr>\n      <th>...</th>\n      <td>...</td>\n      <td>...</td>\n      <td>...</td>\n      <td>...</td>\n      <td>...</td>\n      <td>...</td>\n      <td>...</td>\n      <td>...</td>\n      <td>...</td>\n      <td>...</td>\n      <td>...</td>\n      <td>...</td>\n      <td>...</td>\n      <td>...</td>\n      <td>...</td>\n      <td>...</td>\n      <td>...</td>\n      <td>...</td>\n      <td>...</td>\n      <td>...</td>\n      <td>...</td>\n    </tr>\n    <tr>\n      <th>91710</th>\n      <td>2.768642</td>\n      <td>-0.111274</td>\n      <td>-3.398066</td>\n      <td>-50.671607</td>\n      <td>16.548586</td>\n      <td>-30.871259</td>\n      <td>1.486902</td>\n      <td>-0.038364</td>\n      <td>0.171214</td>\n      <td>0.214921</td>\n      <td>...</td>\n      <td>0.765612</td>\n      <td>0.285792</td>\n      <td>0.211505</td>\n      <td>546</td>\n      <td>2021</td>\n      <td>83</td>\n      <td>2</td>\n      <td>80.0</td>\n      <td>2021_83_2</td>\n      <td>T5</td>\n    </tr>\n    <tr>\n      <th>91711</th>\n      <td>1.977710</td>\n      <td>0.114427</td>\n      <td>-4.097666</td>\n      <td>-53.581650</td>\n      <td>19.719689</td>\n      <td>-35.784542</td>\n      <td>1.506722</td>\n      <td>-0.027991</td>\n      <td>0.153793</td>\n      <td>-0.008335</td>\n      <td>...</td>\n      <td>0.768766</td>\n      <td>0.286086</td>\n      <td>0.209387</td>\n      <td>550</td>\n      <td>2021</td>\n      <td>83</td>\n      <td>2</td>\n      <td>80.0</td>\n      <td>2021_83_2</td>\n      <td>T5</td>\n    </tr>\n    <tr>\n      <th>91712</th>\n      <td>1.337048</td>\n      <td>0.807283</td>\n      <td>-6.118449</td>\n      <td>-51.941492</td>\n      <td>24.628179</td>\n      <td>-39.636580</td>\n      <td>1.526256</td>\n      <td>-0.013196</td>\n      <td>0.134674</td>\n      <td>-0.224758</td>\n      <td>...</td>\n      <td>0.771451</td>\n      <td>0.286508</td>\n      <td>0.207590</td>\n      <td>554</td>\n      <td>2021</td>\n      <td>83</td>\n      <td>2</td>\n      <td>80.0</td>\n      <td>2021_83_2</td>\n      <td>T5</td>\n    </tr>\n    <tr>\n      <th>91713</th>\n      <td>1.636446</td>\n      <td>1.748325</td>\n      <td>-7.019642</td>\n      <td>-46.996131</td>\n      <td>20.312061</td>\n      <td>-45.623786</td>\n      <td>1.545766</td>\n      <td>0.008350</td>\n      <td>0.111672</td>\n      <td>-0.420576</td>\n      <td>...</td>\n      <td>0.773487</td>\n      <td>0.287239</td>\n      <td>0.206113</td>\n      <td>559</td>\n      <td>2021</td>\n      <td>83</td>\n      <td>2</td>\n      <td>80.0</td>\n      <td>2021_83_2</td>\n      <td>T5</td>\n    </tr>\n    <tr>\n      <th>91714</th>\n      <td>2.192252</td>\n      <td>3.361778</td>\n      <td>-7.891036</td>\n      <td>-39.437375</td>\n      <td>15.209137</td>\n      <td>-49.699073</td>\n      <td>1.565313</td>\n      <td>0.037428</td>\n      <td>0.083194</td>\n      <td>-0.584898</td>\n      <td>...</td>\n      <td>0.774775</td>\n      <td>0.288382</td>\n      <td>0.204909</td>\n      <td>563</td>\n      <td>2021</td>\n      <td>83</td>\n      <td>2</td>\n      <td>80.0</td>\n      <td>2021_83_2</td>\n      <td>T5</td>\n    </tr>\n  </tbody>\n</table>\n<p>91715 rows × 425 columns</p>\n</div>"
     },
     "execution_count": 109,
     "metadata": {},
     "output_type": "execute_result"
    }
   ],
   "source": [
    "data = pd.read_pickle('data_for_feature_engineering.pkl')\n",
    "data"
   ],
   "metadata": {
    "collapsed": false,
    "pycharm": {
     "name": "#%%\n"
    }
   }
  },
  {
   "cell_type": "markdown",
   "source": [
    "keep only the last instance of segment T4 and the first instance of segment T5 per user and per trial"
   ],
   "metadata": {
    "collapsed": false,
    "pycharm": {
     "name": "#%% md\n"
    }
   }
  },
  {
   "cell_type": "code",
   "execution_count": 110,
   "outputs": [
    {
     "data": {
      "text/plain": "       Pelvis_acc_0  Pelvis_acc_1  Pelvis_acc_2  Pelvis_angular_acc_0  \\\n61         0.403543     -0.575995     -0.164373              1.483807   \n62         0.407075     -0.524410     -0.226830              1.675566   \n63         0.257265     -0.546519     -0.294682              1.534323   \n64         0.155979     -0.486616     -0.246163              1.999188   \n65         0.285328     -0.413521     -0.088800              1.677668   \n...             ...           ...           ...                   ...   \n91710      2.768642     -0.111274     -3.398066            -50.671607   \n91711      1.977710      0.114427     -4.097666            -53.581650   \n91712      1.337048      0.807283     -6.118449            -51.941492   \n91713      1.636446      1.748325     -7.019642            -46.996131   \n91714      2.192252      3.361778     -7.891036            -39.437375   \n\n       Pelvis_angular_acc_1  Pelvis_angular_acc_2  Pelvis_vel_0  Pelvis_vel_1  \\\n61                -1.627768              1.224100      0.043066     -0.046843   \n62                -1.330816              2.749521      0.045909     -0.049309   \n63                -0.210287              2.687376      0.048187     -0.051554   \n64                -0.378792              2.720064      0.050110     -0.053373   \n65                -1.674101              3.821240      0.052568     -0.054736   \n...                     ...                   ...           ...           ...   \n91710             16.548586            -30.871259      1.486902     -0.038364   \n91711             19.719689            -35.784542      1.506722     -0.027991   \n91712             24.628179            -39.636580      1.526256     -0.013196   \n91713             20.312061            -45.623786      1.545766      0.008350   \n91714             15.209137            -49.699073      1.565313      0.037428   \n\n       Pelvis_vel_2  Pelvis_angular_vel_0  ...  LeftFoot_pos_0  \\\n61        -0.004382              0.104958  ...        1.618876   \n62        -0.005306              0.111940  ...        1.618892   \n63        -0.006579              0.118333  ...        1.618916   \n64        -0.007709              0.126663  ...        1.618951   \n65        -0.008223              0.133653  ...        1.618985   \n...             ...                   ...  ...             ...   \n91710      0.171214              0.214921  ...        0.765612   \n91711      0.153793             -0.008335  ...        0.768766   \n91712      0.134674             -0.224758  ...        0.771451   \n91713      0.111672             -0.420576  ...        0.773487   \n91714      0.083194             -0.584898  ...        0.774775   \n\n       LeftFoot_pos_1  LeftFoot_pos_2  time  year  id  sample  speed  \\\n61           9.160479        0.162632   604  2017  10       1   79.0   \n62           9.160421        0.162668   609  2017  10       1   79.0   \n63           9.160378        0.162697   613  2017  10       1   79.0   \n64           9.160338        0.162721   617  2017  10       1   79.0   \n65           9.160304        0.162743   621  2017  10       1   79.0   \n...               ...             ...   ...   ...  ..     ...    ...   \n91710        0.285792        0.211505   546  2021  83       2   80.0   \n91711        0.286086        0.209387   550  2021  83       2   80.0   \n91712        0.286508        0.207590   554  2021  83       2   80.0   \n91713        0.287239        0.206113   559  2021  83       2   80.0   \n91714        0.288382        0.204909   563  2021  83       2   80.0   \n\n             key  segment  \n61     2017_10_1       T4  \n62     2017_10_1       T4  \n63     2017_10_1       T4  \n64     2017_10_1       T4  \n65     2017_10_1       T4  \n...          ...      ...  \n91710  2021_83_2       T5  \n91711  2021_83_2       T5  \n91712  2021_83_2       T5  \n91713  2021_83_2       T5  \n91714  2021_83_2       T5  \n\n[42786 rows x 425 columns]",
      "text/html": "<div>\n<style scoped>\n    .dataframe tbody tr th:only-of-type {\n        vertical-align: middle;\n    }\n\n    .dataframe tbody tr th {\n        vertical-align: top;\n    }\n\n    .dataframe thead th {\n        text-align: right;\n    }\n</style>\n<table border=\"1\" class=\"dataframe\">\n  <thead>\n    <tr style=\"text-align: right;\">\n      <th></th>\n      <th>Pelvis_acc_0</th>\n      <th>Pelvis_acc_1</th>\n      <th>Pelvis_acc_2</th>\n      <th>Pelvis_angular_acc_0</th>\n      <th>Pelvis_angular_acc_1</th>\n      <th>Pelvis_angular_acc_2</th>\n      <th>Pelvis_vel_0</th>\n      <th>Pelvis_vel_1</th>\n      <th>Pelvis_vel_2</th>\n      <th>Pelvis_angular_vel_0</th>\n      <th>...</th>\n      <th>LeftFoot_pos_0</th>\n      <th>LeftFoot_pos_1</th>\n      <th>LeftFoot_pos_2</th>\n      <th>time</th>\n      <th>year</th>\n      <th>id</th>\n      <th>sample</th>\n      <th>speed</th>\n      <th>key</th>\n      <th>segment</th>\n    </tr>\n  </thead>\n  <tbody>\n    <tr>\n      <th>61</th>\n      <td>0.403543</td>\n      <td>-0.575995</td>\n      <td>-0.164373</td>\n      <td>1.483807</td>\n      <td>-1.627768</td>\n      <td>1.224100</td>\n      <td>0.043066</td>\n      <td>-0.046843</td>\n      <td>-0.004382</td>\n      <td>0.104958</td>\n      <td>...</td>\n      <td>1.618876</td>\n      <td>9.160479</td>\n      <td>0.162632</td>\n      <td>604</td>\n      <td>2017</td>\n      <td>10</td>\n      <td>1</td>\n      <td>79.0</td>\n      <td>2017_10_1</td>\n      <td>T4</td>\n    </tr>\n    <tr>\n      <th>62</th>\n      <td>0.407075</td>\n      <td>-0.524410</td>\n      <td>-0.226830</td>\n      <td>1.675566</td>\n      <td>-1.330816</td>\n      <td>2.749521</td>\n      <td>0.045909</td>\n      <td>-0.049309</td>\n      <td>-0.005306</td>\n      <td>0.111940</td>\n      <td>...</td>\n      <td>1.618892</td>\n      <td>9.160421</td>\n      <td>0.162668</td>\n      <td>609</td>\n      <td>2017</td>\n      <td>10</td>\n      <td>1</td>\n      <td>79.0</td>\n      <td>2017_10_1</td>\n      <td>T4</td>\n    </tr>\n    <tr>\n      <th>63</th>\n      <td>0.257265</td>\n      <td>-0.546519</td>\n      <td>-0.294682</td>\n      <td>1.534323</td>\n      <td>-0.210287</td>\n      <td>2.687376</td>\n      <td>0.048187</td>\n      <td>-0.051554</td>\n      <td>-0.006579</td>\n      <td>0.118333</td>\n      <td>...</td>\n      <td>1.618916</td>\n      <td>9.160378</td>\n      <td>0.162697</td>\n      <td>613</td>\n      <td>2017</td>\n      <td>10</td>\n      <td>1</td>\n      <td>79.0</td>\n      <td>2017_10_1</td>\n      <td>T4</td>\n    </tr>\n    <tr>\n      <th>64</th>\n      <td>0.155979</td>\n      <td>-0.486616</td>\n      <td>-0.246163</td>\n      <td>1.999188</td>\n      <td>-0.378792</td>\n      <td>2.720064</td>\n      <td>0.050110</td>\n      <td>-0.053373</td>\n      <td>-0.007709</td>\n      <td>0.126663</td>\n      <td>...</td>\n      <td>1.618951</td>\n      <td>9.160338</td>\n      <td>0.162721</td>\n      <td>617</td>\n      <td>2017</td>\n      <td>10</td>\n      <td>1</td>\n      <td>79.0</td>\n      <td>2017_10_1</td>\n      <td>T4</td>\n    </tr>\n    <tr>\n      <th>65</th>\n      <td>0.285328</td>\n      <td>-0.413521</td>\n      <td>-0.088800</td>\n      <td>1.677668</td>\n      <td>-1.674101</td>\n      <td>3.821240</td>\n      <td>0.052568</td>\n      <td>-0.054736</td>\n      <td>-0.008223</td>\n      <td>0.133653</td>\n      <td>...</td>\n      <td>1.618985</td>\n      <td>9.160304</td>\n      <td>0.162743</td>\n      <td>621</td>\n      <td>2017</td>\n      <td>10</td>\n      <td>1</td>\n      <td>79.0</td>\n      <td>2017_10_1</td>\n      <td>T4</td>\n    </tr>\n    <tr>\n      <th>...</th>\n      <td>...</td>\n      <td>...</td>\n      <td>...</td>\n      <td>...</td>\n      <td>...</td>\n      <td>...</td>\n      <td>...</td>\n      <td>...</td>\n      <td>...</td>\n      <td>...</td>\n      <td>...</td>\n      <td>...</td>\n      <td>...</td>\n      <td>...</td>\n      <td>...</td>\n      <td>...</td>\n      <td>...</td>\n      <td>...</td>\n      <td>...</td>\n      <td>...</td>\n      <td>...</td>\n    </tr>\n    <tr>\n      <th>91710</th>\n      <td>2.768642</td>\n      <td>-0.111274</td>\n      <td>-3.398066</td>\n      <td>-50.671607</td>\n      <td>16.548586</td>\n      <td>-30.871259</td>\n      <td>1.486902</td>\n      <td>-0.038364</td>\n      <td>0.171214</td>\n      <td>0.214921</td>\n      <td>...</td>\n      <td>0.765612</td>\n      <td>0.285792</td>\n      <td>0.211505</td>\n      <td>546</td>\n      <td>2021</td>\n      <td>83</td>\n      <td>2</td>\n      <td>80.0</td>\n      <td>2021_83_2</td>\n      <td>T5</td>\n    </tr>\n    <tr>\n      <th>91711</th>\n      <td>1.977710</td>\n      <td>0.114427</td>\n      <td>-4.097666</td>\n      <td>-53.581650</td>\n      <td>19.719689</td>\n      <td>-35.784542</td>\n      <td>1.506722</td>\n      <td>-0.027991</td>\n      <td>0.153793</td>\n      <td>-0.008335</td>\n      <td>...</td>\n      <td>0.768766</td>\n      <td>0.286086</td>\n      <td>0.209387</td>\n      <td>550</td>\n      <td>2021</td>\n      <td>83</td>\n      <td>2</td>\n      <td>80.0</td>\n      <td>2021_83_2</td>\n      <td>T5</td>\n    </tr>\n    <tr>\n      <th>91712</th>\n      <td>1.337048</td>\n      <td>0.807283</td>\n      <td>-6.118449</td>\n      <td>-51.941492</td>\n      <td>24.628179</td>\n      <td>-39.636580</td>\n      <td>1.526256</td>\n      <td>-0.013196</td>\n      <td>0.134674</td>\n      <td>-0.224758</td>\n      <td>...</td>\n      <td>0.771451</td>\n      <td>0.286508</td>\n      <td>0.207590</td>\n      <td>554</td>\n      <td>2021</td>\n      <td>83</td>\n      <td>2</td>\n      <td>80.0</td>\n      <td>2021_83_2</td>\n      <td>T5</td>\n    </tr>\n    <tr>\n      <th>91713</th>\n      <td>1.636446</td>\n      <td>1.748325</td>\n      <td>-7.019642</td>\n      <td>-46.996131</td>\n      <td>20.312061</td>\n      <td>-45.623786</td>\n      <td>1.545766</td>\n      <td>0.008350</td>\n      <td>0.111672</td>\n      <td>-0.420576</td>\n      <td>...</td>\n      <td>0.773487</td>\n      <td>0.287239</td>\n      <td>0.206113</td>\n      <td>559</td>\n      <td>2021</td>\n      <td>83</td>\n      <td>2</td>\n      <td>80.0</td>\n      <td>2021_83_2</td>\n      <td>T5</td>\n    </tr>\n    <tr>\n      <th>91714</th>\n      <td>2.192252</td>\n      <td>3.361778</td>\n      <td>-7.891036</td>\n      <td>-39.437375</td>\n      <td>15.209137</td>\n      <td>-49.699073</td>\n      <td>1.565313</td>\n      <td>0.037428</td>\n      <td>0.083194</td>\n      <td>-0.584898</td>\n      <td>...</td>\n      <td>0.774775</td>\n      <td>0.288382</td>\n      <td>0.204909</td>\n      <td>563</td>\n      <td>2021</td>\n      <td>83</td>\n      <td>2</td>\n      <td>80.0</td>\n      <td>2021_83_2</td>\n      <td>T5</td>\n    </tr>\n  </tbody>\n</table>\n<p>42786 rows × 425 columns</p>\n</div>"
     },
     "execution_count": 110,
     "metadata": {},
     "output_type": "execute_result"
    }
   ],
   "source": [
    "# keep only T4 and T5\n",
    "data = data.loc[(data['segment'] == 'T4') | (data['segment'] == 'T5')]\n",
    "data"
   ],
   "metadata": {
    "collapsed": false,
    "pycharm": {
     "name": "#%%\n"
    }
   }
  },
  {
   "cell_type": "code",
   "execution_count": 111,
   "outputs": [],
   "source": [
    "stance_df = pd.DataFrame(columns=['user', 'trial', 'key', 'speed', 'stance_width'])"
   ],
   "metadata": {
    "collapsed": false,
    "pycharm": {
     "name": "#%%\n"
    }
   }
  },
  {
   "cell_type": "code",
   "execution_count": 113,
   "outputs": [
    {
     "data": {
      "text/plain": "    user trial        key speed stance_width\n0     10     1  2017_10_1  79.0     1.707407\n1     10     2  2017_10_2  82.0     1.670061\n2     10     3  2017_10_3  78.0     1.911737\n3     10     4  2017_10_4  77.0     1.546937\n4     10     5  2017_10_5  78.0     1.694116\n..   ...   ...        ...   ...          ...\n331   82     2  2021_82_2  74.0     1.634788\n332   82     3  2021_82_3  79.0     0.614241\n333   82     4  2021_82_4  77.0     1.899914\n334   82     7  2021_82_7  90.0     0.469903\n335   83     2  2021_83_2  80.0     1.141928\n\n[336 rows x 5 columns]",
      "text/html": "<div>\n<style scoped>\n    .dataframe tbody tr th:only-of-type {\n        vertical-align: middle;\n    }\n\n    .dataframe tbody tr th {\n        vertical-align: top;\n    }\n\n    .dataframe thead th {\n        text-align: right;\n    }\n</style>\n<table border=\"1\" class=\"dataframe\">\n  <thead>\n    <tr style=\"text-align: right;\">\n      <th></th>\n      <th>user</th>\n      <th>trial</th>\n      <th>key</th>\n      <th>speed</th>\n      <th>stance_width</th>\n    </tr>\n  </thead>\n  <tbody>\n    <tr>\n      <th>0</th>\n      <td>10</td>\n      <td>1</td>\n      <td>2017_10_1</td>\n      <td>79.0</td>\n      <td>1.707407</td>\n    </tr>\n    <tr>\n      <th>1</th>\n      <td>10</td>\n      <td>2</td>\n      <td>2017_10_2</td>\n      <td>82.0</td>\n      <td>1.670061</td>\n    </tr>\n    <tr>\n      <th>2</th>\n      <td>10</td>\n      <td>3</td>\n      <td>2017_10_3</td>\n      <td>78.0</td>\n      <td>1.911737</td>\n    </tr>\n    <tr>\n      <th>3</th>\n      <td>10</td>\n      <td>4</td>\n      <td>2017_10_4</td>\n      <td>77.0</td>\n      <td>1.546937</td>\n    </tr>\n    <tr>\n      <th>4</th>\n      <td>10</td>\n      <td>5</td>\n      <td>2017_10_5</td>\n      <td>78.0</td>\n      <td>1.694116</td>\n    </tr>\n    <tr>\n      <th>...</th>\n      <td>...</td>\n      <td>...</td>\n      <td>...</td>\n      <td>...</td>\n      <td>...</td>\n    </tr>\n    <tr>\n      <th>331</th>\n      <td>82</td>\n      <td>2</td>\n      <td>2021_82_2</td>\n      <td>74.0</td>\n      <td>1.634788</td>\n    </tr>\n    <tr>\n      <th>332</th>\n      <td>82</td>\n      <td>3</td>\n      <td>2021_82_3</td>\n      <td>79.0</td>\n      <td>0.614241</td>\n    </tr>\n    <tr>\n      <th>333</th>\n      <td>82</td>\n      <td>4</td>\n      <td>2021_82_4</td>\n      <td>77.0</td>\n      <td>1.899914</td>\n    </tr>\n    <tr>\n      <th>334</th>\n      <td>82</td>\n      <td>7</td>\n      <td>2021_82_7</td>\n      <td>90.0</td>\n      <td>0.469903</td>\n    </tr>\n    <tr>\n      <th>335</th>\n      <td>83</td>\n      <td>2</td>\n      <td>2021_83_2</td>\n      <td>80.0</td>\n      <td>1.141928</td>\n    </tr>\n  </tbody>\n</table>\n<p>336 rows × 5 columns</p>\n</div>"
     },
     "execution_count": 113,
     "metadata": {},
     "output_type": "execute_result"
    }
   ],
   "source": [
    "# per user and per trial\n",
    "users = list(data['id'].unique())\n",
    "for user in users:\n",
    "    user_data = data.loc[data['id'] == user]\n",
    "    trials = list(user_data['sample'].unique())\n",
    "    for trial in trials:\n",
    "        user_trial_data = user_data.loc[user_data['sample'] == trial]\n",
    "\n",
    "        # current df\n",
    "        stance_current_df = pd.DataFrame(columns=['user', 'trial', 'key', 'speed', 'stance_width'])\n",
    "        stance_current_df.loc[0, 'user'] = user\n",
    "        stance_current_df.loc[0, 'trial'] = trial\n",
    "        stance_current_df.loc[0, 'key'] = user_trial_data['key'].iloc[0]\n",
    "        stance_current_df.loc[0, 'speed'] = user_trial_data['speed'].iloc[0]\n",
    "\n",
    "        # last instance of T4\n",
    "        data_T4 = user_trial_data.loc[(user_trial_data['segment'] == 'T4')]\n",
    "        data_T4 = data_T4.iloc[-1:, :]\n",
    "        # first instance of T5\n",
    "        data_T5 = user_trial_data.loc[(user_trial_data['segment'] == 'T5')]\n",
    "        data_T5 = data_T5.iloc[:1, :]\n",
    "        # concat\n",
    "        temp = pd.concat([data_T4, data_T5]).reset_index(drop=True)\n",
    "\n",
    "        # calculate stance_width\n",
    "        right_foot = np.array([temp.loc[0, 'RightFoot_pos_0'], temp.loc[0, 'RightFoot_pos_1'], temp.loc[0, 'RightFoot_pos_2']])\n",
    "        left_foot = np.array([temp.loc[1, 'LeftFoot_pos_0'], temp.loc[1, 'LeftFoot_pos_1'], temp.loc[1, 'LeftFoot_pos_2']])\n",
    "        stance_width = np.sqrt(np.sum((right_foot-left_foot)**2, axis=0))\n",
    "\n",
    "        # current df\n",
    "        stance_current_df.loc[0, 'stance_width'] = stance_width\n",
    "\n",
    "        # concat to the final stance_df\n",
    "        stance_df = pd.concat([stance_df, stance_current_df])\n",
    "\n",
    "stance_df.reset_index(drop=True, inplace=True)\n",
    "stance_df"
   ],
   "metadata": {
    "collapsed": false,
    "pycharm": {
     "name": "#%%\n"
    }
   }
  },
  {
   "cell_type": "code",
   "execution_count": 114,
   "outputs": [],
   "source": [
    "stance_df.to_pickle('stance_df.pkl')"
   ],
   "metadata": {
    "collapsed": false,
    "pycharm": {
     "name": "#%%\n"
    }
   }
  },
  {
   "cell_type": "markdown",
   "source": [
    "### Dragging distance\n",
    "Based on the paper, dragging distance = initial_ball_position - leading_foot at step 5.\n",
    "At T5 the leading foot is the left foot.\n",
    "So we need to calculate the dragging distance per user and per trial as:\n",
    "##### dragging_distance = distance((0, 2.5 , 0), (LeftFoot_pos_0, LeftFoot_pos_1, LeftFoot_pos_2))"
   ],
   "metadata": {
    "collapsed": false,
    "pycharm": {
     "name": "#%% md\n"
    }
   }
  },
  {
   "cell_type": "code",
   "execution_count": 115,
   "outputs": [
    {
     "data": {
      "text/plain": "       Pelvis_acc_0  Pelvis_acc_1  Pelvis_acc_2  Pelvis_angular_acc_0  \\\n0         -0.054363      0.056517     -0.053088              0.420520   \n1         -0.107037      0.053799     -0.122576             -0.002736   \n2          0.144353     -0.014925     -0.004969             -0.029263   \n3         -0.030959     -0.105743     -0.107790             -1.158075   \n4          0.059421     -0.083124      0.010181             -0.362501   \n...             ...           ...           ...                   ...   \n91710      2.768642     -0.111274     -3.398066            -50.671607   \n91711      1.977710      0.114427     -4.097666            -53.581650   \n91712      1.337048      0.807283     -6.118449            -51.941492   \n91713      1.636446      1.748325     -7.019642            -46.996131   \n91714      2.192252      3.361778     -7.891036            -39.437375   \n\n       Pelvis_angular_acc_1  Pelvis_angular_acc_2  Pelvis_vel_0  Pelvis_vel_1  \\\n0                  0.209671             -0.530950      0.007970     -0.003923   \n1                  0.640158              0.677067      0.007299     -0.004135   \n2                 -1.064792              0.387637      0.007754     -0.004556   \n3                  0.311378              0.144316      0.007494     -0.005328   \n4                 -0.402047             -0.376975      0.007641     -0.005942   \n...                     ...                   ...           ...           ...   \n91710             16.548586            -30.871259      1.486902     -0.038364   \n91711             19.719689            -35.784542      1.506722     -0.027991   \n91712             24.628179            -39.636580      1.526256     -0.013196   \n91713             20.312061            -45.623786      1.545766      0.008350   \n91714             15.209137            -49.699073      1.565313      0.037428   \n\n       Pelvis_vel_2  Pelvis_angular_vel_0  ...  LeftFoot_pos_0  \\\n0         -0.001043             -0.000674  ...        1.618867   \n1         -0.001530             -0.000686  ...        1.618847   \n2         -0.001520             -0.000808  ...        1.618827   \n3         -0.001936             -0.005633  ...        1.618806   \n4         -0.001857             -0.007143  ...        1.618786   \n...             ...                   ...  ...             ...   \n91710      0.171214              0.214921  ...        0.765612   \n91711      0.153793             -0.008335  ...        0.768766   \n91712      0.134674             -0.224758  ...        0.771451   \n91713      0.111672             -0.420576  ...        0.773487   \n91714      0.083194             -0.584898  ...        0.774775   \n\n       LeftFoot_pos_1  LeftFoot_pos_2  time  year  id  sample  speed  \\\n0            9.162230        0.161790   350  2017  10       1   79.0   \n1            9.162230        0.161792   354  2017  10       1   79.0   \n2            9.162235        0.161795   359  2017  10       1   79.0   \n3            9.162238        0.161799   363  2017  10       1   79.0   \n4            9.162240        0.161802   367  2017  10       1   79.0   \n...               ...             ...   ...   ...  ..     ...    ...   \n91710        0.285792        0.211505   546  2021  83       2   80.0   \n91711        0.286086        0.209387   550  2021  83       2   80.0   \n91712        0.286508        0.207590   554  2021  83       2   80.0   \n91713        0.287239        0.206113   559  2021  83       2   80.0   \n91714        0.288382        0.204909   563  2021  83       2   80.0   \n\n             key  segment  \n0      2017_10_1       T2  \n1      2017_10_1       T2  \n2      2017_10_1       T2  \n3      2017_10_1       T2  \n4      2017_10_1       T2  \n...          ...      ...  \n91710  2021_83_2       T5  \n91711  2021_83_2       T5  \n91712  2021_83_2       T5  \n91713  2021_83_2       T5  \n91714  2021_83_2       T5  \n\n[91715 rows x 425 columns]",
      "text/html": "<div>\n<style scoped>\n    .dataframe tbody tr th:only-of-type {\n        vertical-align: middle;\n    }\n\n    .dataframe tbody tr th {\n        vertical-align: top;\n    }\n\n    .dataframe thead th {\n        text-align: right;\n    }\n</style>\n<table border=\"1\" class=\"dataframe\">\n  <thead>\n    <tr style=\"text-align: right;\">\n      <th></th>\n      <th>Pelvis_acc_0</th>\n      <th>Pelvis_acc_1</th>\n      <th>Pelvis_acc_2</th>\n      <th>Pelvis_angular_acc_0</th>\n      <th>Pelvis_angular_acc_1</th>\n      <th>Pelvis_angular_acc_2</th>\n      <th>Pelvis_vel_0</th>\n      <th>Pelvis_vel_1</th>\n      <th>Pelvis_vel_2</th>\n      <th>Pelvis_angular_vel_0</th>\n      <th>...</th>\n      <th>LeftFoot_pos_0</th>\n      <th>LeftFoot_pos_1</th>\n      <th>LeftFoot_pos_2</th>\n      <th>time</th>\n      <th>year</th>\n      <th>id</th>\n      <th>sample</th>\n      <th>speed</th>\n      <th>key</th>\n      <th>segment</th>\n    </tr>\n  </thead>\n  <tbody>\n    <tr>\n      <th>0</th>\n      <td>-0.054363</td>\n      <td>0.056517</td>\n      <td>-0.053088</td>\n      <td>0.420520</td>\n      <td>0.209671</td>\n      <td>-0.530950</td>\n      <td>0.007970</td>\n      <td>-0.003923</td>\n      <td>-0.001043</td>\n      <td>-0.000674</td>\n      <td>...</td>\n      <td>1.618867</td>\n      <td>9.162230</td>\n      <td>0.161790</td>\n      <td>350</td>\n      <td>2017</td>\n      <td>10</td>\n      <td>1</td>\n      <td>79.0</td>\n      <td>2017_10_1</td>\n      <td>T2</td>\n    </tr>\n    <tr>\n      <th>1</th>\n      <td>-0.107037</td>\n      <td>0.053799</td>\n      <td>-0.122576</td>\n      <td>-0.002736</td>\n      <td>0.640158</td>\n      <td>0.677067</td>\n      <td>0.007299</td>\n      <td>-0.004135</td>\n      <td>-0.001530</td>\n      <td>-0.000686</td>\n      <td>...</td>\n      <td>1.618847</td>\n      <td>9.162230</td>\n      <td>0.161792</td>\n      <td>354</td>\n      <td>2017</td>\n      <td>10</td>\n      <td>1</td>\n      <td>79.0</td>\n      <td>2017_10_1</td>\n      <td>T2</td>\n    </tr>\n    <tr>\n      <th>2</th>\n      <td>0.144353</td>\n      <td>-0.014925</td>\n      <td>-0.004969</td>\n      <td>-0.029263</td>\n      <td>-1.064792</td>\n      <td>0.387637</td>\n      <td>0.007754</td>\n      <td>-0.004556</td>\n      <td>-0.001520</td>\n      <td>-0.000808</td>\n      <td>...</td>\n      <td>1.618827</td>\n      <td>9.162235</td>\n      <td>0.161795</td>\n      <td>359</td>\n      <td>2017</td>\n      <td>10</td>\n      <td>1</td>\n      <td>79.0</td>\n      <td>2017_10_1</td>\n      <td>T2</td>\n    </tr>\n    <tr>\n      <th>3</th>\n      <td>-0.030959</td>\n      <td>-0.105743</td>\n      <td>-0.107790</td>\n      <td>-1.158075</td>\n      <td>0.311378</td>\n      <td>0.144316</td>\n      <td>0.007494</td>\n      <td>-0.005328</td>\n      <td>-0.001936</td>\n      <td>-0.005633</td>\n      <td>...</td>\n      <td>1.618806</td>\n      <td>9.162238</td>\n      <td>0.161799</td>\n      <td>363</td>\n      <td>2017</td>\n      <td>10</td>\n      <td>1</td>\n      <td>79.0</td>\n      <td>2017_10_1</td>\n      <td>T2</td>\n    </tr>\n    <tr>\n      <th>4</th>\n      <td>0.059421</td>\n      <td>-0.083124</td>\n      <td>0.010181</td>\n      <td>-0.362501</td>\n      <td>-0.402047</td>\n      <td>-0.376975</td>\n      <td>0.007641</td>\n      <td>-0.005942</td>\n      <td>-0.001857</td>\n      <td>-0.007143</td>\n      <td>...</td>\n      <td>1.618786</td>\n      <td>9.162240</td>\n      <td>0.161802</td>\n      <td>367</td>\n      <td>2017</td>\n      <td>10</td>\n      <td>1</td>\n      <td>79.0</td>\n      <td>2017_10_1</td>\n      <td>T2</td>\n    </tr>\n    <tr>\n      <th>...</th>\n      <td>...</td>\n      <td>...</td>\n      <td>...</td>\n      <td>...</td>\n      <td>...</td>\n      <td>...</td>\n      <td>...</td>\n      <td>...</td>\n      <td>...</td>\n      <td>...</td>\n      <td>...</td>\n      <td>...</td>\n      <td>...</td>\n      <td>...</td>\n      <td>...</td>\n      <td>...</td>\n      <td>...</td>\n      <td>...</td>\n      <td>...</td>\n      <td>...</td>\n      <td>...</td>\n    </tr>\n    <tr>\n      <th>91710</th>\n      <td>2.768642</td>\n      <td>-0.111274</td>\n      <td>-3.398066</td>\n      <td>-50.671607</td>\n      <td>16.548586</td>\n      <td>-30.871259</td>\n      <td>1.486902</td>\n      <td>-0.038364</td>\n      <td>0.171214</td>\n      <td>0.214921</td>\n      <td>...</td>\n      <td>0.765612</td>\n      <td>0.285792</td>\n      <td>0.211505</td>\n      <td>546</td>\n      <td>2021</td>\n      <td>83</td>\n      <td>2</td>\n      <td>80.0</td>\n      <td>2021_83_2</td>\n      <td>T5</td>\n    </tr>\n    <tr>\n      <th>91711</th>\n      <td>1.977710</td>\n      <td>0.114427</td>\n      <td>-4.097666</td>\n      <td>-53.581650</td>\n      <td>19.719689</td>\n      <td>-35.784542</td>\n      <td>1.506722</td>\n      <td>-0.027991</td>\n      <td>0.153793</td>\n      <td>-0.008335</td>\n      <td>...</td>\n      <td>0.768766</td>\n      <td>0.286086</td>\n      <td>0.209387</td>\n      <td>550</td>\n      <td>2021</td>\n      <td>83</td>\n      <td>2</td>\n      <td>80.0</td>\n      <td>2021_83_2</td>\n      <td>T5</td>\n    </tr>\n    <tr>\n      <th>91712</th>\n      <td>1.337048</td>\n      <td>0.807283</td>\n      <td>-6.118449</td>\n      <td>-51.941492</td>\n      <td>24.628179</td>\n      <td>-39.636580</td>\n      <td>1.526256</td>\n      <td>-0.013196</td>\n      <td>0.134674</td>\n      <td>-0.224758</td>\n      <td>...</td>\n      <td>0.771451</td>\n      <td>0.286508</td>\n      <td>0.207590</td>\n      <td>554</td>\n      <td>2021</td>\n      <td>83</td>\n      <td>2</td>\n      <td>80.0</td>\n      <td>2021_83_2</td>\n      <td>T5</td>\n    </tr>\n    <tr>\n      <th>91713</th>\n      <td>1.636446</td>\n      <td>1.748325</td>\n      <td>-7.019642</td>\n      <td>-46.996131</td>\n      <td>20.312061</td>\n      <td>-45.623786</td>\n      <td>1.545766</td>\n      <td>0.008350</td>\n      <td>0.111672</td>\n      <td>-0.420576</td>\n      <td>...</td>\n      <td>0.773487</td>\n      <td>0.287239</td>\n      <td>0.206113</td>\n      <td>559</td>\n      <td>2021</td>\n      <td>83</td>\n      <td>2</td>\n      <td>80.0</td>\n      <td>2021_83_2</td>\n      <td>T5</td>\n    </tr>\n    <tr>\n      <th>91714</th>\n      <td>2.192252</td>\n      <td>3.361778</td>\n      <td>-7.891036</td>\n      <td>-39.437375</td>\n      <td>15.209137</td>\n      <td>-49.699073</td>\n      <td>1.565313</td>\n      <td>0.037428</td>\n      <td>0.083194</td>\n      <td>-0.584898</td>\n      <td>...</td>\n      <td>0.774775</td>\n      <td>0.288382</td>\n      <td>0.204909</td>\n      <td>563</td>\n      <td>2021</td>\n      <td>83</td>\n      <td>2</td>\n      <td>80.0</td>\n      <td>2021_83_2</td>\n      <td>T5</td>\n    </tr>\n  </tbody>\n</table>\n<p>91715 rows × 425 columns</p>\n</div>"
     },
     "execution_count": 115,
     "metadata": {},
     "output_type": "execute_result"
    }
   ],
   "source": [
    "data = pd.read_pickle('data_for_feature_engineering.pkl')\n",
    "data"
   ],
   "metadata": {
    "collapsed": false,
    "pycharm": {
     "name": "#%%\n"
    }
   }
  },
  {
   "cell_type": "markdown",
   "source": [
    "keep only the first instance of segment T5 per user and per trial"
   ],
   "metadata": {
    "collapsed": false,
    "pycharm": {
     "name": "#%% md\n"
    }
   }
  },
  {
   "cell_type": "code",
   "execution_count": 116,
   "outputs": [
    {
     "data": {
      "text/plain": "       Pelvis_acc_0  Pelvis_acc_1  Pelvis_acc_2  Pelvis_angular_acc_0  \\\n74         0.152512     -0.795918      0.123093              0.025530   \n75         0.318390     -0.832675      0.060367             -0.276795   \n76         0.221898     -0.626987     -0.070908              1.720788   \n77         0.539407     -0.833769      0.098279              0.276090   \n78         0.468945     -1.036165      0.045915             -0.803576   \n...             ...           ...           ...                   ...   \n91710      2.768642     -0.111274     -3.398066            -50.671607   \n91711      1.977710      0.114427     -4.097666            -53.581650   \n91712      1.337048      0.807283     -6.118449            -51.941492   \n91713      1.636446      1.748325     -7.019642            -46.996131   \n91714      2.192252      3.361778     -7.891036            -39.437375   \n\n       Pelvis_angular_acc_1  Pelvis_angular_acc_2  Pelvis_vel_0  Pelvis_vel_1  \\\n74                 1.947904             -0.380464      0.063529     -0.077690   \n75                 1.146434              0.739649      0.064831     -0.080554   \n76                 2.390649              0.177294      0.065696     -0.082584   \n77                 0.285215              0.652241      0.067695     -0.085555   \n78                 0.601857              0.070244      0.069187     -0.089436   \n...                     ...                   ...           ...           ...   \n91710             16.548586            -30.871259      1.486902     -0.038364   \n91711             19.719689            -35.784542      1.506722     -0.027991   \n91712             24.628179            -39.636580      1.526256     -0.013196   \n91713             20.312061            -45.623786      1.545766      0.008350   \n91714             15.209137            -49.699073      1.565313      0.037428   \n\n       Pelvis_vel_2  Pelvis_angular_vel_0  ...  LeftFoot_pos_0  \\\n74        -0.011966              0.128181  ...        1.618889   \n75        -0.012061              0.127028  ...        1.618861   \n76        -0.012752              0.134198  ...        1.618838   \n77        -0.012773              0.135348  ...        1.618814   \n78        -0.013029              0.132000  ...        1.618787   \n...             ...                   ...  ...             ...   \n91710      0.171214              0.214921  ...        0.765612   \n91711      0.153793             -0.008335  ...        0.768766   \n91712      0.134674             -0.224758  ...        0.771451   \n91713      0.111672             -0.420576  ...        0.773487   \n91714      0.083194             -0.584898  ...        0.774775   \n\n       LeftFoot_pos_1  LeftFoot_pos_2  time  year  id  sample  speed  \\\n74           9.160253        0.162960   659  2017  10       1   79.0   \n75           9.160270        0.162975   663  2017  10       1   79.0   \n76           9.160299        0.162987   667  2017  10       1   79.0   \n77           9.160331        0.162995   671  2017  10       1   79.0   \n78           9.160362        0.163003   675  2017  10       1   79.0   \n...               ...             ...   ...   ...  ..     ...    ...   \n91710        0.285792        0.211505   546  2021  83       2   80.0   \n91711        0.286086        0.209387   550  2021  83       2   80.0   \n91712        0.286508        0.207590   554  2021  83       2   80.0   \n91713        0.287239        0.206113   559  2021  83       2   80.0   \n91714        0.288382        0.204909   563  2021  83       2   80.0   \n\n             key  segment  \n74     2017_10_1       T5  \n75     2017_10_1       T5  \n76     2017_10_1       T5  \n77     2017_10_1       T5  \n78     2017_10_1       T5  \n...          ...      ...  \n91710  2021_83_2       T5  \n91711  2021_83_2       T5  \n91712  2021_83_2       T5  \n91713  2021_83_2       T5  \n91714  2021_83_2       T5  \n\n[31916 rows x 425 columns]",
      "text/html": "<div>\n<style scoped>\n    .dataframe tbody tr th:only-of-type {\n        vertical-align: middle;\n    }\n\n    .dataframe tbody tr th {\n        vertical-align: top;\n    }\n\n    .dataframe thead th {\n        text-align: right;\n    }\n</style>\n<table border=\"1\" class=\"dataframe\">\n  <thead>\n    <tr style=\"text-align: right;\">\n      <th></th>\n      <th>Pelvis_acc_0</th>\n      <th>Pelvis_acc_1</th>\n      <th>Pelvis_acc_2</th>\n      <th>Pelvis_angular_acc_0</th>\n      <th>Pelvis_angular_acc_1</th>\n      <th>Pelvis_angular_acc_2</th>\n      <th>Pelvis_vel_0</th>\n      <th>Pelvis_vel_1</th>\n      <th>Pelvis_vel_2</th>\n      <th>Pelvis_angular_vel_0</th>\n      <th>...</th>\n      <th>LeftFoot_pos_0</th>\n      <th>LeftFoot_pos_1</th>\n      <th>LeftFoot_pos_2</th>\n      <th>time</th>\n      <th>year</th>\n      <th>id</th>\n      <th>sample</th>\n      <th>speed</th>\n      <th>key</th>\n      <th>segment</th>\n    </tr>\n  </thead>\n  <tbody>\n    <tr>\n      <th>74</th>\n      <td>0.152512</td>\n      <td>-0.795918</td>\n      <td>0.123093</td>\n      <td>0.025530</td>\n      <td>1.947904</td>\n      <td>-0.380464</td>\n      <td>0.063529</td>\n      <td>-0.077690</td>\n      <td>-0.011966</td>\n      <td>0.128181</td>\n      <td>...</td>\n      <td>1.618889</td>\n      <td>9.160253</td>\n      <td>0.162960</td>\n      <td>659</td>\n      <td>2017</td>\n      <td>10</td>\n      <td>1</td>\n      <td>79.0</td>\n      <td>2017_10_1</td>\n      <td>T5</td>\n    </tr>\n    <tr>\n      <th>75</th>\n      <td>0.318390</td>\n      <td>-0.832675</td>\n      <td>0.060367</td>\n      <td>-0.276795</td>\n      <td>1.146434</td>\n      <td>0.739649</td>\n      <td>0.064831</td>\n      <td>-0.080554</td>\n      <td>-0.012061</td>\n      <td>0.127028</td>\n      <td>...</td>\n      <td>1.618861</td>\n      <td>9.160270</td>\n      <td>0.162975</td>\n      <td>663</td>\n      <td>2017</td>\n      <td>10</td>\n      <td>1</td>\n      <td>79.0</td>\n      <td>2017_10_1</td>\n      <td>T5</td>\n    </tr>\n    <tr>\n      <th>76</th>\n      <td>0.221898</td>\n      <td>-0.626987</td>\n      <td>-0.070908</td>\n      <td>1.720788</td>\n      <td>2.390649</td>\n      <td>0.177294</td>\n      <td>0.065696</td>\n      <td>-0.082584</td>\n      <td>-0.012752</td>\n      <td>0.134198</td>\n      <td>...</td>\n      <td>1.618838</td>\n      <td>9.160299</td>\n      <td>0.162987</td>\n      <td>667</td>\n      <td>2017</td>\n      <td>10</td>\n      <td>1</td>\n      <td>79.0</td>\n      <td>2017_10_1</td>\n      <td>T5</td>\n    </tr>\n    <tr>\n      <th>77</th>\n      <td>0.539407</td>\n      <td>-0.833769</td>\n      <td>0.098279</td>\n      <td>0.276090</td>\n      <td>0.285215</td>\n      <td>0.652241</td>\n      <td>0.067695</td>\n      <td>-0.085555</td>\n      <td>-0.012773</td>\n      <td>0.135348</td>\n      <td>...</td>\n      <td>1.618814</td>\n      <td>9.160331</td>\n      <td>0.162995</td>\n      <td>671</td>\n      <td>2017</td>\n      <td>10</td>\n      <td>1</td>\n      <td>79.0</td>\n      <td>2017_10_1</td>\n      <td>T5</td>\n    </tr>\n    <tr>\n      <th>78</th>\n      <td>0.468945</td>\n      <td>-1.036165</td>\n      <td>0.045915</td>\n      <td>-0.803576</td>\n      <td>0.601857</td>\n      <td>0.070244</td>\n      <td>0.069187</td>\n      <td>-0.089436</td>\n      <td>-0.013029</td>\n      <td>0.132000</td>\n      <td>...</td>\n      <td>1.618787</td>\n      <td>9.160362</td>\n      <td>0.163003</td>\n      <td>675</td>\n      <td>2017</td>\n      <td>10</td>\n      <td>1</td>\n      <td>79.0</td>\n      <td>2017_10_1</td>\n      <td>T5</td>\n    </tr>\n    <tr>\n      <th>...</th>\n      <td>...</td>\n      <td>...</td>\n      <td>...</td>\n      <td>...</td>\n      <td>...</td>\n      <td>...</td>\n      <td>...</td>\n      <td>...</td>\n      <td>...</td>\n      <td>...</td>\n      <td>...</td>\n      <td>...</td>\n      <td>...</td>\n      <td>...</td>\n      <td>...</td>\n      <td>...</td>\n      <td>...</td>\n      <td>...</td>\n      <td>...</td>\n      <td>...</td>\n      <td>...</td>\n    </tr>\n    <tr>\n      <th>91710</th>\n      <td>2.768642</td>\n      <td>-0.111274</td>\n      <td>-3.398066</td>\n      <td>-50.671607</td>\n      <td>16.548586</td>\n      <td>-30.871259</td>\n      <td>1.486902</td>\n      <td>-0.038364</td>\n      <td>0.171214</td>\n      <td>0.214921</td>\n      <td>...</td>\n      <td>0.765612</td>\n      <td>0.285792</td>\n      <td>0.211505</td>\n      <td>546</td>\n      <td>2021</td>\n      <td>83</td>\n      <td>2</td>\n      <td>80.0</td>\n      <td>2021_83_2</td>\n      <td>T5</td>\n    </tr>\n    <tr>\n      <th>91711</th>\n      <td>1.977710</td>\n      <td>0.114427</td>\n      <td>-4.097666</td>\n      <td>-53.581650</td>\n      <td>19.719689</td>\n      <td>-35.784542</td>\n      <td>1.506722</td>\n      <td>-0.027991</td>\n      <td>0.153793</td>\n      <td>-0.008335</td>\n      <td>...</td>\n      <td>0.768766</td>\n      <td>0.286086</td>\n      <td>0.209387</td>\n      <td>550</td>\n      <td>2021</td>\n      <td>83</td>\n      <td>2</td>\n      <td>80.0</td>\n      <td>2021_83_2</td>\n      <td>T5</td>\n    </tr>\n    <tr>\n      <th>91712</th>\n      <td>1.337048</td>\n      <td>0.807283</td>\n      <td>-6.118449</td>\n      <td>-51.941492</td>\n      <td>24.628179</td>\n      <td>-39.636580</td>\n      <td>1.526256</td>\n      <td>-0.013196</td>\n      <td>0.134674</td>\n      <td>-0.224758</td>\n      <td>...</td>\n      <td>0.771451</td>\n      <td>0.286508</td>\n      <td>0.207590</td>\n      <td>554</td>\n      <td>2021</td>\n      <td>83</td>\n      <td>2</td>\n      <td>80.0</td>\n      <td>2021_83_2</td>\n      <td>T5</td>\n    </tr>\n    <tr>\n      <th>91713</th>\n      <td>1.636446</td>\n      <td>1.748325</td>\n      <td>-7.019642</td>\n      <td>-46.996131</td>\n      <td>20.312061</td>\n      <td>-45.623786</td>\n      <td>1.545766</td>\n      <td>0.008350</td>\n      <td>0.111672</td>\n      <td>-0.420576</td>\n      <td>...</td>\n      <td>0.773487</td>\n      <td>0.287239</td>\n      <td>0.206113</td>\n      <td>559</td>\n      <td>2021</td>\n      <td>83</td>\n      <td>2</td>\n      <td>80.0</td>\n      <td>2021_83_2</td>\n      <td>T5</td>\n    </tr>\n    <tr>\n      <th>91714</th>\n      <td>2.192252</td>\n      <td>3.361778</td>\n      <td>-7.891036</td>\n      <td>-39.437375</td>\n      <td>15.209137</td>\n      <td>-49.699073</td>\n      <td>1.565313</td>\n      <td>0.037428</td>\n      <td>0.083194</td>\n      <td>-0.584898</td>\n      <td>...</td>\n      <td>0.774775</td>\n      <td>0.288382</td>\n      <td>0.204909</td>\n      <td>563</td>\n      <td>2021</td>\n      <td>83</td>\n      <td>2</td>\n      <td>80.0</td>\n      <td>2021_83_2</td>\n      <td>T5</td>\n    </tr>\n  </tbody>\n</table>\n<p>31916 rows × 425 columns</p>\n</div>"
     },
     "execution_count": 116,
     "metadata": {},
     "output_type": "execute_result"
    }
   ],
   "source": [
    "# keep only T5\n",
    "data = data.loc[data['segment'] == 'T5']\n",
    "data"
   ],
   "metadata": {
    "collapsed": false,
    "pycharm": {
     "name": "#%%\n"
    }
   }
  },
  {
   "cell_type": "code",
   "execution_count": 117,
   "outputs": [],
   "source": [
    "dragging_df = pd.DataFrame(columns=['user', 'trial', 'key', 'speed', 'dragging_distance'])"
   ],
   "metadata": {
    "collapsed": false,
    "pycharm": {
     "name": "#%%\n"
    }
   }
  },
  {
   "cell_type": "code",
   "execution_count": 118,
   "outputs": [
    {
     "data": {
      "text/plain": "    user trial        key speed dragging_distance\n0     10     1  2017_10_1  79.0          6.856116\n1     10     2  2017_10_2  82.0          8.007453\n2     10     3  2017_10_3  78.0          8.272834\n3     10     4  2017_10_4  77.0          8.270136\n4     10     5  2017_10_5  78.0          8.345373\n..   ...   ...        ...   ...               ...\n331   82     2  2021_82_2  74.0          4.501218\n332   82     3  2021_82_3  79.0          3.197927\n333   82     4  2021_82_4  77.0          3.728238\n334   82     7  2021_82_7  90.0          3.945878\n335   83     2  2021_83_2  80.0          1.461298\n\n[336 rows x 5 columns]",
      "text/html": "<div>\n<style scoped>\n    .dataframe tbody tr th:only-of-type {\n        vertical-align: middle;\n    }\n\n    .dataframe tbody tr th {\n        vertical-align: top;\n    }\n\n    .dataframe thead th {\n        text-align: right;\n    }\n</style>\n<table border=\"1\" class=\"dataframe\">\n  <thead>\n    <tr style=\"text-align: right;\">\n      <th></th>\n      <th>user</th>\n      <th>trial</th>\n      <th>key</th>\n      <th>speed</th>\n      <th>dragging_distance</th>\n    </tr>\n  </thead>\n  <tbody>\n    <tr>\n      <th>0</th>\n      <td>10</td>\n      <td>1</td>\n      <td>2017_10_1</td>\n      <td>79.0</td>\n      <td>6.856116</td>\n    </tr>\n    <tr>\n      <th>1</th>\n      <td>10</td>\n      <td>2</td>\n      <td>2017_10_2</td>\n      <td>82.0</td>\n      <td>8.007453</td>\n    </tr>\n    <tr>\n      <th>2</th>\n      <td>10</td>\n      <td>3</td>\n      <td>2017_10_3</td>\n      <td>78.0</td>\n      <td>8.272834</td>\n    </tr>\n    <tr>\n      <th>3</th>\n      <td>10</td>\n      <td>4</td>\n      <td>2017_10_4</td>\n      <td>77.0</td>\n      <td>8.270136</td>\n    </tr>\n    <tr>\n      <th>4</th>\n      <td>10</td>\n      <td>5</td>\n      <td>2017_10_5</td>\n      <td>78.0</td>\n      <td>8.345373</td>\n    </tr>\n    <tr>\n      <th>...</th>\n      <td>...</td>\n      <td>...</td>\n      <td>...</td>\n      <td>...</td>\n      <td>...</td>\n    </tr>\n    <tr>\n      <th>331</th>\n      <td>82</td>\n      <td>2</td>\n      <td>2021_82_2</td>\n      <td>74.0</td>\n      <td>4.501218</td>\n    </tr>\n    <tr>\n      <th>332</th>\n      <td>82</td>\n      <td>3</td>\n      <td>2021_82_3</td>\n      <td>79.0</td>\n      <td>3.197927</td>\n    </tr>\n    <tr>\n      <th>333</th>\n      <td>82</td>\n      <td>4</td>\n      <td>2021_82_4</td>\n      <td>77.0</td>\n      <td>3.728238</td>\n    </tr>\n    <tr>\n      <th>334</th>\n      <td>82</td>\n      <td>7</td>\n      <td>2021_82_7</td>\n      <td>90.0</td>\n      <td>3.945878</td>\n    </tr>\n    <tr>\n      <th>335</th>\n      <td>83</td>\n      <td>2</td>\n      <td>2021_83_2</td>\n      <td>80.0</td>\n      <td>1.461298</td>\n    </tr>\n  </tbody>\n</table>\n<p>336 rows × 5 columns</p>\n</div>"
     },
     "execution_count": 118,
     "metadata": {},
     "output_type": "execute_result"
    }
   ],
   "source": [
    "# per user and per trial\n",
    "users = list(data['id'].unique())\n",
    "for user in users:\n",
    "    user_data = data.loc[data['id'] == user]\n",
    "    trials = list(user_data['sample'].unique())\n",
    "    for trial in trials:\n",
    "        user_trial_data = user_data.loc[user_data['sample'] == trial]\n",
    "\n",
    "        # current df\n",
    "        dragging_current_df = pd.DataFrame(columns=['user', 'trial', 'key', 'speed','dragging_distance'])\n",
    "        dragging_current_df.loc[0, 'user'] = user\n",
    "        dragging_current_df.loc[0, 'trial'] = trial\n",
    "        dragging_current_df.loc[0, 'key'] = user_trial_data['key'].iloc[0]\n",
    "        dragging_current_df.loc[0, 'speed'] = user_trial_data['speed'].iloc[0]\n",
    "\n",
    "        # first instance of T5\n",
    "        data_T5 = user_trial_data.loc[(user_trial_data['segment'] == 'T5')]\n",
    "        data_T5 = data_T5.iloc[:1, :]\n",
    "\n",
    "        # calculate dragging_distance\n",
    "        ball_position = np.array([0, 2.5, 0])\n",
    "        left_foot = np.array([data_T5.loc[0:, 'LeftFoot_pos_0'].values[0], data_T5.loc[0:, 'LeftFoot_pos_1'].values[0], data_T5.loc[0:, 'LeftFoot_pos_2'].values[0]])\n",
    "        dragging_distance = np.sqrt(np.sum((ball_position-left_foot)**2, axis=0))\n",
    "\n",
    "        # current df\n",
    "        dragging_current_df.loc[0, 'dragging_distance'] = dragging_distance\n",
    "\n",
    "        # concat to the final stance_df\n",
    "        dragging_df = pd.concat([dragging_df, dragging_current_df])\n",
    "\n",
    "dragging_df.reset_index(drop=True, inplace=True)\n",
    "dragging_df"
   ],
   "metadata": {
    "collapsed": false,
    "pycharm": {
     "name": "#%%\n"
    }
   }
  },
  {
   "cell_type": "code",
   "execution_count": 119,
   "outputs": [],
   "source": [
    "dragging_df.to_pickle('dragging_df.pkl')"
   ],
   "metadata": {
    "collapsed": false,
    "pycharm": {
     "name": "#%%\n"
    }
   }
  },
  {
   "cell_type": "markdown",
   "source": [
    "### Foot-ball distance\n",
    "Based on the paper, foot-ball distance = initial_ball_position - left_foot at step 3.\n",
    "So we need to calculate the foot-ball distance per user and per trial as:\n",
    "##### foot_ball_distance = distance((0, 2.5 , 0), (LeftFoot_pos_0, LeftFoot_pos_1, LeftFoot_pos_2))"
   ],
   "metadata": {
    "collapsed": false,
    "pycharm": {
     "name": "#%% md\n"
    }
   }
  },
  {
   "cell_type": "code",
   "execution_count": 120,
   "outputs": [
    {
     "data": {
      "text/plain": "       Pelvis_acc_0  Pelvis_acc_1  Pelvis_acc_2  Pelvis_angular_acc_0  \\\n0         -0.054363      0.056517     -0.053088              0.420520   \n1         -0.107037      0.053799     -0.122576             -0.002736   \n2          0.144353     -0.014925     -0.004969             -0.029263   \n3         -0.030959     -0.105743     -0.107790             -1.158075   \n4          0.059421     -0.083124      0.010181             -0.362501   \n...             ...           ...           ...                   ...   \n91710      2.768642     -0.111274     -3.398066            -50.671607   \n91711      1.977710      0.114427     -4.097666            -53.581650   \n91712      1.337048      0.807283     -6.118449            -51.941492   \n91713      1.636446      1.748325     -7.019642            -46.996131   \n91714      2.192252      3.361778     -7.891036            -39.437375   \n\n       Pelvis_angular_acc_1  Pelvis_angular_acc_2  Pelvis_vel_0  Pelvis_vel_1  \\\n0                  0.209671             -0.530950      0.007970     -0.003923   \n1                  0.640158              0.677067      0.007299     -0.004135   \n2                 -1.064792              0.387637      0.007754     -0.004556   \n3                  0.311378              0.144316      0.007494     -0.005328   \n4                 -0.402047             -0.376975      0.007641     -0.005942   \n...                     ...                   ...           ...           ...   \n91710             16.548586            -30.871259      1.486902     -0.038364   \n91711             19.719689            -35.784542      1.506722     -0.027991   \n91712             24.628179            -39.636580      1.526256     -0.013196   \n91713             20.312061            -45.623786      1.545766      0.008350   \n91714             15.209137            -49.699073      1.565313      0.037428   \n\n       Pelvis_vel_2  Pelvis_angular_vel_0  ...  LeftFoot_pos_0  \\\n0         -0.001043             -0.000674  ...        1.618867   \n1         -0.001530             -0.000686  ...        1.618847   \n2         -0.001520             -0.000808  ...        1.618827   \n3         -0.001936             -0.005633  ...        1.618806   \n4         -0.001857             -0.007143  ...        1.618786   \n...             ...                   ...  ...             ...   \n91710      0.171214              0.214921  ...        0.765612   \n91711      0.153793             -0.008335  ...        0.768766   \n91712      0.134674             -0.224758  ...        0.771451   \n91713      0.111672             -0.420576  ...        0.773487   \n91714      0.083194             -0.584898  ...        0.774775   \n\n       LeftFoot_pos_1  LeftFoot_pos_2  time  year  id  sample  speed  \\\n0            9.162230        0.161790   350  2017  10       1   79.0   \n1            9.162230        0.161792   354  2017  10       1   79.0   \n2            9.162235        0.161795   359  2017  10       1   79.0   \n3            9.162238        0.161799   363  2017  10       1   79.0   \n4            9.162240        0.161802   367  2017  10       1   79.0   \n...               ...             ...   ...   ...  ..     ...    ...   \n91710        0.285792        0.211505   546  2021  83       2   80.0   \n91711        0.286086        0.209387   550  2021  83       2   80.0   \n91712        0.286508        0.207590   554  2021  83       2   80.0   \n91713        0.287239        0.206113   559  2021  83       2   80.0   \n91714        0.288382        0.204909   563  2021  83       2   80.0   \n\n             key  segment  \n0      2017_10_1       T2  \n1      2017_10_1       T2  \n2      2017_10_1       T2  \n3      2017_10_1       T2  \n4      2017_10_1       T2  \n...          ...      ...  \n91710  2021_83_2       T5  \n91711  2021_83_2       T5  \n91712  2021_83_2       T5  \n91713  2021_83_2       T5  \n91714  2021_83_2       T5  \n\n[91715 rows x 425 columns]",
      "text/html": "<div>\n<style scoped>\n    .dataframe tbody tr th:only-of-type {\n        vertical-align: middle;\n    }\n\n    .dataframe tbody tr th {\n        vertical-align: top;\n    }\n\n    .dataframe thead th {\n        text-align: right;\n    }\n</style>\n<table border=\"1\" class=\"dataframe\">\n  <thead>\n    <tr style=\"text-align: right;\">\n      <th></th>\n      <th>Pelvis_acc_0</th>\n      <th>Pelvis_acc_1</th>\n      <th>Pelvis_acc_2</th>\n      <th>Pelvis_angular_acc_0</th>\n      <th>Pelvis_angular_acc_1</th>\n      <th>Pelvis_angular_acc_2</th>\n      <th>Pelvis_vel_0</th>\n      <th>Pelvis_vel_1</th>\n      <th>Pelvis_vel_2</th>\n      <th>Pelvis_angular_vel_0</th>\n      <th>...</th>\n      <th>LeftFoot_pos_0</th>\n      <th>LeftFoot_pos_1</th>\n      <th>LeftFoot_pos_2</th>\n      <th>time</th>\n      <th>year</th>\n      <th>id</th>\n      <th>sample</th>\n      <th>speed</th>\n      <th>key</th>\n      <th>segment</th>\n    </tr>\n  </thead>\n  <tbody>\n    <tr>\n      <th>0</th>\n      <td>-0.054363</td>\n      <td>0.056517</td>\n      <td>-0.053088</td>\n      <td>0.420520</td>\n      <td>0.209671</td>\n      <td>-0.530950</td>\n      <td>0.007970</td>\n      <td>-0.003923</td>\n      <td>-0.001043</td>\n      <td>-0.000674</td>\n      <td>...</td>\n      <td>1.618867</td>\n      <td>9.162230</td>\n      <td>0.161790</td>\n      <td>350</td>\n      <td>2017</td>\n      <td>10</td>\n      <td>1</td>\n      <td>79.0</td>\n      <td>2017_10_1</td>\n      <td>T2</td>\n    </tr>\n    <tr>\n      <th>1</th>\n      <td>-0.107037</td>\n      <td>0.053799</td>\n      <td>-0.122576</td>\n      <td>-0.002736</td>\n      <td>0.640158</td>\n      <td>0.677067</td>\n      <td>0.007299</td>\n      <td>-0.004135</td>\n      <td>-0.001530</td>\n      <td>-0.000686</td>\n      <td>...</td>\n      <td>1.618847</td>\n      <td>9.162230</td>\n      <td>0.161792</td>\n      <td>354</td>\n      <td>2017</td>\n      <td>10</td>\n      <td>1</td>\n      <td>79.0</td>\n      <td>2017_10_1</td>\n      <td>T2</td>\n    </tr>\n    <tr>\n      <th>2</th>\n      <td>0.144353</td>\n      <td>-0.014925</td>\n      <td>-0.004969</td>\n      <td>-0.029263</td>\n      <td>-1.064792</td>\n      <td>0.387637</td>\n      <td>0.007754</td>\n      <td>-0.004556</td>\n      <td>-0.001520</td>\n      <td>-0.000808</td>\n      <td>...</td>\n      <td>1.618827</td>\n      <td>9.162235</td>\n      <td>0.161795</td>\n      <td>359</td>\n      <td>2017</td>\n      <td>10</td>\n      <td>1</td>\n      <td>79.0</td>\n      <td>2017_10_1</td>\n      <td>T2</td>\n    </tr>\n    <tr>\n      <th>3</th>\n      <td>-0.030959</td>\n      <td>-0.105743</td>\n      <td>-0.107790</td>\n      <td>-1.158075</td>\n      <td>0.311378</td>\n      <td>0.144316</td>\n      <td>0.007494</td>\n      <td>-0.005328</td>\n      <td>-0.001936</td>\n      <td>-0.005633</td>\n      <td>...</td>\n      <td>1.618806</td>\n      <td>9.162238</td>\n      <td>0.161799</td>\n      <td>363</td>\n      <td>2017</td>\n      <td>10</td>\n      <td>1</td>\n      <td>79.0</td>\n      <td>2017_10_1</td>\n      <td>T2</td>\n    </tr>\n    <tr>\n      <th>4</th>\n      <td>0.059421</td>\n      <td>-0.083124</td>\n      <td>0.010181</td>\n      <td>-0.362501</td>\n      <td>-0.402047</td>\n      <td>-0.376975</td>\n      <td>0.007641</td>\n      <td>-0.005942</td>\n      <td>-0.001857</td>\n      <td>-0.007143</td>\n      <td>...</td>\n      <td>1.618786</td>\n      <td>9.162240</td>\n      <td>0.161802</td>\n      <td>367</td>\n      <td>2017</td>\n      <td>10</td>\n      <td>1</td>\n      <td>79.0</td>\n      <td>2017_10_1</td>\n      <td>T2</td>\n    </tr>\n    <tr>\n      <th>...</th>\n      <td>...</td>\n      <td>...</td>\n      <td>...</td>\n      <td>...</td>\n      <td>...</td>\n      <td>...</td>\n      <td>...</td>\n      <td>...</td>\n      <td>...</td>\n      <td>...</td>\n      <td>...</td>\n      <td>...</td>\n      <td>...</td>\n      <td>...</td>\n      <td>...</td>\n      <td>...</td>\n      <td>...</td>\n      <td>...</td>\n      <td>...</td>\n      <td>...</td>\n      <td>...</td>\n    </tr>\n    <tr>\n      <th>91710</th>\n      <td>2.768642</td>\n      <td>-0.111274</td>\n      <td>-3.398066</td>\n      <td>-50.671607</td>\n      <td>16.548586</td>\n      <td>-30.871259</td>\n      <td>1.486902</td>\n      <td>-0.038364</td>\n      <td>0.171214</td>\n      <td>0.214921</td>\n      <td>...</td>\n      <td>0.765612</td>\n      <td>0.285792</td>\n      <td>0.211505</td>\n      <td>546</td>\n      <td>2021</td>\n      <td>83</td>\n      <td>2</td>\n      <td>80.0</td>\n      <td>2021_83_2</td>\n      <td>T5</td>\n    </tr>\n    <tr>\n      <th>91711</th>\n      <td>1.977710</td>\n      <td>0.114427</td>\n      <td>-4.097666</td>\n      <td>-53.581650</td>\n      <td>19.719689</td>\n      <td>-35.784542</td>\n      <td>1.506722</td>\n      <td>-0.027991</td>\n      <td>0.153793</td>\n      <td>-0.008335</td>\n      <td>...</td>\n      <td>0.768766</td>\n      <td>0.286086</td>\n      <td>0.209387</td>\n      <td>550</td>\n      <td>2021</td>\n      <td>83</td>\n      <td>2</td>\n      <td>80.0</td>\n      <td>2021_83_2</td>\n      <td>T5</td>\n    </tr>\n    <tr>\n      <th>91712</th>\n      <td>1.337048</td>\n      <td>0.807283</td>\n      <td>-6.118449</td>\n      <td>-51.941492</td>\n      <td>24.628179</td>\n      <td>-39.636580</td>\n      <td>1.526256</td>\n      <td>-0.013196</td>\n      <td>0.134674</td>\n      <td>-0.224758</td>\n      <td>...</td>\n      <td>0.771451</td>\n      <td>0.286508</td>\n      <td>0.207590</td>\n      <td>554</td>\n      <td>2021</td>\n      <td>83</td>\n      <td>2</td>\n      <td>80.0</td>\n      <td>2021_83_2</td>\n      <td>T5</td>\n    </tr>\n    <tr>\n      <th>91713</th>\n      <td>1.636446</td>\n      <td>1.748325</td>\n      <td>-7.019642</td>\n      <td>-46.996131</td>\n      <td>20.312061</td>\n      <td>-45.623786</td>\n      <td>1.545766</td>\n      <td>0.008350</td>\n      <td>0.111672</td>\n      <td>-0.420576</td>\n      <td>...</td>\n      <td>0.773487</td>\n      <td>0.287239</td>\n      <td>0.206113</td>\n      <td>559</td>\n      <td>2021</td>\n      <td>83</td>\n      <td>2</td>\n      <td>80.0</td>\n      <td>2021_83_2</td>\n      <td>T5</td>\n    </tr>\n    <tr>\n      <th>91714</th>\n      <td>2.192252</td>\n      <td>3.361778</td>\n      <td>-7.891036</td>\n      <td>-39.437375</td>\n      <td>15.209137</td>\n      <td>-49.699073</td>\n      <td>1.565313</td>\n      <td>0.037428</td>\n      <td>0.083194</td>\n      <td>-0.584898</td>\n      <td>...</td>\n      <td>0.774775</td>\n      <td>0.288382</td>\n      <td>0.204909</td>\n      <td>563</td>\n      <td>2021</td>\n      <td>83</td>\n      <td>2</td>\n      <td>80.0</td>\n      <td>2021_83_2</td>\n      <td>T5</td>\n    </tr>\n  </tbody>\n</table>\n<p>91715 rows × 425 columns</p>\n</div>"
     },
     "execution_count": 120,
     "metadata": {},
     "output_type": "execute_result"
    }
   ],
   "source": [
    "data = pd.read_pickle('data_for_feature_engineering.pkl')\n",
    "data"
   ],
   "metadata": {
    "collapsed": false,
    "pycharm": {
     "name": "#%%\n"
    }
   }
  },
  {
   "cell_type": "markdown",
   "source": [
    "keep only the first instance of segment T3 per user and per trial"
   ],
   "metadata": {
    "collapsed": false,
    "pycharm": {
     "name": "#%% md\n"
    }
   }
  },
  {
   "cell_type": "code",
   "execution_count": 121,
   "outputs": [
    {
     "data": {
      "text/plain": "       Pelvis_acc_0  Pelvis_acc_1  Pelvis_acc_2  Pelvis_angular_acc_0  \\\n44         0.183317     -0.063962     -0.021279              0.282436   \n45         0.295077      0.074275     -0.013371              1.273014   \n46         0.307932      0.134532     -0.015574              1.511710   \n47         0.348250     -0.074716      0.034809              0.170293   \n48         0.291001      0.076750      0.076559              1.067218   \n...             ...           ...           ...                   ...   \n91657      3.994728     -2.919902    -12.469612             10.368356   \n91658      4.528572     -2.665091    -14.169214             12.093113   \n91659      5.028623     -2.408833    -15.509894             13.226419   \n91660      5.148272     -2.357448    -16.543648             12.269157   \n91661      5.514170     -2.713690    -17.490630             11.259900   \n\n       Pelvis_angular_acc_1  Pelvis_angular_acc_2  Pelvis_vel_0  Pelvis_vel_1  \\\n44                -0.471434             -2.428086      0.014731     -0.014809   \n45                -0.584971             -0.810622      0.015644     -0.014845   \n46                -0.622155             -0.357098      0.016659     -0.014921   \n47                -1.011054             -0.879282      0.017931     -0.016162   \n48                -0.701657             -0.320306      0.019089     -0.017007   \n...                     ...                   ...           ...           ...   \n91657            -18.863181             19.120374      0.218886      0.007525   \n91658            -23.591175             17.388916      0.239712     -0.004501   \n91659            -28.375989             15.530595      0.260401     -0.016857   \n91660            -31.106267             11.422372      0.280479     -0.029782   \n91661            -35.758048             11.889582      0.299475     -0.043517   \n\n       Pelvis_vel_2  Pelvis_angular_vel_0  ...  LeftFoot_pos_0  \\\n44        -0.003210              0.008758  ...        1.618655   \n45        -0.003264              0.014063  ...        1.618649   \n46        -0.003336              0.020361  ...        1.618641   \n47        -0.003194              0.021071  ...        1.618636   \n48        -0.002860              0.025518  ...        1.618638   \n...             ...                   ...  ...             ...   \n91657     -0.172491              0.174661  ...        0.348916   \n91658     -0.239019              0.225049  ...        0.354552   \n91659     -0.305748              0.280159  ...        0.360449   \n91660     -0.370880              0.331280  ...        0.366566   \n91661     -0.432619              0.378196  ...        0.372860   \n\n       LeftFoot_pos_1  LeftFoot_pos_2  time  year  id  sample  speed  \\\n44           9.161993        0.162175   534  2017  10       1   79.0   \n45           9.161989        0.162181   538  2017  10       1   79.0   \n46           9.161973        0.162186   542  2017  10       1   79.0   \n47           9.161943        0.162191   546  2017  10       1   79.0   \n48           9.161909        0.162199   550  2017  10       1   79.0   \n...               ...             ...   ...   ...  ..     ...    ...   \n91657        0.345607        0.208876   325  2021  83       2   80.0   \n91658        0.344783        0.212308   329  2021  83       2   80.0   \n91659        0.343900        0.215846   334  2021  83       2   80.0   \n91660        0.342970        0.219446   338  2021  83       2   80.0   \n91661        0.342005        0.223060   342  2021  83       2   80.0   \n\n             key  segment  \n44     2017_10_1       T3  \n45     2017_10_1       T3  \n46     2017_10_1       T3  \n47     2017_10_1       T3  \n48     2017_10_1       T3  \n...          ...      ...  \n91657  2021_83_2       T3  \n91658  2021_83_2       T3  \n91659  2021_83_2       T3  \n91660  2021_83_2       T3  \n91661  2021_83_2       T3  \n\n[9789 rows x 425 columns]",
      "text/html": "<div>\n<style scoped>\n    .dataframe tbody tr th:only-of-type {\n        vertical-align: middle;\n    }\n\n    .dataframe tbody tr th {\n        vertical-align: top;\n    }\n\n    .dataframe thead th {\n        text-align: right;\n    }\n</style>\n<table border=\"1\" class=\"dataframe\">\n  <thead>\n    <tr style=\"text-align: right;\">\n      <th></th>\n      <th>Pelvis_acc_0</th>\n      <th>Pelvis_acc_1</th>\n      <th>Pelvis_acc_2</th>\n      <th>Pelvis_angular_acc_0</th>\n      <th>Pelvis_angular_acc_1</th>\n      <th>Pelvis_angular_acc_2</th>\n      <th>Pelvis_vel_0</th>\n      <th>Pelvis_vel_1</th>\n      <th>Pelvis_vel_2</th>\n      <th>Pelvis_angular_vel_0</th>\n      <th>...</th>\n      <th>LeftFoot_pos_0</th>\n      <th>LeftFoot_pos_1</th>\n      <th>LeftFoot_pos_2</th>\n      <th>time</th>\n      <th>year</th>\n      <th>id</th>\n      <th>sample</th>\n      <th>speed</th>\n      <th>key</th>\n      <th>segment</th>\n    </tr>\n  </thead>\n  <tbody>\n    <tr>\n      <th>44</th>\n      <td>0.183317</td>\n      <td>-0.063962</td>\n      <td>-0.021279</td>\n      <td>0.282436</td>\n      <td>-0.471434</td>\n      <td>-2.428086</td>\n      <td>0.014731</td>\n      <td>-0.014809</td>\n      <td>-0.003210</td>\n      <td>0.008758</td>\n      <td>...</td>\n      <td>1.618655</td>\n      <td>9.161993</td>\n      <td>0.162175</td>\n      <td>534</td>\n      <td>2017</td>\n      <td>10</td>\n      <td>1</td>\n      <td>79.0</td>\n      <td>2017_10_1</td>\n      <td>T3</td>\n    </tr>\n    <tr>\n      <th>45</th>\n      <td>0.295077</td>\n      <td>0.074275</td>\n      <td>-0.013371</td>\n      <td>1.273014</td>\n      <td>-0.584971</td>\n      <td>-0.810622</td>\n      <td>0.015644</td>\n      <td>-0.014845</td>\n      <td>-0.003264</td>\n      <td>0.014063</td>\n      <td>...</td>\n      <td>1.618649</td>\n      <td>9.161989</td>\n      <td>0.162181</td>\n      <td>538</td>\n      <td>2017</td>\n      <td>10</td>\n      <td>1</td>\n      <td>79.0</td>\n      <td>2017_10_1</td>\n      <td>T3</td>\n    </tr>\n    <tr>\n      <th>46</th>\n      <td>0.307932</td>\n      <td>0.134532</td>\n      <td>-0.015574</td>\n      <td>1.511710</td>\n      <td>-0.622155</td>\n      <td>-0.357098</td>\n      <td>0.016659</td>\n      <td>-0.014921</td>\n      <td>-0.003336</td>\n      <td>0.020361</td>\n      <td>...</td>\n      <td>1.618641</td>\n      <td>9.161973</td>\n      <td>0.162186</td>\n      <td>542</td>\n      <td>2017</td>\n      <td>10</td>\n      <td>1</td>\n      <td>79.0</td>\n      <td>2017_10_1</td>\n      <td>T3</td>\n    </tr>\n    <tr>\n      <th>47</th>\n      <td>0.348250</td>\n      <td>-0.074716</td>\n      <td>0.034809</td>\n      <td>0.170293</td>\n      <td>-1.011054</td>\n      <td>-0.879282</td>\n      <td>0.017931</td>\n      <td>-0.016162</td>\n      <td>-0.003194</td>\n      <td>0.021071</td>\n      <td>...</td>\n      <td>1.618636</td>\n      <td>9.161943</td>\n      <td>0.162191</td>\n      <td>546</td>\n      <td>2017</td>\n      <td>10</td>\n      <td>1</td>\n      <td>79.0</td>\n      <td>2017_10_1</td>\n      <td>T3</td>\n    </tr>\n    <tr>\n      <th>48</th>\n      <td>0.291001</td>\n      <td>0.076750</td>\n      <td>0.076559</td>\n      <td>1.067218</td>\n      <td>-0.701657</td>\n      <td>-0.320306</td>\n      <td>0.019089</td>\n      <td>-0.017007</td>\n      <td>-0.002860</td>\n      <td>0.025518</td>\n      <td>...</td>\n      <td>1.618638</td>\n      <td>9.161909</td>\n      <td>0.162199</td>\n      <td>550</td>\n      <td>2017</td>\n      <td>10</td>\n      <td>1</td>\n      <td>79.0</td>\n      <td>2017_10_1</td>\n      <td>T3</td>\n    </tr>\n    <tr>\n      <th>...</th>\n      <td>...</td>\n      <td>...</td>\n      <td>...</td>\n      <td>...</td>\n      <td>...</td>\n      <td>...</td>\n      <td>...</td>\n      <td>...</td>\n      <td>...</td>\n      <td>...</td>\n      <td>...</td>\n      <td>...</td>\n      <td>...</td>\n      <td>...</td>\n      <td>...</td>\n      <td>...</td>\n      <td>...</td>\n      <td>...</td>\n      <td>...</td>\n      <td>...</td>\n      <td>...</td>\n    </tr>\n    <tr>\n      <th>91657</th>\n      <td>3.994728</td>\n      <td>-2.919902</td>\n      <td>-12.469612</td>\n      <td>10.368356</td>\n      <td>-18.863181</td>\n      <td>19.120374</td>\n      <td>0.218886</td>\n      <td>0.007525</td>\n      <td>-0.172491</td>\n      <td>0.174661</td>\n      <td>...</td>\n      <td>0.348916</td>\n      <td>0.345607</td>\n      <td>0.208876</td>\n      <td>325</td>\n      <td>2021</td>\n      <td>83</td>\n      <td>2</td>\n      <td>80.0</td>\n      <td>2021_83_2</td>\n      <td>T3</td>\n    </tr>\n    <tr>\n      <th>91658</th>\n      <td>4.528572</td>\n      <td>-2.665091</td>\n      <td>-14.169214</td>\n      <td>12.093113</td>\n      <td>-23.591175</td>\n      <td>17.388916</td>\n      <td>0.239712</td>\n      <td>-0.004501</td>\n      <td>-0.239019</td>\n      <td>0.225049</td>\n      <td>...</td>\n      <td>0.354552</td>\n      <td>0.344783</td>\n      <td>0.212308</td>\n      <td>329</td>\n      <td>2021</td>\n      <td>83</td>\n      <td>2</td>\n      <td>80.0</td>\n      <td>2021_83_2</td>\n      <td>T3</td>\n    </tr>\n    <tr>\n      <th>91659</th>\n      <td>5.028623</td>\n      <td>-2.408833</td>\n      <td>-15.509894</td>\n      <td>13.226419</td>\n      <td>-28.375989</td>\n      <td>15.530595</td>\n      <td>0.260401</td>\n      <td>-0.016857</td>\n      <td>-0.305748</td>\n      <td>0.280159</td>\n      <td>...</td>\n      <td>0.360449</td>\n      <td>0.343900</td>\n      <td>0.215846</td>\n      <td>334</td>\n      <td>2021</td>\n      <td>83</td>\n      <td>2</td>\n      <td>80.0</td>\n      <td>2021_83_2</td>\n      <td>T3</td>\n    </tr>\n    <tr>\n      <th>91660</th>\n      <td>5.148272</td>\n      <td>-2.357448</td>\n      <td>-16.543648</td>\n      <td>12.269157</td>\n      <td>-31.106267</td>\n      <td>11.422372</td>\n      <td>0.280479</td>\n      <td>-0.029782</td>\n      <td>-0.370880</td>\n      <td>0.331280</td>\n      <td>...</td>\n      <td>0.366566</td>\n      <td>0.342970</td>\n      <td>0.219446</td>\n      <td>338</td>\n      <td>2021</td>\n      <td>83</td>\n      <td>2</td>\n      <td>80.0</td>\n      <td>2021_83_2</td>\n      <td>T3</td>\n    </tr>\n    <tr>\n      <th>91661</th>\n      <td>5.514170</td>\n      <td>-2.713690</td>\n      <td>-17.490630</td>\n      <td>11.259900</td>\n      <td>-35.758048</td>\n      <td>11.889582</td>\n      <td>0.299475</td>\n      <td>-0.043517</td>\n      <td>-0.432619</td>\n      <td>0.378196</td>\n      <td>...</td>\n      <td>0.372860</td>\n      <td>0.342005</td>\n      <td>0.223060</td>\n      <td>342</td>\n      <td>2021</td>\n      <td>83</td>\n      <td>2</td>\n      <td>80.0</td>\n      <td>2021_83_2</td>\n      <td>T3</td>\n    </tr>\n  </tbody>\n</table>\n<p>9789 rows × 425 columns</p>\n</div>"
     },
     "execution_count": 121,
     "metadata": {},
     "output_type": "execute_result"
    }
   ],
   "source": [
    "# keep only T3\n",
    "data = data.loc[data['segment'] == 'T3']\n",
    "data"
   ],
   "metadata": {
    "collapsed": false,
    "pycharm": {
     "name": "#%%\n"
    }
   }
  },
  {
   "cell_type": "code",
   "execution_count": 122,
   "outputs": [],
   "source": [
    "foot_ball_df = pd.DataFrame(columns=['user', 'trial', 'key', 'speed', 'foot_ball_distance'])"
   ],
   "metadata": {
    "collapsed": false,
    "pycharm": {
     "name": "#%%\n"
    }
   }
  },
  {
   "cell_type": "code",
   "execution_count": 123,
   "outputs": [
    {
     "data": {
      "text/plain": "    user trial        key speed foot_ball_distance\n0     10     1  2017_10_1  79.0           6.857733\n1     10     2  2017_10_2  82.0           8.006219\n2     10     3  2017_10_3  78.0           8.273032\n3     10     4  2017_10_4  77.0           8.270239\n4     10     5  2017_10_5  78.0           8.345566\n..   ...   ...        ...   ...                ...\n309   82     2  2021_82_2  74.0           4.505774\n310   82     3  2021_82_3  79.0            3.23447\n311   82     4  2021_82_4  77.0           4.058758\n312   82     7  2021_82_7  90.0           3.951572\n313   83     2  2021_83_2  80.0           1.422084\n\n[314 rows x 5 columns]",
      "text/html": "<div>\n<style scoped>\n    .dataframe tbody tr th:only-of-type {\n        vertical-align: middle;\n    }\n\n    .dataframe tbody tr th {\n        vertical-align: top;\n    }\n\n    .dataframe thead th {\n        text-align: right;\n    }\n</style>\n<table border=\"1\" class=\"dataframe\">\n  <thead>\n    <tr style=\"text-align: right;\">\n      <th></th>\n      <th>user</th>\n      <th>trial</th>\n      <th>key</th>\n      <th>speed</th>\n      <th>foot_ball_distance</th>\n    </tr>\n  </thead>\n  <tbody>\n    <tr>\n      <th>0</th>\n      <td>10</td>\n      <td>1</td>\n      <td>2017_10_1</td>\n      <td>79.0</td>\n      <td>6.857733</td>\n    </tr>\n    <tr>\n      <th>1</th>\n      <td>10</td>\n      <td>2</td>\n      <td>2017_10_2</td>\n      <td>82.0</td>\n      <td>8.006219</td>\n    </tr>\n    <tr>\n      <th>2</th>\n      <td>10</td>\n      <td>3</td>\n      <td>2017_10_3</td>\n      <td>78.0</td>\n      <td>8.273032</td>\n    </tr>\n    <tr>\n      <th>3</th>\n      <td>10</td>\n      <td>4</td>\n      <td>2017_10_4</td>\n      <td>77.0</td>\n      <td>8.270239</td>\n    </tr>\n    <tr>\n      <th>4</th>\n      <td>10</td>\n      <td>5</td>\n      <td>2017_10_5</td>\n      <td>78.0</td>\n      <td>8.345566</td>\n    </tr>\n    <tr>\n      <th>...</th>\n      <td>...</td>\n      <td>...</td>\n      <td>...</td>\n      <td>...</td>\n      <td>...</td>\n    </tr>\n    <tr>\n      <th>309</th>\n      <td>82</td>\n      <td>2</td>\n      <td>2021_82_2</td>\n      <td>74.0</td>\n      <td>4.505774</td>\n    </tr>\n    <tr>\n      <th>310</th>\n      <td>82</td>\n      <td>3</td>\n      <td>2021_82_3</td>\n      <td>79.0</td>\n      <td>3.23447</td>\n    </tr>\n    <tr>\n      <th>311</th>\n      <td>82</td>\n      <td>4</td>\n      <td>2021_82_4</td>\n      <td>77.0</td>\n      <td>4.058758</td>\n    </tr>\n    <tr>\n      <th>312</th>\n      <td>82</td>\n      <td>7</td>\n      <td>2021_82_7</td>\n      <td>90.0</td>\n      <td>3.951572</td>\n    </tr>\n    <tr>\n      <th>313</th>\n      <td>83</td>\n      <td>2</td>\n      <td>2021_83_2</td>\n      <td>80.0</td>\n      <td>1.422084</td>\n    </tr>\n  </tbody>\n</table>\n<p>314 rows × 5 columns</p>\n</div>"
     },
     "execution_count": 123,
     "metadata": {},
     "output_type": "execute_result"
    }
   ],
   "source": [
    "# per user and per trial\n",
    "users = list(data['id'].unique())\n",
    "for user in users:\n",
    "    user_data = data.loc[data['id'] == user]\n",
    "    trials = list(user_data['sample'].unique())\n",
    "    for trial in trials:\n",
    "        user_trial_data = user_data.loc[user_data['sample'] == trial]\n",
    "\n",
    "        # current df\n",
    "        foot_ball_current_df = pd.DataFrame(columns=['user', 'trial', 'key', 'speed','foot_ball_distance'])\n",
    "        foot_ball_current_df.loc[0, 'user'] = user\n",
    "        foot_ball_current_df.loc[0, 'trial'] = trial\n",
    "        foot_ball_current_df.loc[0, 'key'] = user_trial_data['key'].iloc[0]\n",
    "        foot_ball_current_df.loc[0, 'speed'] = user_trial_data['speed'].iloc[0]\n",
    "\n",
    "        # first instance of T3\n",
    "        data_T3 = user_trial_data.loc[(user_trial_data['segment'] == 'T3')]\n",
    "        data_T3 = data_T3.iloc[:1, :]\n",
    "\n",
    "        # calculate foot_ball_distance coordinates\n",
    "        ball_position = np.array([0, 2.5, 0])\n",
    "        left_foot = np.array([data_T3.loc[0:, 'LeftFoot_pos_0'].values[0], data_T3.loc[0:, 'LeftFoot_pos_1'].values[0], data_T3.loc[0:, 'LeftFoot_pos_2'].values[0]])\n",
    "        foot_ball_distance = np.sqrt(np.sum((ball_position-left_foot)**2, axis=0))\n",
    "\n",
    "        # current df\n",
    "        foot_ball_current_df.loc[0, 'foot_ball_distance'] = foot_ball_distance\n",
    "\n",
    "        # concat to the final stance_df\n",
    "        foot_ball_df = pd.concat([foot_ball_df, foot_ball_current_df])\n",
    "\n",
    "foot_ball_df.reset_index(drop=True, inplace=True)\n",
    "foot_ball_df"
   ],
   "metadata": {
    "collapsed": false,
    "pycharm": {
     "name": "#%%\n"
    }
   }
  },
  {
   "cell_type": "code",
   "execution_count": 124,
   "outputs": [],
   "source": [
    "foot_ball_df.to_pickle('foot_ball_df.pkl')"
   ],
   "metadata": {
    "collapsed": false,
    "pycharm": {
     "name": "#%%\n"
    }
   }
  },
  {
   "cell_type": "markdown",
   "source": [
    "#### Compute knee angles\n",
    "Based on the paper, knee angles are the smallest angle (inner product) between the vector through the lower and upper leg.\n",
    "We are interested in the segment T5, and the key event there is in the leading=left foot.\n",
    "So we need to calculate the knee angles for each instance as:\n",
    "###### knee_angle = inner_product([LeftLowerLeg_pos_0, LeftLowerLeg_pos_1, LeftLowerLeg_pos_2], [LeftUpperLeg_pos_0, LeftUpperLeg_pos_1, LeftUpperLeg_pos_2])"
   ],
   "metadata": {
    "collapsed": false,
    "pycharm": {
     "name": "#%% md\n"
    }
   }
  },
  {
   "cell_type": "code",
   "execution_count": 44,
   "outputs": [
    {
     "data": {
      "text/plain": "       Pelvis_acc_0  Pelvis_acc_1  Pelvis_acc_2  Pelvis_angular_acc_0  \\\n0         -0.054363      0.056517     -0.053088              0.420520   \n1         -0.107037      0.053799     -0.122576             -0.002736   \n2          0.144353     -0.014925     -0.004969             -0.029263   \n3         -0.030959     -0.105743     -0.107790             -1.158075   \n4          0.059421     -0.083124      0.010181             -0.362501   \n...             ...           ...           ...                   ...   \n91710      2.768642     -0.111274     -3.398066            -50.671607   \n91711      1.977710      0.114427     -4.097666            -53.581650   \n91712      1.337048      0.807283     -6.118449            -51.941492   \n91713      1.636446      1.748325     -7.019642            -46.996131   \n91714      2.192252      3.361778     -7.891036            -39.437375   \n\n       Pelvis_angular_acc_1  Pelvis_angular_acc_2  Pelvis_vel_0  Pelvis_vel_1  \\\n0                  0.209671             -0.530950      0.007970     -0.003923   \n1                  0.640158              0.677067      0.007299     -0.004135   \n2                 -1.064792              0.387637      0.007754     -0.004556   \n3                  0.311378              0.144316      0.007494     -0.005328   \n4                 -0.402047             -0.376975      0.007641     -0.005942   \n...                     ...                   ...           ...           ...   \n91710             16.548586            -30.871259      1.486902     -0.038364   \n91711             19.719689            -35.784542      1.506722     -0.027991   \n91712             24.628179            -39.636580      1.526256     -0.013196   \n91713             20.312061            -45.623786      1.545766      0.008350   \n91714             15.209137            -49.699073      1.565313      0.037428   \n\n       Pelvis_vel_2  Pelvis_angular_vel_0  ...  LeftFoot_pos_0  \\\n0         -0.001043             -0.000674  ...        1.618867   \n1         -0.001530             -0.000686  ...        1.618847   \n2         -0.001520             -0.000808  ...        1.618827   \n3         -0.001936             -0.005633  ...        1.618806   \n4         -0.001857             -0.007143  ...        1.618786   \n...             ...                   ...  ...             ...   \n91710      0.171214              0.214921  ...        0.765612   \n91711      0.153793             -0.008335  ...        0.768766   \n91712      0.134674             -0.224758  ...        0.771451   \n91713      0.111672             -0.420576  ...        0.773487   \n91714      0.083194             -0.584898  ...        0.774775   \n\n       LeftFoot_pos_1  LeftFoot_pos_2  time  year  id  sample  speed  \\\n0            9.162230        0.161790   350  2017  10       1   79.0   \n1            9.162230        0.161792   354  2017  10       1   79.0   \n2            9.162235        0.161795   359  2017  10       1   79.0   \n3            9.162238        0.161799   363  2017  10       1   79.0   \n4            9.162240        0.161802   367  2017  10       1   79.0   \n...               ...             ...   ...   ...  ..     ...    ...   \n91710        0.285792        0.211505   546  2021  83       2   80.0   \n91711        0.286086        0.209387   550  2021  83       2   80.0   \n91712        0.286508        0.207590   554  2021  83       2   80.0   \n91713        0.287239        0.206113   559  2021  83       2   80.0   \n91714        0.288382        0.204909   563  2021  83       2   80.0   \n\n             key  segment  \n0      2017_10_1       T2  \n1      2017_10_1       T2  \n2      2017_10_1       T2  \n3      2017_10_1       T2  \n4      2017_10_1       T2  \n...          ...      ...  \n91710  2021_83_2       T5  \n91711  2021_83_2       T5  \n91712  2021_83_2       T5  \n91713  2021_83_2       T5  \n91714  2021_83_2       T5  \n\n[91715 rows x 425 columns]",
      "text/html": "<div>\n<style scoped>\n    .dataframe tbody tr th:only-of-type {\n        vertical-align: middle;\n    }\n\n    .dataframe tbody tr th {\n        vertical-align: top;\n    }\n\n    .dataframe thead th {\n        text-align: right;\n    }\n</style>\n<table border=\"1\" class=\"dataframe\">\n  <thead>\n    <tr style=\"text-align: right;\">\n      <th></th>\n      <th>Pelvis_acc_0</th>\n      <th>Pelvis_acc_1</th>\n      <th>Pelvis_acc_2</th>\n      <th>Pelvis_angular_acc_0</th>\n      <th>Pelvis_angular_acc_1</th>\n      <th>Pelvis_angular_acc_2</th>\n      <th>Pelvis_vel_0</th>\n      <th>Pelvis_vel_1</th>\n      <th>Pelvis_vel_2</th>\n      <th>Pelvis_angular_vel_0</th>\n      <th>...</th>\n      <th>LeftFoot_pos_0</th>\n      <th>LeftFoot_pos_1</th>\n      <th>LeftFoot_pos_2</th>\n      <th>time</th>\n      <th>year</th>\n      <th>id</th>\n      <th>sample</th>\n      <th>speed</th>\n      <th>key</th>\n      <th>segment</th>\n    </tr>\n  </thead>\n  <tbody>\n    <tr>\n      <th>0</th>\n      <td>-0.054363</td>\n      <td>0.056517</td>\n      <td>-0.053088</td>\n      <td>0.420520</td>\n      <td>0.209671</td>\n      <td>-0.530950</td>\n      <td>0.007970</td>\n      <td>-0.003923</td>\n      <td>-0.001043</td>\n      <td>-0.000674</td>\n      <td>...</td>\n      <td>1.618867</td>\n      <td>9.162230</td>\n      <td>0.161790</td>\n      <td>350</td>\n      <td>2017</td>\n      <td>10</td>\n      <td>1</td>\n      <td>79.0</td>\n      <td>2017_10_1</td>\n      <td>T2</td>\n    </tr>\n    <tr>\n      <th>1</th>\n      <td>-0.107037</td>\n      <td>0.053799</td>\n      <td>-0.122576</td>\n      <td>-0.002736</td>\n      <td>0.640158</td>\n      <td>0.677067</td>\n      <td>0.007299</td>\n      <td>-0.004135</td>\n      <td>-0.001530</td>\n      <td>-0.000686</td>\n      <td>...</td>\n      <td>1.618847</td>\n      <td>9.162230</td>\n      <td>0.161792</td>\n      <td>354</td>\n      <td>2017</td>\n      <td>10</td>\n      <td>1</td>\n      <td>79.0</td>\n      <td>2017_10_1</td>\n      <td>T2</td>\n    </tr>\n    <tr>\n      <th>2</th>\n      <td>0.144353</td>\n      <td>-0.014925</td>\n      <td>-0.004969</td>\n      <td>-0.029263</td>\n      <td>-1.064792</td>\n      <td>0.387637</td>\n      <td>0.007754</td>\n      <td>-0.004556</td>\n      <td>-0.001520</td>\n      <td>-0.000808</td>\n      <td>...</td>\n      <td>1.618827</td>\n      <td>9.162235</td>\n      <td>0.161795</td>\n      <td>359</td>\n      <td>2017</td>\n      <td>10</td>\n      <td>1</td>\n      <td>79.0</td>\n      <td>2017_10_1</td>\n      <td>T2</td>\n    </tr>\n    <tr>\n      <th>3</th>\n      <td>-0.030959</td>\n      <td>-0.105743</td>\n      <td>-0.107790</td>\n      <td>-1.158075</td>\n      <td>0.311378</td>\n      <td>0.144316</td>\n      <td>0.007494</td>\n      <td>-0.005328</td>\n      <td>-0.001936</td>\n      <td>-0.005633</td>\n      <td>...</td>\n      <td>1.618806</td>\n      <td>9.162238</td>\n      <td>0.161799</td>\n      <td>363</td>\n      <td>2017</td>\n      <td>10</td>\n      <td>1</td>\n      <td>79.0</td>\n      <td>2017_10_1</td>\n      <td>T2</td>\n    </tr>\n    <tr>\n      <th>4</th>\n      <td>0.059421</td>\n      <td>-0.083124</td>\n      <td>0.010181</td>\n      <td>-0.362501</td>\n      <td>-0.402047</td>\n      <td>-0.376975</td>\n      <td>0.007641</td>\n      <td>-0.005942</td>\n      <td>-0.001857</td>\n      <td>-0.007143</td>\n      <td>...</td>\n      <td>1.618786</td>\n      <td>9.162240</td>\n      <td>0.161802</td>\n      <td>367</td>\n      <td>2017</td>\n      <td>10</td>\n      <td>1</td>\n      <td>79.0</td>\n      <td>2017_10_1</td>\n      <td>T2</td>\n    </tr>\n    <tr>\n      <th>...</th>\n      <td>...</td>\n      <td>...</td>\n      <td>...</td>\n      <td>...</td>\n      <td>...</td>\n      <td>...</td>\n      <td>...</td>\n      <td>...</td>\n      <td>...</td>\n      <td>...</td>\n      <td>...</td>\n      <td>...</td>\n      <td>...</td>\n      <td>...</td>\n      <td>...</td>\n      <td>...</td>\n      <td>...</td>\n      <td>...</td>\n      <td>...</td>\n      <td>...</td>\n      <td>...</td>\n    </tr>\n    <tr>\n      <th>91710</th>\n      <td>2.768642</td>\n      <td>-0.111274</td>\n      <td>-3.398066</td>\n      <td>-50.671607</td>\n      <td>16.548586</td>\n      <td>-30.871259</td>\n      <td>1.486902</td>\n      <td>-0.038364</td>\n      <td>0.171214</td>\n      <td>0.214921</td>\n      <td>...</td>\n      <td>0.765612</td>\n      <td>0.285792</td>\n      <td>0.211505</td>\n      <td>546</td>\n      <td>2021</td>\n      <td>83</td>\n      <td>2</td>\n      <td>80.0</td>\n      <td>2021_83_2</td>\n      <td>T5</td>\n    </tr>\n    <tr>\n      <th>91711</th>\n      <td>1.977710</td>\n      <td>0.114427</td>\n      <td>-4.097666</td>\n      <td>-53.581650</td>\n      <td>19.719689</td>\n      <td>-35.784542</td>\n      <td>1.506722</td>\n      <td>-0.027991</td>\n      <td>0.153793</td>\n      <td>-0.008335</td>\n      <td>...</td>\n      <td>0.768766</td>\n      <td>0.286086</td>\n      <td>0.209387</td>\n      <td>550</td>\n      <td>2021</td>\n      <td>83</td>\n      <td>2</td>\n      <td>80.0</td>\n      <td>2021_83_2</td>\n      <td>T5</td>\n    </tr>\n    <tr>\n      <th>91712</th>\n      <td>1.337048</td>\n      <td>0.807283</td>\n      <td>-6.118449</td>\n      <td>-51.941492</td>\n      <td>24.628179</td>\n      <td>-39.636580</td>\n      <td>1.526256</td>\n      <td>-0.013196</td>\n      <td>0.134674</td>\n      <td>-0.224758</td>\n      <td>...</td>\n      <td>0.771451</td>\n      <td>0.286508</td>\n      <td>0.207590</td>\n      <td>554</td>\n      <td>2021</td>\n      <td>83</td>\n      <td>2</td>\n      <td>80.0</td>\n      <td>2021_83_2</td>\n      <td>T5</td>\n    </tr>\n    <tr>\n      <th>91713</th>\n      <td>1.636446</td>\n      <td>1.748325</td>\n      <td>-7.019642</td>\n      <td>-46.996131</td>\n      <td>20.312061</td>\n      <td>-45.623786</td>\n      <td>1.545766</td>\n      <td>0.008350</td>\n      <td>0.111672</td>\n      <td>-0.420576</td>\n      <td>...</td>\n      <td>0.773487</td>\n      <td>0.287239</td>\n      <td>0.206113</td>\n      <td>559</td>\n      <td>2021</td>\n      <td>83</td>\n      <td>2</td>\n      <td>80.0</td>\n      <td>2021_83_2</td>\n      <td>T5</td>\n    </tr>\n    <tr>\n      <th>91714</th>\n      <td>2.192252</td>\n      <td>3.361778</td>\n      <td>-7.891036</td>\n      <td>-39.437375</td>\n      <td>15.209137</td>\n      <td>-49.699073</td>\n      <td>1.565313</td>\n      <td>0.037428</td>\n      <td>0.083194</td>\n      <td>-0.584898</td>\n      <td>...</td>\n      <td>0.774775</td>\n      <td>0.288382</td>\n      <td>0.204909</td>\n      <td>563</td>\n      <td>2021</td>\n      <td>83</td>\n      <td>2</td>\n      <td>80.0</td>\n      <td>2021_83_2</td>\n      <td>T5</td>\n    </tr>\n  </tbody>\n</table>\n<p>91715 rows × 425 columns</p>\n</div>"
     },
     "execution_count": 44,
     "metadata": {},
     "output_type": "execute_result"
    }
   ],
   "source": [
    "data = pd.read_pickle('data_for_feature_engineering.pkl')\n",
    "data"
   ],
   "metadata": {
    "collapsed": false,
    "pycharm": {
     "name": "#%%\n"
    }
   }
  },
  {
   "cell_type": "markdown",
   "source": [
    "keep only the instances of segment T5"
   ],
   "metadata": {
    "collapsed": false,
    "pycharm": {
     "name": "#%% md\n"
    }
   }
  },
  {
   "cell_type": "code",
   "execution_count": 45,
   "outputs": [
    {
     "data": {
      "text/plain": "       Pelvis_acc_0  Pelvis_acc_1  Pelvis_acc_2  Pelvis_angular_acc_0  \\\n74         0.152512     -0.795918      0.123093              0.025530   \n75         0.318390     -0.832675      0.060367             -0.276795   \n76         0.221898     -0.626987     -0.070908              1.720788   \n77         0.539407     -0.833769      0.098279              0.276090   \n78         0.468945     -1.036165      0.045915             -0.803576   \n...             ...           ...           ...                   ...   \n91710      2.768642     -0.111274     -3.398066            -50.671607   \n91711      1.977710      0.114427     -4.097666            -53.581650   \n91712      1.337048      0.807283     -6.118449            -51.941492   \n91713      1.636446      1.748325     -7.019642            -46.996131   \n91714      2.192252      3.361778     -7.891036            -39.437375   \n\n       Pelvis_angular_acc_1  Pelvis_angular_acc_2  Pelvis_vel_0  Pelvis_vel_1  \\\n74                 1.947904             -0.380464      0.063529     -0.077690   \n75                 1.146434              0.739649      0.064831     -0.080554   \n76                 2.390649              0.177294      0.065696     -0.082584   \n77                 0.285215              0.652241      0.067695     -0.085555   \n78                 0.601857              0.070244      0.069187     -0.089436   \n...                     ...                   ...           ...           ...   \n91710             16.548586            -30.871259      1.486902     -0.038364   \n91711             19.719689            -35.784542      1.506722     -0.027991   \n91712             24.628179            -39.636580      1.526256     -0.013196   \n91713             20.312061            -45.623786      1.545766      0.008350   \n91714             15.209137            -49.699073      1.565313      0.037428   \n\n       Pelvis_vel_2  Pelvis_angular_vel_0  ...  LeftFoot_pos_0  \\\n74        -0.011966              0.128181  ...        1.618889   \n75        -0.012061              0.127028  ...        1.618861   \n76        -0.012752              0.134198  ...        1.618838   \n77        -0.012773              0.135348  ...        1.618814   \n78        -0.013029              0.132000  ...        1.618787   \n...             ...                   ...  ...             ...   \n91710      0.171214              0.214921  ...        0.765612   \n91711      0.153793             -0.008335  ...        0.768766   \n91712      0.134674             -0.224758  ...        0.771451   \n91713      0.111672             -0.420576  ...        0.773487   \n91714      0.083194             -0.584898  ...        0.774775   \n\n       LeftFoot_pos_1  LeftFoot_pos_2  time  year  id  sample  speed  \\\n74           9.160253        0.162960   659  2017  10       1   79.0   \n75           9.160270        0.162975   663  2017  10       1   79.0   \n76           9.160299        0.162987   667  2017  10       1   79.0   \n77           9.160331        0.162995   671  2017  10       1   79.0   \n78           9.160362        0.163003   675  2017  10       1   79.0   \n...               ...             ...   ...   ...  ..     ...    ...   \n91710        0.285792        0.211505   546  2021  83       2   80.0   \n91711        0.286086        0.209387   550  2021  83       2   80.0   \n91712        0.286508        0.207590   554  2021  83       2   80.0   \n91713        0.287239        0.206113   559  2021  83       2   80.0   \n91714        0.288382        0.204909   563  2021  83       2   80.0   \n\n             key  segment  \n74     2017_10_1       T5  \n75     2017_10_1       T5  \n76     2017_10_1       T5  \n77     2017_10_1       T5  \n78     2017_10_1       T5  \n...          ...      ...  \n91710  2021_83_2       T5  \n91711  2021_83_2       T5  \n91712  2021_83_2       T5  \n91713  2021_83_2       T5  \n91714  2021_83_2       T5  \n\n[31916 rows x 425 columns]",
      "text/html": "<div>\n<style scoped>\n    .dataframe tbody tr th:only-of-type {\n        vertical-align: middle;\n    }\n\n    .dataframe tbody tr th {\n        vertical-align: top;\n    }\n\n    .dataframe thead th {\n        text-align: right;\n    }\n</style>\n<table border=\"1\" class=\"dataframe\">\n  <thead>\n    <tr style=\"text-align: right;\">\n      <th></th>\n      <th>Pelvis_acc_0</th>\n      <th>Pelvis_acc_1</th>\n      <th>Pelvis_acc_2</th>\n      <th>Pelvis_angular_acc_0</th>\n      <th>Pelvis_angular_acc_1</th>\n      <th>Pelvis_angular_acc_2</th>\n      <th>Pelvis_vel_0</th>\n      <th>Pelvis_vel_1</th>\n      <th>Pelvis_vel_2</th>\n      <th>Pelvis_angular_vel_0</th>\n      <th>...</th>\n      <th>LeftFoot_pos_0</th>\n      <th>LeftFoot_pos_1</th>\n      <th>LeftFoot_pos_2</th>\n      <th>time</th>\n      <th>year</th>\n      <th>id</th>\n      <th>sample</th>\n      <th>speed</th>\n      <th>key</th>\n      <th>segment</th>\n    </tr>\n  </thead>\n  <tbody>\n    <tr>\n      <th>74</th>\n      <td>0.152512</td>\n      <td>-0.795918</td>\n      <td>0.123093</td>\n      <td>0.025530</td>\n      <td>1.947904</td>\n      <td>-0.380464</td>\n      <td>0.063529</td>\n      <td>-0.077690</td>\n      <td>-0.011966</td>\n      <td>0.128181</td>\n      <td>...</td>\n      <td>1.618889</td>\n      <td>9.160253</td>\n      <td>0.162960</td>\n      <td>659</td>\n      <td>2017</td>\n      <td>10</td>\n      <td>1</td>\n      <td>79.0</td>\n      <td>2017_10_1</td>\n      <td>T5</td>\n    </tr>\n    <tr>\n      <th>75</th>\n      <td>0.318390</td>\n      <td>-0.832675</td>\n      <td>0.060367</td>\n      <td>-0.276795</td>\n      <td>1.146434</td>\n      <td>0.739649</td>\n      <td>0.064831</td>\n      <td>-0.080554</td>\n      <td>-0.012061</td>\n      <td>0.127028</td>\n      <td>...</td>\n      <td>1.618861</td>\n      <td>9.160270</td>\n      <td>0.162975</td>\n      <td>663</td>\n      <td>2017</td>\n      <td>10</td>\n      <td>1</td>\n      <td>79.0</td>\n      <td>2017_10_1</td>\n      <td>T5</td>\n    </tr>\n    <tr>\n      <th>76</th>\n      <td>0.221898</td>\n      <td>-0.626987</td>\n      <td>-0.070908</td>\n      <td>1.720788</td>\n      <td>2.390649</td>\n      <td>0.177294</td>\n      <td>0.065696</td>\n      <td>-0.082584</td>\n      <td>-0.012752</td>\n      <td>0.134198</td>\n      <td>...</td>\n      <td>1.618838</td>\n      <td>9.160299</td>\n      <td>0.162987</td>\n      <td>667</td>\n      <td>2017</td>\n      <td>10</td>\n      <td>1</td>\n      <td>79.0</td>\n      <td>2017_10_1</td>\n      <td>T5</td>\n    </tr>\n    <tr>\n      <th>77</th>\n      <td>0.539407</td>\n      <td>-0.833769</td>\n      <td>0.098279</td>\n      <td>0.276090</td>\n      <td>0.285215</td>\n      <td>0.652241</td>\n      <td>0.067695</td>\n      <td>-0.085555</td>\n      <td>-0.012773</td>\n      <td>0.135348</td>\n      <td>...</td>\n      <td>1.618814</td>\n      <td>9.160331</td>\n      <td>0.162995</td>\n      <td>671</td>\n      <td>2017</td>\n      <td>10</td>\n      <td>1</td>\n      <td>79.0</td>\n      <td>2017_10_1</td>\n      <td>T5</td>\n    </tr>\n    <tr>\n      <th>78</th>\n      <td>0.468945</td>\n      <td>-1.036165</td>\n      <td>0.045915</td>\n      <td>-0.803576</td>\n      <td>0.601857</td>\n      <td>0.070244</td>\n      <td>0.069187</td>\n      <td>-0.089436</td>\n      <td>-0.013029</td>\n      <td>0.132000</td>\n      <td>...</td>\n      <td>1.618787</td>\n      <td>9.160362</td>\n      <td>0.163003</td>\n      <td>675</td>\n      <td>2017</td>\n      <td>10</td>\n      <td>1</td>\n      <td>79.0</td>\n      <td>2017_10_1</td>\n      <td>T5</td>\n    </tr>\n    <tr>\n      <th>...</th>\n      <td>...</td>\n      <td>...</td>\n      <td>...</td>\n      <td>...</td>\n      <td>...</td>\n      <td>...</td>\n      <td>...</td>\n      <td>...</td>\n      <td>...</td>\n      <td>...</td>\n      <td>...</td>\n      <td>...</td>\n      <td>...</td>\n      <td>...</td>\n      <td>...</td>\n      <td>...</td>\n      <td>...</td>\n      <td>...</td>\n      <td>...</td>\n      <td>...</td>\n      <td>...</td>\n    </tr>\n    <tr>\n      <th>91710</th>\n      <td>2.768642</td>\n      <td>-0.111274</td>\n      <td>-3.398066</td>\n      <td>-50.671607</td>\n      <td>16.548586</td>\n      <td>-30.871259</td>\n      <td>1.486902</td>\n      <td>-0.038364</td>\n      <td>0.171214</td>\n      <td>0.214921</td>\n      <td>...</td>\n      <td>0.765612</td>\n      <td>0.285792</td>\n      <td>0.211505</td>\n      <td>546</td>\n      <td>2021</td>\n      <td>83</td>\n      <td>2</td>\n      <td>80.0</td>\n      <td>2021_83_2</td>\n      <td>T5</td>\n    </tr>\n    <tr>\n      <th>91711</th>\n      <td>1.977710</td>\n      <td>0.114427</td>\n      <td>-4.097666</td>\n      <td>-53.581650</td>\n      <td>19.719689</td>\n      <td>-35.784542</td>\n      <td>1.506722</td>\n      <td>-0.027991</td>\n      <td>0.153793</td>\n      <td>-0.008335</td>\n      <td>...</td>\n      <td>0.768766</td>\n      <td>0.286086</td>\n      <td>0.209387</td>\n      <td>550</td>\n      <td>2021</td>\n      <td>83</td>\n      <td>2</td>\n      <td>80.0</td>\n      <td>2021_83_2</td>\n      <td>T5</td>\n    </tr>\n    <tr>\n      <th>91712</th>\n      <td>1.337048</td>\n      <td>0.807283</td>\n      <td>-6.118449</td>\n      <td>-51.941492</td>\n      <td>24.628179</td>\n      <td>-39.636580</td>\n      <td>1.526256</td>\n      <td>-0.013196</td>\n      <td>0.134674</td>\n      <td>-0.224758</td>\n      <td>...</td>\n      <td>0.771451</td>\n      <td>0.286508</td>\n      <td>0.207590</td>\n      <td>554</td>\n      <td>2021</td>\n      <td>83</td>\n      <td>2</td>\n      <td>80.0</td>\n      <td>2021_83_2</td>\n      <td>T5</td>\n    </tr>\n    <tr>\n      <th>91713</th>\n      <td>1.636446</td>\n      <td>1.748325</td>\n      <td>-7.019642</td>\n      <td>-46.996131</td>\n      <td>20.312061</td>\n      <td>-45.623786</td>\n      <td>1.545766</td>\n      <td>0.008350</td>\n      <td>0.111672</td>\n      <td>-0.420576</td>\n      <td>...</td>\n      <td>0.773487</td>\n      <td>0.287239</td>\n      <td>0.206113</td>\n      <td>559</td>\n      <td>2021</td>\n      <td>83</td>\n      <td>2</td>\n      <td>80.0</td>\n      <td>2021_83_2</td>\n      <td>T5</td>\n    </tr>\n    <tr>\n      <th>91714</th>\n      <td>2.192252</td>\n      <td>3.361778</td>\n      <td>-7.891036</td>\n      <td>-39.437375</td>\n      <td>15.209137</td>\n      <td>-49.699073</td>\n      <td>1.565313</td>\n      <td>0.037428</td>\n      <td>0.083194</td>\n      <td>-0.584898</td>\n      <td>...</td>\n      <td>0.774775</td>\n      <td>0.288382</td>\n      <td>0.204909</td>\n      <td>563</td>\n      <td>2021</td>\n      <td>83</td>\n      <td>2</td>\n      <td>80.0</td>\n      <td>2021_83_2</td>\n      <td>T5</td>\n    </tr>\n  </tbody>\n</table>\n<p>31916 rows × 425 columns</p>\n</div>"
     },
     "execution_count": 45,
     "metadata": {},
     "output_type": "execute_result"
    }
   ],
   "source": [
    "data = data.loc[data['segment'] == 'T5']\n",
    "data"
   ],
   "metadata": {
    "collapsed": false,
    "pycharm": {
     "name": "#%%\n"
    }
   }
  },
  {
   "cell_type": "code",
   "execution_count": 46,
   "outputs": [
    {
     "name": "stderr",
     "output_type": "stream",
     "text": [
      "C:\\Users\\evapa\\AppData\\Local\\Temp\\ipykernel_16908\\1598229461.py:9: SettingWithCopyWarning: \n",
      "A value is trying to be set on a copy of a slice from a DataFrame.\n",
      "Try using .loc[row_indexer,col_indexer] = value instead\n",
      "\n",
      "See the caveats in the documentation: https://pandas.pydata.org/pandas-docs/stable/user_guide/indexing.html#returning-a-view-versus-a-copy\n",
      "  data['knee_angle'] = knee_angles\n"
     ]
    },
    {
     "data": {
      "text/plain": "       Pelvis_acc_0  Pelvis_acc_1  Pelvis_acc_2  Pelvis_angular_acc_0  \\\n74         0.152512     -0.795918      0.123093              0.025530   \n75         0.318390     -0.832675      0.060367             -0.276795   \n76         0.221898     -0.626987     -0.070908              1.720788   \n77         0.539407     -0.833769      0.098279              0.276090   \n78         0.468945     -1.036165      0.045915             -0.803576   \n...             ...           ...           ...                   ...   \n91710      2.768642     -0.111274     -3.398066            -50.671607   \n91711      1.977710      0.114427     -4.097666            -53.581650   \n91712      1.337048      0.807283     -6.118449            -51.941492   \n91713      1.636446      1.748325     -7.019642            -46.996131   \n91714      2.192252      3.361778     -7.891036            -39.437375   \n\n       Pelvis_angular_acc_1  Pelvis_angular_acc_2  Pelvis_vel_0  Pelvis_vel_1  \\\n74                 1.947904             -0.380464      0.063529     -0.077690   \n75                 1.146434              0.739649      0.064831     -0.080554   \n76                 2.390649              0.177294      0.065696     -0.082584   \n77                 0.285215              0.652241      0.067695     -0.085555   \n78                 0.601857              0.070244      0.069187     -0.089436   \n...                     ...                   ...           ...           ...   \n91710             16.548586            -30.871259      1.486902     -0.038364   \n91711             19.719689            -35.784542      1.506722     -0.027991   \n91712             24.628179            -39.636580      1.526256     -0.013196   \n91713             20.312061            -45.623786      1.545766      0.008350   \n91714             15.209137            -49.699073      1.565313      0.037428   \n\n       Pelvis_vel_2  Pelvis_angular_vel_0  ...  LeftFoot_pos_1  \\\n74        -0.011966              0.128181  ...        9.160253   \n75        -0.012061              0.127028  ...        9.160270   \n76        -0.012752              0.134198  ...        9.160299   \n77        -0.012773              0.135348  ...        9.160331   \n78        -0.013029              0.132000  ...        9.160362   \n...             ...                   ...  ...             ...   \n91710      0.171214              0.214921  ...        0.285792   \n91711      0.153793             -0.008335  ...        0.286086   \n91712      0.134674             -0.224758  ...        0.286508   \n91713      0.111672             -0.420576  ...        0.287239   \n91714      0.083194             -0.584898  ...        0.288382   \n\n       LeftFoot_pos_2  time  year  id  sample  speed        key  segment  \\\n74           0.162960   659  2017  10       1   79.0  2017_10_1       T5   \n75           0.162975   663  2017  10       1   79.0  2017_10_1       T5   \n76           0.162987   667  2017  10       1   79.0  2017_10_1       T5   \n77           0.162995   671  2017  10       1   79.0  2017_10_1       T5   \n78           0.163003   675  2017  10       1   79.0  2017_10_1       T5   \n...               ...   ...   ...  ..     ...    ...        ...      ...   \n91710        0.211505   546  2021  83       2   80.0  2021_83_2       T5   \n91711        0.209387   550  2021  83       2   80.0  2021_83_2       T5   \n91712        0.207590   554  2021  83       2   80.0  2021_83_2       T5   \n91713        0.206113   559  2021  83       2   80.0  2021_83_2       T5   \n91714        0.204909   563  2021  83       2   80.0  2021_83_2       T5   \n\n       knee_angle  \n74      84.939106  \n75      84.936449  \n76      84.933671  \n77      84.930545  \n78      84.927210  \n...           ...  \n91710    1.295485  \n91711    1.303243  \n91712    1.310915  \n91713    1.318435  \n91714    1.325750  \n\n[31916 rows x 426 columns]",
      "text/html": "<div>\n<style scoped>\n    .dataframe tbody tr th:only-of-type {\n        vertical-align: middle;\n    }\n\n    .dataframe tbody tr th {\n        vertical-align: top;\n    }\n\n    .dataframe thead th {\n        text-align: right;\n    }\n</style>\n<table border=\"1\" class=\"dataframe\">\n  <thead>\n    <tr style=\"text-align: right;\">\n      <th></th>\n      <th>Pelvis_acc_0</th>\n      <th>Pelvis_acc_1</th>\n      <th>Pelvis_acc_2</th>\n      <th>Pelvis_angular_acc_0</th>\n      <th>Pelvis_angular_acc_1</th>\n      <th>Pelvis_angular_acc_2</th>\n      <th>Pelvis_vel_0</th>\n      <th>Pelvis_vel_1</th>\n      <th>Pelvis_vel_2</th>\n      <th>Pelvis_angular_vel_0</th>\n      <th>...</th>\n      <th>LeftFoot_pos_1</th>\n      <th>LeftFoot_pos_2</th>\n      <th>time</th>\n      <th>year</th>\n      <th>id</th>\n      <th>sample</th>\n      <th>speed</th>\n      <th>key</th>\n      <th>segment</th>\n      <th>knee_angle</th>\n    </tr>\n  </thead>\n  <tbody>\n    <tr>\n      <th>74</th>\n      <td>0.152512</td>\n      <td>-0.795918</td>\n      <td>0.123093</td>\n      <td>0.025530</td>\n      <td>1.947904</td>\n      <td>-0.380464</td>\n      <td>0.063529</td>\n      <td>-0.077690</td>\n      <td>-0.011966</td>\n      <td>0.128181</td>\n      <td>...</td>\n      <td>9.160253</td>\n      <td>0.162960</td>\n      <td>659</td>\n      <td>2017</td>\n      <td>10</td>\n      <td>1</td>\n      <td>79.0</td>\n      <td>2017_10_1</td>\n      <td>T5</td>\n      <td>84.939106</td>\n    </tr>\n    <tr>\n      <th>75</th>\n      <td>0.318390</td>\n      <td>-0.832675</td>\n      <td>0.060367</td>\n      <td>-0.276795</td>\n      <td>1.146434</td>\n      <td>0.739649</td>\n      <td>0.064831</td>\n      <td>-0.080554</td>\n      <td>-0.012061</td>\n      <td>0.127028</td>\n      <td>...</td>\n      <td>9.160270</td>\n      <td>0.162975</td>\n      <td>663</td>\n      <td>2017</td>\n      <td>10</td>\n      <td>1</td>\n      <td>79.0</td>\n      <td>2017_10_1</td>\n      <td>T5</td>\n      <td>84.936449</td>\n    </tr>\n    <tr>\n      <th>76</th>\n      <td>0.221898</td>\n      <td>-0.626987</td>\n      <td>-0.070908</td>\n      <td>1.720788</td>\n      <td>2.390649</td>\n      <td>0.177294</td>\n      <td>0.065696</td>\n      <td>-0.082584</td>\n      <td>-0.012752</td>\n      <td>0.134198</td>\n      <td>...</td>\n      <td>9.160299</td>\n      <td>0.162987</td>\n      <td>667</td>\n      <td>2017</td>\n      <td>10</td>\n      <td>1</td>\n      <td>79.0</td>\n      <td>2017_10_1</td>\n      <td>T5</td>\n      <td>84.933671</td>\n    </tr>\n    <tr>\n      <th>77</th>\n      <td>0.539407</td>\n      <td>-0.833769</td>\n      <td>0.098279</td>\n      <td>0.276090</td>\n      <td>0.285215</td>\n      <td>0.652241</td>\n      <td>0.067695</td>\n      <td>-0.085555</td>\n      <td>-0.012773</td>\n      <td>0.135348</td>\n      <td>...</td>\n      <td>9.160331</td>\n      <td>0.162995</td>\n      <td>671</td>\n      <td>2017</td>\n      <td>10</td>\n      <td>1</td>\n      <td>79.0</td>\n      <td>2017_10_1</td>\n      <td>T5</td>\n      <td>84.930545</td>\n    </tr>\n    <tr>\n      <th>78</th>\n      <td>0.468945</td>\n      <td>-1.036165</td>\n      <td>0.045915</td>\n      <td>-0.803576</td>\n      <td>0.601857</td>\n      <td>0.070244</td>\n      <td>0.069187</td>\n      <td>-0.089436</td>\n      <td>-0.013029</td>\n      <td>0.132000</td>\n      <td>...</td>\n      <td>9.160362</td>\n      <td>0.163003</td>\n      <td>675</td>\n      <td>2017</td>\n      <td>10</td>\n      <td>1</td>\n      <td>79.0</td>\n      <td>2017_10_1</td>\n      <td>T5</td>\n      <td>84.927210</td>\n    </tr>\n    <tr>\n      <th>...</th>\n      <td>...</td>\n      <td>...</td>\n      <td>...</td>\n      <td>...</td>\n      <td>...</td>\n      <td>...</td>\n      <td>...</td>\n      <td>...</td>\n      <td>...</td>\n      <td>...</td>\n      <td>...</td>\n      <td>...</td>\n      <td>...</td>\n      <td>...</td>\n      <td>...</td>\n      <td>...</td>\n      <td>...</td>\n      <td>...</td>\n      <td>...</td>\n      <td>...</td>\n      <td>...</td>\n    </tr>\n    <tr>\n      <th>91710</th>\n      <td>2.768642</td>\n      <td>-0.111274</td>\n      <td>-3.398066</td>\n      <td>-50.671607</td>\n      <td>16.548586</td>\n      <td>-30.871259</td>\n      <td>1.486902</td>\n      <td>-0.038364</td>\n      <td>0.171214</td>\n      <td>0.214921</td>\n      <td>...</td>\n      <td>0.285792</td>\n      <td>0.211505</td>\n      <td>546</td>\n      <td>2021</td>\n      <td>83</td>\n      <td>2</td>\n      <td>80.0</td>\n      <td>2021_83_2</td>\n      <td>T5</td>\n      <td>1.295485</td>\n    </tr>\n    <tr>\n      <th>91711</th>\n      <td>1.977710</td>\n      <td>0.114427</td>\n      <td>-4.097666</td>\n      <td>-53.581650</td>\n      <td>19.719689</td>\n      <td>-35.784542</td>\n      <td>1.506722</td>\n      <td>-0.027991</td>\n      <td>0.153793</td>\n      <td>-0.008335</td>\n      <td>...</td>\n      <td>0.286086</td>\n      <td>0.209387</td>\n      <td>550</td>\n      <td>2021</td>\n      <td>83</td>\n      <td>2</td>\n      <td>80.0</td>\n      <td>2021_83_2</td>\n      <td>T5</td>\n      <td>1.303243</td>\n    </tr>\n    <tr>\n      <th>91712</th>\n      <td>1.337048</td>\n      <td>0.807283</td>\n      <td>-6.118449</td>\n      <td>-51.941492</td>\n      <td>24.628179</td>\n      <td>-39.636580</td>\n      <td>1.526256</td>\n      <td>-0.013196</td>\n      <td>0.134674</td>\n      <td>-0.224758</td>\n      <td>...</td>\n      <td>0.286508</td>\n      <td>0.207590</td>\n      <td>554</td>\n      <td>2021</td>\n      <td>83</td>\n      <td>2</td>\n      <td>80.0</td>\n      <td>2021_83_2</td>\n      <td>T5</td>\n      <td>1.310915</td>\n    </tr>\n    <tr>\n      <th>91713</th>\n      <td>1.636446</td>\n      <td>1.748325</td>\n      <td>-7.019642</td>\n      <td>-46.996131</td>\n      <td>20.312061</td>\n      <td>-45.623786</td>\n      <td>1.545766</td>\n      <td>0.008350</td>\n      <td>0.111672</td>\n      <td>-0.420576</td>\n      <td>...</td>\n      <td>0.287239</td>\n      <td>0.206113</td>\n      <td>559</td>\n      <td>2021</td>\n      <td>83</td>\n      <td>2</td>\n      <td>80.0</td>\n      <td>2021_83_2</td>\n      <td>T5</td>\n      <td>1.318435</td>\n    </tr>\n    <tr>\n      <th>91714</th>\n      <td>2.192252</td>\n      <td>3.361778</td>\n      <td>-7.891036</td>\n      <td>-39.437375</td>\n      <td>15.209137</td>\n      <td>-49.699073</td>\n      <td>1.565313</td>\n      <td>0.037428</td>\n      <td>0.083194</td>\n      <td>-0.584898</td>\n      <td>...</td>\n      <td>0.288382</td>\n      <td>0.204909</td>\n      <td>563</td>\n      <td>2021</td>\n      <td>83</td>\n      <td>2</td>\n      <td>80.0</td>\n      <td>2021_83_2</td>\n      <td>T5</td>\n      <td>1.325750</td>\n    </tr>\n  </tbody>\n</table>\n<p>31916 rows × 426 columns</p>\n</div>"
     },
     "execution_count": 46,
     "metadata": {},
     "output_type": "execute_result"
    }
   ],
   "source": [
    "# find for each instance the knee angle\n",
    "knee_angles = data.apply(lambda row: np.inner(np.array([row['LeftLowerLeg_pos_0'], row['LeftLowerLeg_pos_1'], row['LeftLowerLeg_pos_2']]), np.array([row['LeftUpperLeg_pos_0'], row['LeftUpperLeg_pos_1'], row['LeftUpperLeg_pos_2']])), axis=1)\n",
    "data['knee_angle'] = knee_angles\n",
    "data"
   ],
   "metadata": {
    "collapsed": false,
    "pycharm": {
     "name": "#%%\n"
    }
   }
  },
  {
   "cell_type": "code",
   "execution_count": 47,
   "outputs": [],
   "source": [
    "data.to_pickle('knee_angle_T5.pkl')"
   ],
   "metadata": {
    "collapsed": false,
    "pycharm": {
     "name": "#%%\n"
    }
   }
  },
  {
   "cell_type": "markdown",
   "source": [
    "### Maximum knee flexion angle\n",
    "Based on the paper, maximum knee angle = highest knee angle after the key event of step 5.\n",
    "At T5 in the key event is involved the leading knee so the left leg, for which the knee angle has been computed above.\n",
    "So we need to calculate the maximum knee angle per user and per trial as:\n",
    "##### maximum_knee_angle = max(column=knee_angle)"
   ],
   "metadata": {
    "collapsed": false,
    "pycharm": {
     "name": "#%% md\n"
    }
   }
  },
  {
   "cell_type": "code",
   "execution_count": 125,
   "outputs": [
    {
     "data": {
      "text/plain": "       Pelvis_acc_0  Pelvis_acc_1  Pelvis_acc_2  Pelvis_angular_acc_0  \\\n74         0.152512     -0.795918      0.123093              0.025530   \n75         0.318390     -0.832675      0.060367             -0.276795   \n76         0.221898     -0.626987     -0.070908              1.720788   \n77         0.539407     -0.833769      0.098279              0.276090   \n78         0.468945     -1.036165      0.045915             -0.803576   \n...             ...           ...           ...                   ...   \n91710      2.768642     -0.111274     -3.398066            -50.671607   \n91711      1.977710      0.114427     -4.097666            -53.581650   \n91712      1.337048      0.807283     -6.118449            -51.941492   \n91713      1.636446      1.748325     -7.019642            -46.996131   \n91714      2.192252      3.361778     -7.891036            -39.437375   \n\n       Pelvis_angular_acc_1  Pelvis_angular_acc_2  Pelvis_vel_0  Pelvis_vel_1  \\\n74                 1.947904             -0.380464      0.063529     -0.077690   \n75                 1.146434              0.739649      0.064831     -0.080554   \n76                 2.390649              0.177294      0.065696     -0.082584   \n77                 0.285215              0.652241      0.067695     -0.085555   \n78                 0.601857              0.070244      0.069187     -0.089436   \n...                     ...                   ...           ...           ...   \n91710             16.548586            -30.871259      1.486902     -0.038364   \n91711             19.719689            -35.784542      1.506722     -0.027991   \n91712             24.628179            -39.636580      1.526256     -0.013196   \n91713             20.312061            -45.623786      1.545766      0.008350   \n91714             15.209137            -49.699073      1.565313      0.037428   \n\n       Pelvis_vel_2  Pelvis_angular_vel_0  ...  LeftFoot_pos_1  \\\n74        -0.011966              0.128181  ...        9.160253   \n75        -0.012061              0.127028  ...        9.160270   \n76        -0.012752              0.134198  ...        9.160299   \n77        -0.012773              0.135348  ...        9.160331   \n78        -0.013029              0.132000  ...        9.160362   \n...             ...                   ...  ...             ...   \n91710      0.171214              0.214921  ...        0.285792   \n91711      0.153793             -0.008335  ...        0.286086   \n91712      0.134674             -0.224758  ...        0.286508   \n91713      0.111672             -0.420576  ...        0.287239   \n91714      0.083194             -0.584898  ...        0.288382   \n\n       LeftFoot_pos_2  time  year  id  sample  speed        key  segment  \\\n74           0.162960   659  2017  10       1   79.0  2017_10_1       T5   \n75           0.162975   663  2017  10       1   79.0  2017_10_1       T5   \n76           0.162987   667  2017  10       1   79.0  2017_10_1       T5   \n77           0.162995   671  2017  10       1   79.0  2017_10_1       T5   \n78           0.163003   675  2017  10       1   79.0  2017_10_1       T5   \n...               ...   ...   ...  ..     ...    ...        ...      ...   \n91710        0.211505   546  2021  83       2   80.0  2021_83_2       T5   \n91711        0.209387   550  2021  83       2   80.0  2021_83_2       T5   \n91712        0.207590   554  2021  83       2   80.0  2021_83_2       T5   \n91713        0.206113   559  2021  83       2   80.0  2021_83_2       T5   \n91714        0.204909   563  2021  83       2   80.0  2021_83_2       T5   \n\n       knee_angle  \n74      84.939106  \n75      84.936449  \n76      84.933671  \n77      84.930545  \n78      84.927210  \n...           ...  \n91710    1.295485  \n91711    1.303243  \n91712    1.310915  \n91713    1.318435  \n91714    1.325750  \n\n[31916 rows x 426 columns]",
      "text/html": "<div>\n<style scoped>\n    .dataframe tbody tr th:only-of-type {\n        vertical-align: middle;\n    }\n\n    .dataframe tbody tr th {\n        vertical-align: top;\n    }\n\n    .dataframe thead th {\n        text-align: right;\n    }\n</style>\n<table border=\"1\" class=\"dataframe\">\n  <thead>\n    <tr style=\"text-align: right;\">\n      <th></th>\n      <th>Pelvis_acc_0</th>\n      <th>Pelvis_acc_1</th>\n      <th>Pelvis_acc_2</th>\n      <th>Pelvis_angular_acc_0</th>\n      <th>Pelvis_angular_acc_1</th>\n      <th>Pelvis_angular_acc_2</th>\n      <th>Pelvis_vel_0</th>\n      <th>Pelvis_vel_1</th>\n      <th>Pelvis_vel_2</th>\n      <th>Pelvis_angular_vel_0</th>\n      <th>...</th>\n      <th>LeftFoot_pos_1</th>\n      <th>LeftFoot_pos_2</th>\n      <th>time</th>\n      <th>year</th>\n      <th>id</th>\n      <th>sample</th>\n      <th>speed</th>\n      <th>key</th>\n      <th>segment</th>\n      <th>knee_angle</th>\n    </tr>\n  </thead>\n  <tbody>\n    <tr>\n      <th>74</th>\n      <td>0.152512</td>\n      <td>-0.795918</td>\n      <td>0.123093</td>\n      <td>0.025530</td>\n      <td>1.947904</td>\n      <td>-0.380464</td>\n      <td>0.063529</td>\n      <td>-0.077690</td>\n      <td>-0.011966</td>\n      <td>0.128181</td>\n      <td>...</td>\n      <td>9.160253</td>\n      <td>0.162960</td>\n      <td>659</td>\n      <td>2017</td>\n      <td>10</td>\n      <td>1</td>\n      <td>79.0</td>\n      <td>2017_10_1</td>\n      <td>T5</td>\n      <td>84.939106</td>\n    </tr>\n    <tr>\n      <th>75</th>\n      <td>0.318390</td>\n      <td>-0.832675</td>\n      <td>0.060367</td>\n      <td>-0.276795</td>\n      <td>1.146434</td>\n      <td>0.739649</td>\n      <td>0.064831</td>\n      <td>-0.080554</td>\n      <td>-0.012061</td>\n      <td>0.127028</td>\n      <td>...</td>\n      <td>9.160270</td>\n      <td>0.162975</td>\n      <td>663</td>\n      <td>2017</td>\n      <td>10</td>\n      <td>1</td>\n      <td>79.0</td>\n      <td>2017_10_1</td>\n      <td>T5</td>\n      <td>84.936449</td>\n    </tr>\n    <tr>\n      <th>76</th>\n      <td>0.221898</td>\n      <td>-0.626987</td>\n      <td>-0.070908</td>\n      <td>1.720788</td>\n      <td>2.390649</td>\n      <td>0.177294</td>\n      <td>0.065696</td>\n      <td>-0.082584</td>\n      <td>-0.012752</td>\n      <td>0.134198</td>\n      <td>...</td>\n      <td>9.160299</td>\n      <td>0.162987</td>\n      <td>667</td>\n      <td>2017</td>\n      <td>10</td>\n      <td>1</td>\n      <td>79.0</td>\n      <td>2017_10_1</td>\n      <td>T5</td>\n      <td>84.933671</td>\n    </tr>\n    <tr>\n      <th>77</th>\n      <td>0.539407</td>\n      <td>-0.833769</td>\n      <td>0.098279</td>\n      <td>0.276090</td>\n      <td>0.285215</td>\n      <td>0.652241</td>\n      <td>0.067695</td>\n      <td>-0.085555</td>\n      <td>-0.012773</td>\n      <td>0.135348</td>\n      <td>...</td>\n      <td>9.160331</td>\n      <td>0.162995</td>\n      <td>671</td>\n      <td>2017</td>\n      <td>10</td>\n      <td>1</td>\n      <td>79.0</td>\n      <td>2017_10_1</td>\n      <td>T5</td>\n      <td>84.930545</td>\n    </tr>\n    <tr>\n      <th>78</th>\n      <td>0.468945</td>\n      <td>-1.036165</td>\n      <td>0.045915</td>\n      <td>-0.803576</td>\n      <td>0.601857</td>\n      <td>0.070244</td>\n      <td>0.069187</td>\n      <td>-0.089436</td>\n      <td>-0.013029</td>\n      <td>0.132000</td>\n      <td>...</td>\n      <td>9.160362</td>\n      <td>0.163003</td>\n      <td>675</td>\n      <td>2017</td>\n      <td>10</td>\n      <td>1</td>\n      <td>79.0</td>\n      <td>2017_10_1</td>\n      <td>T5</td>\n      <td>84.927210</td>\n    </tr>\n    <tr>\n      <th>...</th>\n      <td>...</td>\n      <td>...</td>\n      <td>...</td>\n      <td>...</td>\n      <td>...</td>\n      <td>...</td>\n      <td>...</td>\n      <td>...</td>\n      <td>...</td>\n      <td>...</td>\n      <td>...</td>\n      <td>...</td>\n      <td>...</td>\n      <td>...</td>\n      <td>...</td>\n      <td>...</td>\n      <td>...</td>\n      <td>...</td>\n      <td>...</td>\n      <td>...</td>\n      <td>...</td>\n    </tr>\n    <tr>\n      <th>91710</th>\n      <td>2.768642</td>\n      <td>-0.111274</td>\n      <td>-3.398066</td>\n      <td>-50.671607</td>\n      <td>16.548586</td>\n      <td>-30.871259</td>\n      <td>1.486902</td>\n      <td>-0.038364</td>\n      <td>0.171214</td>\n      <td>0.214921</td>\n      <td>...</td>\n      <td>0.285792</td>\n      <td>0.211505</td>\n      <td>546</td>\n      <td>2021</td>\n      <td>83</td>\n      <td>2</td>\n      <td>80.0</td>\n      <td>2021_83_2</td>\n      <td>T5</td>\n      <td>1.295485</td>\n    </tr>\n    <tr>\n      <th>91711</th>\n      <td>1.977710</td>\n      <td>0.114427</td>\n      <td>-4.097666</td>\n      <td>-53.581650</td>\n      <td>19.719689</td>\n      <td>-35.784542</td>\n      <td>1.506722</td>\n      <td>-0.027991</td>\n      <td>0.153793</td>\n      <td>-0.008335</td>\n      <td>...</td>\n      <td>0.286086</td>\n      <td>0.209387</td>\n      <td>550</td>\n      <td>2021</td>\n      <td>83</td>\n      <td>2</td>\n      <td>80.0</td>\n      <td>2021_83_2</td>\n      <td>T5</td>\n      <td>1.303243</td>\n    </tr>\n    <tr>\n      <th>91712</th>\n      <td>1.337048</td>\n      <td>0.807283</td>\n      <td>-6.118449</td>\n      <td>-51.941492</td>\n      <td>24.628179</td>\n      <td>-39.636580</td>\n      <td>1.526256</td>\n      <td>-0.013196</td>\n      <td>0.134674</td>\n      <td>-0.224758</td>\n      <td>...</td>\n      <td>0.286508</td>\n      <td>0.207590</td>\n      <td>554</td>\n      <td>2021</td>\n      <td>83</td>\n      <td>2</td>\n      <td>80.0</td>\n      <td>2021_83_2</td>\n      <td>T5</td>\n      <td>1.310915</td>\n    </tr>\n    <tr>\n      <th>91713</th>\n      <td>1.636446</td>\n      <td>1.748325</td>\n      <td>-7.019642</td>\n      <td>-46.996131</td>\n      <td>20.312061</td>\n      <td>-45.623786</td>\n      <td>1.545766</td>\n      <td>0.008350</td>\n      <td>0.111672</td>\n      <td>-0.420576</td>\n      <td>...</td>\n      <td>0.287239</td>\n      <td>0.206113</td>\n      <td>559</td>\n      <td>2021</td>\n      <td>83</td>\n      <td>2</td>\n      <td>80.0</td>\n      <td>2021_83_2</td>\n      <td>T5</td>\n      <td>1.318435</td>\n    </tr>\n    <tr>\n      <th>91714</th>\n      <td>2.192252</td>\n      <td>3.361778</td>\n      <td>-7.891036</td>\n      <td>-39.437375</td>\n      <td>15.209137</td>\n      <td>-49.699073</td>\n      <td>1.565313</td>\n      <td>0.037428</td>\n      <td>0.083194</td>\n      <td>-0.584898</td>\n      <td>...</td>\n      <td>0.288382</td>\n      <td>0.204909</td>\n      <td>563</td>\n      <td>2021</td>\n      <td>83</td>\n      <td>2</td>\n      <td>80.0</td>\n      <td>2021_83_2</td>\n      <td>T5</td>\n      <td>1.325750</td>\n    </tr>\n  </tbody>\n</table>\n<p>31916 rows × 426 columns</p>\n</div>"
     },
     "execution_count": 125,
     "metadata": {},
     "output_type": "execute_result"
    }
   ],
   "source": [
    "data = pd.read_pickle('knee_angle_T5.pkl')\n",
    "data"
   ],
   "metadata": {
    "collapsed": false,
    "pycharm": {
     "name": "#%%\n"
    }
   }
  },
  {
   "cell_type": "markdown",
   "source": [
    "per user and per trial find the maximum knee angle"
   ],
   "metadata": {
    "collapsed": false,
    "pycharm": {
     "name": "#%% md\n"
    }
   }
  },
  {
   "cell_type": "code",
   "execution_count": 126,
   "outputs": [],
   "source": [
    "max_knee_angle_df = pd.DataFrame(columns=['user', 'trial', 'key', 'speed', 'max_knee_angle'])"
   ],
   "metadata": {
    "collapsed": false,
    "pycharm": {
     "name": "#%%\n"
    }
   }
  },
  {
   "cell_type": "code",
   "execution_count": 127,
   "outputs": [
    {
     "data": {
      "text/plain": "    user trial        key speed max_knee_angle\n0     10     1  2017_10_1  79.0     101.777628\n1     10     2  2017_10_2  82.0     105.399043\n2     10     3  2017_10_3  78.0     109.928203\n3     10     4  2017_10_4  77.0     110.922002\n4     10     5  2017_10_5  78.0     112.529423\n..   ...   ...        ...   ...            ...\n331   82     2  2021_82_2  74.0       9.025502\n332   82     3  2021_82_3  79.0       2.312073\n333   82     4  2021_82_4  77.0       8.405469\n334   82     7  2021_82_7  90.0       3.079577\n335   83     2  2021_83_2  80.0       1.625562\n\n[336 rows x 5 columns]",
      "text/html": "<div>\n<style scoped>\n    .dataframe tbody tr th:only-of-type {\n        vertical-align: middle;\n    }\n\n    .dataframe tbody tr th {\n        vertical-align: top;\n    }\n\n    .dataframe thead th {\n        text-align: right;\n    }\n</style>\n<table border=\"1\" class=\"dataframe\">\n  <thead>\n    <tr style=\"text-align: right;\">\n      <th></th>\n      <th>user</th>\n      <th>trial</th>\n      <th>key</th>\n      <th>speed</th>\n      <th>max_knee_angle</th>\n    </tr>\n  </thead>\n  <tbody>\n    <tr>\n      <th>0</th>\n      <td>10</td>\n      <td>1</td>\n      <td>2017_10_1</td>\n      <td>79.0</td>\n      <td>101.777628</td>\n    </tr>\n    <tr>\n      <th>1</th>\n      <td>10</td>\n      <td>2</td>\n      <td>2017_10_2</td>\n      <td>82.0</td>\n      <td>105.399043</td>\n    </tr>\n    <tr>\n      <th>2</th>\n      <td>10</td>\n      <td>3</td>\n      <td>2017_10_3</td>\n      <td>78.0</td>\n      <td>109.928203</td>\n    </tr>\n    <tr>\n      <th>3</th>\n      <td>10</td>\n      <td>4</td>\n      <td>2017_10_4</td>\n      <td>77.0</td>\n      <td>110.922002</td>\n    </tr>\n    <tr>\n      <th>4</th>\n      <td>10</td>\n      <td>5</td>\n      <td>2017_10_5</td>\n      <td>78.0</td>\n      <td>112.529423</td>\n    </tr>\n    <tr>\n      <th>...</th>\n      <td>...</td>\n      <td>...</td>\n      <td>...</td>\n      <td>...</td>\n      <td>...</td>\n    </tr>\n    <tr>\n      <th>331</th>\n      <td>82</td>\n      <td>2</td>\n      <td>2021_82_2</td>\n      <td>74.0</td>\n      <td>9.025502</td>\n    </tr>\n    <tr>\n      <th>332</th>\n      <td>82</td>\n      <td>3</td>\n      <td>2021_82_3</td>\n      <td>79.0</td>\n      <td>2.312073</td>\n    </tr>\n    <tr>\n      <th>333</th>\n      <td>82</td>\n      <td>4</td>\n      <td>2021_82_4</td>\n      <td>77.0</td>\n      <td>8.405469</td>\n    </tr>\n    <tr>\n      <th>334</th>\n      <td>82</td>\n      <td>7</td>\n      <td>2021_82_7</td>\n      <td>90.0</td>\n      <td>3.079577</td>\n    </tr>\n    <tr>\n      <th>335</th>\n      <td>83</td>\n      <td>2</td>\n      <td>2021_83_2</td>\n      <td>80.0</td>\n      <td>1.625562</td>\n    </tr>\n  </tbody>\n</table>\n<p>336 rows × 5 columns</p>\n</div>"
     },
     "execution_count": 127,
     "metadata": {},
     "output_type": "execute_result"
    }
   ],
   "source": [
    "# per user and per trial\n",
    "users = list(data['id'].unique())\n",
    "for user in users:\n",
    "    user_data = data.loc[data['id'] == user]\n",
    "    trials = list(user_data['sample'].unique())\n",
    "    for trial in trials:\n",
    "        user_trial_data = user_data.loc[user_data['sample'] == trial]\n",
    "\n",
    "        # current df\n",
    "        max_knee_angle_current_df = pd.DataFrame(columns=['user', 'trial', 'key', 'speed','max_knee_angle'])\n",
    "        max_knee_angle_current_df.loc[0, 'user'] = user\n",
    "        max_knee_angle_current_df.loc[0, 'trial'] = trial\n",
    "        max_knee_angle_current_df.loc[0, 'key'] = user_trial_data['key'].iloc[0]\n",
    "        max_knee_angle_current_df.loc[0, 'speed'] = user_trial_data['speed'].iloc[0]\n",
    "\n",
    "        # find max\n",
    "        max_knee_angle = user_trial_data['knee_angle'].max()\n",
    "\n",
    "        # current df\n",
    "        max_knee_angle_current_df.loc[0, 'max_knee_angle'] = max_knee_angle\n",
    "\n",
    "        # concat to the final stance_df\n",
    "        max_knee_angle_df = pd.concat([max_knee_angle_df, max_knee_angle_current_df])\n",
    "\n",
    "max_knee_angle_df.reset_index(drop=True, inplace=True)\n",
    "max_knee_angle_df"
   ],
   "metadata": {
    "collapsed": false,
    "pycharm": {
     "name": "#%%\n"
    }
   }
  },
  {
   "cell_type": "code",
   "execution_count": 128,
   "outputs": [],
   "source": [
    "max_knee_angle_df.to_pickle('max_knee_angle_df.pkl')"
   ],
   "metadata": {
    "collapsed": false,
    "pycharm": {
     "name": "#%%\n"
    }
   }
  },
  {
   "cell_type": "markdown",
   "source": [
    "#### Compute angular velocities\n",
    "Based on the paper, angular velocities are the inner product between the vector through the lower and upper leg.\n",
    "We are interested in the segment T5, and the key event there is in the leading=left foot.\n",
    "So we need to calculate the angular velocities for each instance as:\n",
    "###### angular_velocities  = inner_product([LeftLowerLeg_angular_vel_0, LeftLowerLeg_angular_vel_1, LeftLowerLeg_angular_vel_2], [LeftUpperLeg_angular_vel_0, LeftUpperLeg_angular_vel_1, LeftUpperLeg_angular_vel_2])"
   ],
   "metadata": {
    "collapsed": false,
    "pycharm": {
     "name": "#%% md\n"
    }
   }
  },
  {
   "cell_type": "code",
   "execution_count": 53,
   "outputs": [
    {
     "data": {
      "text/plain": "       Pelvis_acc_0  Pelvis_acc_1  Pelvis_acc_2  Pelvis_angular_acc_0  \\\n0         -0.054363      0.056517     -0.053088              0.420520   \n1         -0.107037      0.053799     -0.122576             -0.002736   \n2          0.144353     -0.014925     -0.004969             -0.029263   \n3         -0.030959     -0.105743     -0.107790             -1.158075   \n4          0.059421     -0.083124      0.010181             -0.362501   \n...             ...           ...           ...                   ...   \n91710      2.768642     -0.111274     -3.398066            -50.671607   \n91711      1.977710      0.114427     -4.097666            -53.581650   \n91712      1.337048      0.807283     -6.118449            -51.941492   \n91713      1.636446      1.748325     -7.019642            -46.996131   \n91714      2.192252      3.361778     -7.891036            -39.437375   \n\n       Pelvis_angular_acc_1  Pelvis_angular_acc_2  Pelvis_vel_0  Pelvis_vel_1  \\\n0                  0.209671             -0.530950      0.007970     -0.003923   \n1                  0.640158              0.677067      0.007299     -0.004135   \n2                 -1.064792              0.387637      0.007754     -0.004556   \n3                  0.311378              0.144316      0.007494     -0.005328   \n4                 -0.402047             -0.376975      0.007641     -0.005942   \n...                     ...                   ...           ...           ...   \n91710             16.548586            -30.871259      1.486902     -0.038364   \n91711             19.719689            -35.784542      1.506722     -0.027991   \n91712             24.628179            -39.636580      1.526256     -0.013196   \n91713             20.312061            -45.623786      1.545766      0.008350   \n91714             15.209137            -49.699073      1.565313      0.037428   \n\n       Pelvis_vel_2  Pelvis_angular_vel_0  ...  LeftFoot_pos_0  \\\n0         -0.001043             -0.000674  ...        1.618867   \n1         -0.001530             -0.000686  ...        1.618847   \n2         -0.001520             -0.000808  ...        1.618827   \n3         -0.001936             -0.005633  ...        1.618806   \n4         -0.001857             -0.007143  ...        1.618786   \n...             ...                   ...  ...             ...   \n91710      0.171214              0.214921  ...        0.765612   \n91711      0.153793             -0.008335  ...        0.768766   \n91712      0.134674             -0.224758  ...        0.771451   \n91713      0.111672             -0.420576  ...        0.773487   \n91714      0.083194             -0.584898  ...        0.774775   \n\n       LeftFoot_pos_1  LeftFoot_pos_2  time  year  id  sample  speed  \\\n0            9.162230        0.161790   350  2017  10       1   79.0   \n1            9.162230        0.161792   354  2017  10       1   79.0   \n2            9.162235        0.161795   359  2017  10       1   79.0   \n3            9.162238        0.161799   363  2017  10       1   79.0   \n4            9.162240        0.161802   367  2017  10       1   79.0   \n...               ...             ...   ...   ...  ..     ...    ...   \n91710        0.285792        0.211505   546  2021  83       2   80.0   \n91711        0.286086        0.209387   550  2021  83       2   80.0   \n91712        0.286508        0.207590   554  2021  83       2   80.0   \n91713        0.287239        0.206113   559  2021  83       2   80.0   \n91714        0.288382        0.204909   563  2021  83       2   80.0   \n\n             key  segment  \n0      2017_10_1       T2  \n1      2017_10_1       T2  \n2      2017_10_1       T2  \n3      2017_10_1       T2  \n4      2017_10_1       T2  \n...          ...      ...  \n91710  2021_83_2       T5  \n91711  2021_83_2       T5  \n91712  2021_83_2       T5  \n91713  2021_83_2       T5  \n91714  2021_83_2       T5  \n\n[91715 rows x 425 columns]",
      "text/html": "<div>\n<style scoped>\n    .dataframe tbody tr th:only-of-type {\n        vertical-align: middle;\n    }\n\n    .dataframe tbody tr th {\n        vertical-align: top;\n    }\n\n    .dataframe thead th {\n        text-align: right;\n    }\n</style>\n<table border=\"1\" class=\"dataframe\">\n  <thead>\n    <tr style=\"text-align: right;\">\n      <th></th>\n      <th>Pelvis_acc_0</th>\n      <th>Pelvis_acc_1</th>\n      <th>Pelvis_acc_2</th>\n      <th>Pelvis_angular_acc_0</th>\n      <th>Pelvis_angular_acc_1</th>\n      <th>Pelvis_angular_acc_2</th>\n      <th>Pelvis_vel_0</th>\n      <th>Pelvis_vel_1</th>\n      <th>Pelvis_vel_2</th>\n      <th>Pelvis_angular_vel_0</th>\n      <th>...</th>\n      <th>LeftFoot_pos_0</th>\n      <th>LeftFoot_pos_1</th>\n      <th>LeftFoot_pos_2</th>\n      <th>time</th>\n      <th>year</th>\n      <th>id</th>\n      <th>sample</th>\n      <th>speed</th>\n      <th>key</th>\n      <th>segment</th>\n    </tr>\n  </thead>\n  <tbody>\n    <tr>\n      <th>0</th>\n      <td>-0.054363</td>\n      <td>0.056517</td>\n      <td>-0.053088</td>\n      <td>0.420520</td>\n      <td>0.209671</td>\n      <td>-0.530950</td>\n      <td>0.007970</td>\n      <td>-0.003923</td>\n      <td>-0.001043</td>\n      <td>-0.000674</td>\n      <td>...</td>\n      <td>1.618867</td>\n      <td>9.162230</td>\n      <td>0.161790</td>\n      <td>350</td>\n      <td>2017</td>\n      <td>10</td>\n      <td>1</td>\n      <td>79.0</td>\n      <td>2017_10_1</td>\n      <td>T2</td>\n    </tr>\n    <tr>\n      <th>1</th>\n      <td>-0.107037</td>\n      <td>0.053799</td>\n      <td>-0.122576</td>\n      <td>-0.002736</td>\n      <td>0.640158</td>\n      <td>0.677067</td>\n      <td>0.007299</td>\n      <td>-0.004135</td>\n      <td>-0.001530</td>\n      <td>-0.000686</td>\n      <td>...</td>\n      <td>1.618847</td>\n      <td>9.162230</td>\n      <td>0.161792</td>\n      <td>354</td>\n      <td>2017</td>\n      <td>10</td>\n      <td>1</td>\n      <td>79.0</td>\n      <td>2017_10_1</td>\n      <td>T2</td>\n    </tr>\n    <tr>\n      <th>2</th>\n      <td>0.144353</td>\n      <td>-0.014925</td>\n      <td>-0.004969</td>\n      <td>-0.029263</td>\n      <td>-1.064792</td>\n      <td>0.387637</td>\n      <td>0.007754</td>\n      <td>-0.004556</td>\n      <td>-0.001520</td>\n      <td>-0.000808</td>\n      <td>...</td>\n      <td>1.618827</td>\n      <td>9.162235</td>\n      <td>0.161795</td>\n      <td>359</td>\n      <td>2017</td>\n      <td>10</td>\n      <td>1</td>\n      <td>79.0</td>\n      <td>2017_10_1</td>\n      <td>T2</td>\n    </tr>\n    <tr>\n      <th>3</th>\n      <td>-0.030959</td>\n      <td>-0.105743</td>\n      <td>-0.107790</td>\n      <td>-1.158075</td>\n      <td>0.311378</td>\n      <td>0.144316</td>\n      <td>0.007494</td>\n      <td>-0.005328</td>\n      <td>-0.001936</td>\n      <td>-0.005633</td>\n      <td>...</td>\n      <td>1.618806</td>\n      <td>9.162238</td>\n      <td>0.161799</td>\n      <td>363</td>\n      <td>2017</td>\n      <td>10</td>\n      <td>1</td>\n      <td>79.0</td>\n      <td>2017_10_1</td>\n      <td>T2</td>\n    </tr>\n    <tr>\n      <th>4</th>\n      <td>0.059421</td>\n      <td>-0.083124</td>\n      <td>0.010181</td>\n      <td>-0.362501</td>\n      <td>-0.402047</td>\n      <td>-0.376975</td>\n      <td>0.007641</td>\n      <td>-0.005942</td>\n      <td>-0.001857</td>\n      <td>-0.007143</td>\n      <td>...</td>\n      <td>1.618786</td>\n      <td>9.162240</td>\n      <td>0.161802</td>\n      <td>367</td>\n      <td>2017</td>\n      <td>10</td>\n      <td>1</td>\n      <td>79.0</td>\n      <td>2017_10_1</td>\n      <td>T2</td>\n    </tr>\n    <tr>\n      <th>...</th>\n      <td>...</td>\n      <td>...</td>\n      <td>...</td>\n      <td>...</td>\n      <td>...</td>\n      <td>...</td>\n      <td>...</td>\n      <td>...</td>\n      <td>...</td>\n      <td>...</td>\n      <td>...</td>\n      <td>...</td>\n      <td>...</td>\n      <td>...</td>\n      <td>...</td>\n      <td>...</td>\n      <td>...</td>\n      <td>...</td>\n      <td>...</td>\n      <td>...</td>\n      <td>...</td>\n    </tr>\n    <tr>\n      <th>91710</th>\n      <td>2.768642</td>\n      <td>-0.111274</td>\n      <td>-3.398066</td>\n      <td>-50.671607</td>\n      <td>16.548586</td>\n      <td>-30.871259</td>\n      <td>1.486902</td>\n      <td>-0.038364</td>\n      <td>0.171214</td>\n      <td>0.214921</td>\n      <td>...</td>\n      <td>0.765612</td>\n      <td>0.285792</td>\n      <td>0.211505</td>\n      <td>546</td>\n      <td>2021</td>\n      <td>83</td>\n      <td>2</td>\n      <td>80.0</td>\n      <td>2021_83_2</td>\n      <td>T5</td>\n    </tr>\n    <tr>\n      <th>91711</th>\n      <td>1.977710</td>\n      <td>0.114427</td>\n      <td>-4.097666</td>\n      <td>-53.581650</td>\n      <td>19.719689</td>\n      <td>-35.784542</td>\n      <td>1.506722</td>\n      <td>-0.027991</td>\n      <td>0.153793</td>\n      <td>-0.008335</td>\n      <td>...</td>\n      <td>0.768766</td>\n      <td>0.286086</td>\n      <td>0.209387</td>\n      <td>550</td>\n      <td>2021</td>\n      <td>83</td>\n      <td>2</td>\n      <td>80.0</td>\n      <td>2021_83_2</td>\n      <td>T5</td>\n    </tr>\n    <tr>\n      <th>91712</th>\n      <td>1.337048</td>\n      <td>0.807283</td>\n      <td>-6.118449</td>\n      <td>-51.941492</td>\n      <td>24.628179</td>\n      <td>-39.636580</td>\n      <td>1.526256</td>\n      <td>-0.013196</td>\n      <td>0.134674</td>\n      <td>-0.224758</td>\n      <td>...</td>\n      <td>0.771451</td>\n      <td>0.286508</td>\n      <td>0.207590</td>\n      <td>554</td>\n      <td>2021</td>\n      <td>83</td>\n      <td>2</td>\n      <td>80.0</td>\n      <td>2021_83_2</td>\n      <td>T5</td>\n    </tr>\n    <tr>\n      <th>91713</th>\n      <td>1.636446</td>\n      <td>1.748325</td>\n      <td>-7.019642</td>\n      <td>-46.996131</td>\n      <td>20.312061</td>\n      <td>-45.623786</td>\n      <td>1.545766</td>\n      <td>0.008350</td>\n      <td>0.111672</td>\n      <td>-0.420576</td>\n      <td>...</td>\n      <td>0.773487</td>\n      <td>0.287239</td>\n      <td>0.206113</td>\n      <td>559</td>\n      <td>2021</td>\n      <td>83</td>\n      <td>2</td>\n      <td>80.0</td>\n      <td>2021_83_2</td>\n      <td>T5</td>\n    </tr>\n    <tr>\n      <th>91714</th>\n      <td>2.192252</td>\n      <td>3.361778</td>\n      <td>-7.891036</td>\n      <td>-39.437375</td>\n      <td>15.209137</td>\n      <td>-49.699073</td>\n      <td>1.565313</td>\n      <td>0.037428</td>\n      <td>0.083194</td>\n      <td>-0.584898</td>\n      <td>...</td>\n      <td>0.774775</td>\n      <td>0.288382</td>\n      <td>0.204909</td>\n      <td>563</td>\n      <td>2021</td>\n      <td>83</td>\n      <td>2</td>\n      <td>80.0</td>\n      <td>2021_83_2</td>\n      <td>T5</td>\n    </tr>\n  </tbody>\n</table>\n<p>91715 rows × 425 columns</p>\n</div>"
     },
     "execution_count": 53,
     "metadata": {},
     "output_type": "execute_result"
    }
   ],
   "source": [
    "data = pd.read_pickle('data_for_feature_engineering.pkl')\n",
    "data"
   ],
   "metadata": {
    "collapsed": false,
    "pycharm": {
     "name": "#%%\n"
    }
   }
  },
  {
   "cell_type": "markdown",
   "source": [
    "keep only the instances of segment T5\n"
   ],
   "metadata": {
    "collapsed": false,
    "pycharm": {
     "name": "#%% md\n"
    }
   }
  },
  {
   "cell_type": "code",
   "execution_count": 54,
   "outputs": [
    {
     "data": {
      "text/plain": "       Pelvis_acc_0  Pelvis_acc_1  Pelvis_acc_2  Pelvis_angular_acc_0  \\\n74         0.152512     -0.795918      0.123093              0.025530   \n75         0.318390     -0.832675      0.060367             -0.276795   \n76         0.221898     -0.626987     -0.070908              1.720788   \n77         0.539407     -0.833769      0.098279              0.276090   \n78         0.468945     -1.036165      0.045915             -0.803576   \n...             ...           ...           ...                   ...   \n91710      2.768642     -0.111274     -3.398066            -50.671607   \n91711      1.977710      0.114427     -4.097666            -53.581650   \n91712      1.337048      0.807283     -6.118449            -51.941492   \n91713      1.636446      1.748325     -7.019642            -46.996131   \n91714      2.192252      3.361778     -7.891036            -39.437375   \n\n       Pelvis_angular_acc_1  Pelvis_angular_acc_2  Pelvis_vel_0  Pelvis_vel_1  \\\n74                 1.947904             -0.380464      0.063529     -0.077690   \n75                 1.146434              0.739649      0.064831     -0.080554   \n76                 2.390649              0.177294      0.065696     -0.082584   \n77                 0.285215              0.652241      0.067695     -0.085555   \n78                 0.601857              0.070244      0.069187     -0.089436   \n...                     ...                   ...           ...           ...   \n91710             16.548586            -30.871259      1.486902     -0.038364   \n91711             19.719689            -35.784542      1.506722     -0.027991   \n91712             24.628179            -39.636580      1.526256     -0.013196   \n91713             20.312061            -45.623786      1.545766      0.008350   \n91714             15.209137            -49.699073      1.565313      0.037428   \n\n       Pelvis_vel_2  Pelvis_angular_vel_0  ...  LeftFoot_pos_0  \\\n74        -0.011966              0.128181  ...        1.618889   \n75        -0.012061              0.127028  ...        1.618861   \n76        -0.012752              0.134198  ...        1.618838   \n77        -0.012773              0.135348  ...        1.618814   \n78        -0.013029              0.132000  ...        1.618787   \n...             ...                   ...  ...             ...   \n91710      0.171214              0.214921  ...        0.765612   \n91711      0.153793             -0.008335  ...        0.768766   \n91712      0.134674             -0.224758  ...        0.771451   \n91713      0.111672             -0.420576  ...        0.773487   \n91714      0.083194             -0.584898  ...        0.774775   \n\n       LeftFoot_pos_1  LeftFoot_pos_2  time  year  id  sample  speed  \\\n74           9.160253        0.162960   659  2017  10       1   79.0   \n75           9.160270        0.162975   663  2017  10       1   79.0   \n76           9.160299        0.162987   667  2017  10       1   79.0   \n77           9.160331        0.162995   671  2017  10       1   79.0   \n78           9.160362        0.163003   675  2017  10       1   79.0   \n...               ...             ...   ...   ...  ..     ...    ...   \n91710        0.285792        0.211505   546  2021  83       2   80.0   \n91711        0.286086        0.209387   550  2021  83       2   80.0   \n91712        0.286508        0.207590   554  2021  83       2   80.0   \n91713        0.287239        0.206113   559  2021  83       2   80.0   \n91714        0.288382        0.204909   563  2021  83       2   80.0   \n\n             key  segment  \n74     2017_10_1       T5  \n75     2017_10_1       T5  \n76     2017_10_1       T5  \n77     2017_10_1       T5  \n78     2017_10_1       T5  \n...          ...      ...  \n91710  2021_83_2       T5  \n91711  2021_83_2       T5  \n91712  2021_83_2       T5  \n91713  2021_83_2       T5  \n91714  2021_83_2       T5  \n\n[31916 rows x 425 columns]",
      "text/html": "<div>\n<style scoped>\n    .dataframe tbody tr th:only-of-type {\n        vertical-align: middle;\n    }\n\n    .dataframe tbody tr th {\n        vertical-align: top;\n    }\n\n    .dataframe thead th {\n        text-align: right;\n    }\n</style>\n<table border=\"1\" class=\"dataframe\">\n  <thead>\n    <tr style=\"text-align: right;\">\n      <th></th>\n      <th>Pelvis_acc_0</th>\n      <th>Pelvis_acc_1</th>\n      <th>Pelvis_acc_2</th>\n      <th>Pelvis_angular_acc_0</th>\n      <th>Pelvis_angular_acc_1</th>\n      <th>Pelvis_angular_acc_2</th>\n      <th>Pelvis_vel_0</th>\n      <th>Pelvis_vel_1</th>\n      <th>Pelvis_vel_2</th>\n      <th>Pelvis_angular_vel_0</th>\n      <th>...</th>\n      <th>LeftFoot_pos_0</th>\n      <th>LeftFoot_pos_1</th>\n      <th>LeftFoot_pos_2</th>\n      <th>time</th>\n      <th>year</th>\n      <th>id</th>\n      <th>sample</th>\n      <th>speed</th>\n      <th>key</th>\n      <th>segment</th>\n    </tr>\n  </thead>\n  <tbody>\n    <tr>\n      <th>74</th>\n      <td>0.152512</td>\n      <td>-0.795918</td>\n      <td>0.123093</td>\n      <td>0.025530</td>\n      <td>1.947904</td>\n      <td>-0.380464</td>\n      <td>0.063529</td>\n      <td>-0.077690</td>\n      <td>-0.011966</td>\n      <td>0.128181</td>\n      <td>...</td>\n      <td>1.618889</td>\n      <td>9.160253</td>\n      <td>0.162960</td>\n      <td>659</td>\n      <td>2017</td>\n      <td>10</td>\n      <td>1</td>\n      <td>79.0</td>\n      <td>2017_10_1</td>\n      <td>T5</td>\n    </tr>\n    <tr>\n      <th>75</th>\n      <td>0.318390</td>\n      <td>-0.832675</td>\n      <td>0.060367</td>\n      <td>-0.276795</td>\n      <td>1.146434</td>\n      <td>0.739649</td>\n      <td>0.064831</td>\n      <td>-0.080554</td>\n      <td>-0.012061</td>\n      <td>0.127028</td>\n      <td>...</td>\n      <td>1.618861</td>\n      <td>9.160270</td>\n      <td>0.162975</td>\n      <td>663</td>\n      <td>2017</td>\n      <td>10</td>\n      <td>1</td>\n      <td>79.0</td>\n      <td>2017_10_1</td>\n      <td>T5</td>\n    </tr>\n    <tr>\n      <th>76</th>\n      <td>0.221898</td>\n      <td>-0.626987</td>\n      <td>-0.070908</td>\n      <td>1.720788</td>\n      <td>2.390649</td>\n      <td>0.177294</td>\n      <td>0.065696</td>\n      <td>-0.082584</td>\n      <td>-0.012752</td>\n      <td>0.134198</td>\n      <td>...</td>\n      <td>1.618838</td>\n      <td>9.160299</td>\n      <td>0.162987</td>\n      <td>667</td>\n      <td>2017</td>\n      <td>10</td>\n      <td>1</td>\n      <td>79.0</td>\n      <td>2017_10_1</td>\n      <td>T5</td>\n    </tr>\n    <tr>\n      <th>77</th>\n      <td>0.539407</td>\n      <td>-0.833769</td>\n      <td>0.098279</td>\n      <td>0.276090</td>\n      <td>0.285215</td>\n      <td>0.652241</td>\n      <td>0.067695</td>\n      <td>-0.085555</td>\n      <td>-0.012773</td>\n      <td>0.135348</td>\n      <td>...</td>\n      <td>1.618814</td>\n      <td>9.160331</td>\n      <td>0.162995</td>\n      <td>671</td>\n      <td>2017</td>\n      <td>10</td>\n      <td>1</td>\n      <td>79.0</td>\n      <td>2017_10_1</td>\n      <td>T5</td>\n    </tr>\n    <tr>\n      <th>78</th>\n      <td>0.468945</td>\n      <td>-1.036165</td>\n      <td>0.045915</td>\n      <td>-0.803576</td>\n      <td>0.601857</td>\n      <td>0.070244</td>\n      <td>0.069187</td>\n      <td>-0.089436</td>\n      <td>-0.013029</td>\n      <td>0.132000</td>\n      <td>...</td>\n      <td>1.618787</td>\n      <td>9.160362</td>\n      <td>0.163003</td>\n      <td>675</td>\n      <td>2017</td>\n      <td>10</td>\n      <td>1</td>\n      <td>79.0</td>\n      <td>2017_10_1</td>\n      <td>T5</td>\n    </tr>\n    <tr>\n      <th>...</th>\n      <td>...</td>\n      <td>...</td>\n      <td>...</td>\n      <td>...</td>\n      <td>...</td>\n      <td>...</td>\n      <td>...</td>\n      <td>...</td>\n      <td>...</td>\n      <td>...</td>\n      <td>...</td>\n      <td>...</td>\n      <td>...</td>\n      <td>...</td>\n      <td>...</td>\n      <td>...</td>\n      <td>...</td>\n      <td>...</td>\n      <td>...</td>\n      <td>...</td>\n      <td>...</td>\n    </tr>\n    <tr>\n      <th>91710</th>\n      <td>2.768642</td>\n      <td>-0.111274</td>\n      <td>-3.398066</td>\n      <td>-50.671607</td>\n      <td>16.548586</td>\n      <td>-30.871259</td>\n      <td>1.486902</td>\n      <td>-0.038364</td>\n      <td>0.171214</td>\n      <td>0.214921</td>\n      <td>...</td>\n      <td>0.765612</td>\n      <td>0.285792</td>\n      <td>0.211505</td>\n      <td>546</td>\n      <td>2021</td>\n      <td>83</td>\n      <td>2</td>\n      <td>80.0</td>\n      <td>2021_83_2</td>\n      <td>T5</td>\n    </tr>\n    <tr>\n      <th>91711</th>\n      <td>1.977710</td>\n      <td>0.114427</td>\n      <td>-4.097666</td>\n      <td>-53.581650</td>\n      <td>19.719689</td>\n      <td>-35.784542</td>\n      <td>1.506722</td>\n      <td>-0.027991</td>\n      <td>0.153793</td>\n      <td>-0.008335</td>\n      <td>...</td>\n      <td>0.768766</td>\n      <td>0.286086</td>\n      <td>0.209387</td>\n      <td>550</td>\n      <td>2021</td>\n      <td>83</td>\n      <td>2</td>\n      <td>80.0</td>\n      <td>2021_83_2</td>\n      <td>T5</td>\n    </tr>\n    <tr>\n      <th>91712</th>\n      <td>1.337048</td>\n      <td>0.807283</td>\n      <td>-6.118449</td>\n      <td>-51.941492</td>\n      <td>24.628179</td>\n      <td>-39.636580</td>\n      <td>1.526256</td>\n      <td>-0.013196</td>\n      <td>0.134674</td>\n      <td>-0.224758</td>\n      <td>...</td>\n      <td>0.771451</td>\n      <td>0.286508</td>\n      <td>0.207590</td>\n      <td>554</td>\n      <td>2021</td>\n      <td>83</td>\n      <td>2</td>\n      <td>80.0</td>\n      <td>2021_83_2</td>\n      <td>T5</td>\n    </tr>\n    <tr>\n      <th>91713</th>\n      <td>1.636446</td>\n      <td>1.748325</td>\n      <td>-7.019642</td>\n      <td>-46.996131</td>\n      <td>20.312061</td>\n      <td>-45.623786</td>\n      <td>1.545766</td>\n      <td>0.008350</td>\n      <td>0.111672</td>\n      <td>-0.420576</td>\n      <td>...</td>\n      <td>0.773487</td>\n      <td>0.287239</td>\n      <td>0.206113</td>\n      <td>559</td>\n      <td>2021</td>\n      <td>83</td>\n      <td>2</td>\n      <td>80.0</td>\n      <td>2021_83_2</td>\n      <td>T5</td>\n    </tr>\n    <tr>\n      <th>91714</th>\n      <td>2.192252</td>\n      <td>3.361778</td>\n      <td>-7.891036</td>\n      <td>-39.437375</td>\n      <td>15.209137</td>\n      <td>-49.699073</td>\n      <td>1.565313</td>\n      <td>0.037428</td>\n      <td>0.083194</td>\n      <td>-0.584898</td>\n      <td>...</td>\n      <td>0.774775</td>\n      <td>0.288382</td>\n      <td>0.204909</td>\n      <td>563</td>\n      <td>2021</td>\n      <td>83</td>\n      <td>2</td>\n      <td>80.0</td>\n      <td>2021_83_2</td>\n      <td>T5</td>\n    </tr>\n  </tbody>\n</table>\n<p>31916 rows × 425 columns</p>\n</div>"
     },
     "execution_count": 54,
     "metadata": {},
     "output_type": "execute_result"
    }
   ],
   "source": [
    "data = data.loc[data['segment'] == 'T5']\n",
    "data"
   ],
   "metadata": {
    "collapsed": false,
    "pycharm": {
     "name": "#%%\n"
    }
   }
  },
  {
   "cell_type": "code",
   "execution_count": 55,
   "outputs": [
    {
     "name": "stderr",
     "output_type": "stream",
     "text": [
      "C:\\Users\\evapa\\AppData\\Local\\Temp\\ipykernel_16908\\1754445546.py:3: SettingWithCopyWarning: \n",
      "A value is trying to be set on a copy of a slice from a DataFrame.\n",
      "Try using .loc[row_indexer,col_indexer] = value instead\n",
      "\n",
      "See the caveats in the documentation: https://pandas.pydata.org/pandas-docs/stable/user_guide/indexing.html#returning-a-view-versus-a-copy\n",
      "  data['angular_velocity'] = angular_velocities\n"
     ]
    },
    {
     "data": {
      "text/plain": "       Pelvis_acc_0  Pelvis_acc_1  Pelvis_acc_2  Pelvis_angular_acc_0  \\\n74         0.152512     -0.795918      0.123093              0.025530   \n75         0.318390     -0.832675      0.060367             -0.276795   \n76         0.221898     -0.626987     -0.070908              1.720788   \n77         0.539407     -0.833769      0.098279              0.276090   \n78         0.468945     -1.036165      0.045915             -0.803576   \n...             ...           ...           ...                   ...   \n91710      2.768642     -0.111274     -3.398066            -50.671607   \n91711      1.977710      0.114427     -4.097666            -53.581650   \n91712      1.337048      0.807283     -6.118449            -51.941492   \n91713      1.636446      1.748325     -7.019642            -46.996131   \n91714      2.192252      3.361778     -7.891036            -39.437375   \n\n       Pelvis_angular_acc_1  Pelvis_angular_acc_2  Pelvis_vel_0  Pelvis_vel_1  \\\n74                 1.947904             -0.380464      0.063529     -0.077690   \n75                 1.146434              0.739649      0.064831     -0.080554   \n76                 2.390649              0.177294      0.065696     -0.082584   \n77                 0.285215              0.652241      0.067695     -0.085555   \n78                 0.601857              0.070244      0.069187     -0.089436   \n...                     ...                   ...           ...           ...   \n91710             16.548586            -30.871259      1.486902     -0.038364   \n91711             19.719689            -35.784542      1.506722     -0.027991   \n91712             24.628179            -39.636580      1.526256     -0.013196   \n91713             20.312061            -45.623786      1.545766      0.008350   \n91714             15.209137            -49.699073      1.565313      0.037428   \n\n       Pelvis_vel_2  Pelvis_angular_vel_0  ...  LeftFoot_pos_1  \\\n74        -0.011966              0.128181  ...        9.160253   \n75        -0.012061              0.127028  ...        9.160270   \n76        -0.012752              0.134198  ...        9.160299   \n77        -0.012773              0.135348  ...        9.160331   \n78        -0.013029              0.132000  ...        9.160362   \n...             ...                   ...  ...             ...   \n91710      0.171214              0.214921  ...        0.285792   \n91711      0.153793             -0.008335  ...        0.286086   \n91712      0.134674             -0.224758  ...        0.286508   \n91713      0.111672             -0.420576  ...        0.287239   \n91714      0.083194             -0.584898  ...        0.288382   \n\n       LeftFoot_pos_2  time  year  id  sample  speed        key  segment  \\\n74           0.162960   659  2017  10       1   79.0  2017_10_1       T5   \n75           0.162975   663  2017  10       1   79.0  2017_10_1       T5   \n76           0.162987   667  2017  10       1   79.0  2017_10_1       T5   \n77           0.162995   671  2017  10       1   79.0  2017_10_1       T5   \n78           0.163003   675  2017  10       1   79.0  2017_10_1       T5   \n...               ...   ...   ...  ..     ...    ...        ...      ...   \n91710        0.211505   546  2021  83       2   80.0  2021_83_2       T5   \n91711        0.209387   550  2021  83       2   80.0  2021_83_2       T5   \n91712        0.207590   554  2021  83       2   80.0  2021_83_2       T5   \n91713        0.206113   559  2021  83       2   80.0  2021_83_2       T5   \n91714        0.204909   563  2021  83       2   80.0  2021_83_2       T5   \n\n       angular_velocity  \n74             0.025873  \n75             0.022800  \n76             0.023223  \n77             0.023666  \n78             0.025127  \n...                 ...  \n91710         -0.798456  \n91711          0.400692  \n91712          1.070896  \n91713          1.894139  \n91714          3.815807  \n\n[31916 rows x 426 columns]",
      "text/html": "<div>\n<style scoped>\n    .dataframe tbody tr th:only-of-type {\n        vertical-align: middle;\n    }\n\n    .dataframe tbody tr th {\n        vertical-align: top;\n    }\n\n    .dataframe thead th {\n        text-align: right;\n    }\n</style>\n<table border=\"1\" class=\"dataframe\">\n  <thead>\n    <tr style=\"text-align: right;\">\n      <th></th>\n      <th>Pelvis_acc_0</th>\n      <th>Pelvis_acc_1</th>\n      <th>Pelvis_acc_2</th>\n      <th>Pelvis_angular_acc_0</th>\n      <th>Pelvis_angular_acc_1</th>\n      <th>Pelvis_angular_acc_2</th>\n      <th>Pelvis_vel_0</th>\n      <th>Pelvis_vel_1</th>\n      <th>Pelvis_vel_2</th>\n      <th>Pelvis_angular_vel_0</th>\n      <th>...</th>\n      <th>LeftFoot_pos_1</th>\n      <th>LeftFoot_pos_2</th>\n      <th>time</th>\n      <th>year</th>\n      <th>id</th>\n      <th>sample</th>\n      <th>speed</th>\n      <th>key</th>\n      <th>segment</th>\n      <th>angular_velocity</th>\n    </tr>\n  </thead>\n  <tbody>\n    <tr>\n      <th>74</th>\n      <td>0.152512</td>\n      <td>-0.795918</td>\n      <td>0.123093</td>\n      <td>0.025530</td>\n      <td>1.947904</td>\n      <td>-0.380464</td>\n      <td>0.063529</td>\n      <td>-0.077690</td>\n      <td>-0.011966</td>\n      <td>0.128181</td>\n      <td>...</td>\n      <td>9.160253</td>\n      <td>0.162960</td>\n      <td>659</td>\n      <td>2017</td>\n      <td>10</td>\n      <td>1</td>\n      <td>79.0</td>\n      <td>2017_10_1</td>\n      <td>T5</td>\n      <td>0.025873</td>\n    </tr>\n    <tr>\n      <th>75</th>\n      <td>0.318390</td>\n      <td>-0.832675</td>\n      <td>0.060367</td>\n      <td>-0.276795</td>\n      <td>1.146434</td>\n      <td>0.739649</td>\n      <td>0.064831</td>\n      <td>-0.080554</td>\n      <td>-0.012061</td>\n      <td>0.127028</td>\n      <td>...</td>\n      <td>9.160270</td>\n      <td>0.162975</td>\n      <td>663</td>\n      <td>2017</td>\n      <td>10</td>\n      <td>1</td>\n      <td>79.0</td>\n      <td>2017_10_1</td>\n      <td>T5</td>\n      <td>0.022800</td>\n    </tr>\n    <tr>\n      <th>76</th>\n      <td>0.221898</td>\n      <td>-0.626987</td>\n      <td>-0.070908</td>\n      <td>1.720788</td>\n      <td>2.390649</td>\n      <td>0.177294</td>\n      <td>0.065696</td>\n      <td>-0.082584</td>\n      <td>-0.012752</td>\n      <td>0.134198</td>\n      <td>...</td>\n      <td>9.160299</td>\n      <td>0.162987</td>\n      <td>667</td>\n      <td>2017</td>\n      <td>10</td>\n      <td>1</td>\n      <td>79.0</td>\n      <td>2017_10_1</td>\n      <td>T5</td>\n      <td>0.023223</td>\n    </tr>\n    <tr>\n      <th>77</th>\n      <td>0.539407</td>\n      <td>-0.833769</td>\n      <td>0.098279</td>\n      <td>0.276090</td>\n      <td>0.285215</td>\n      <td>0.652241</td>\n      <td>0.067695</td>\n      <td>-0.085555</td>\n      <td>-0.012773</td>\n      <td>0.135348</td>\n      <td>...</td>\n      <td>9.160331</td>\n      <td>0.162995</td>\n      <td>671</td>\n      <td>2017</td>\n      <td>10</td>\n      <td>1</td>\n      <td>79.0</td>\n      <td>2017_10_1</td>\n      <td>T5</td>\n      <td>0.023666</td>\n    </tr>\n    <tr>\n      <th>78</th>\n      <td>0.468945</td>\n      <td>-1.036165</td>\n      <td>0.045915</td>\n      <td>-0.803576</td>\n      <td>0.601857</td>\n      <td>0.070244</td>\n      <td>0.069187</td>\n      <td>-0.089436</td>\n      <td>-0.013029</td>\n      <td>0.132000</td>\n      <td>...</td>\n      <td>9.160362</td>\n      <td>0.163003</td>\n      <td>675</td>\n      <td>2017</td>\n      <td>10</td>\n      <td>1</td>\n      <td>79.0</td>\n      <td>2017_10_1</td>\n      <td>T5</td>\n      <td>0.025127</td>\n    </tr>\n    <tr>\n      <th>...</th>\n      <td>...</td>\n      <td>...</td>\n      <td>...</td>\n      <td>...</td>\n      <td>...</td>\n      <td>...</td>\n      <td>...</td>\n      <td>...</td>\n      <td>...</td>\n      <td>...</td>\n      <td>...</td>\n      <td>...</td>\n      <td>...</td>\n      <td>...</td>\n      <td>...</td>\n      <td>...</td>\n      <td>...</td>\n      <td>...</td>\n      <td>...</td>\n      <td>...</td>\n      <td>...</td>\n    </tr>\n    <tr>\n      <th>91710</th>\n      <td>2.768642</td>\n      <td>-0.111274</td>\n      <td>-3.398066</td>\n      <td>-50.671607</td>\n      <td>16.548586</td>\n      <td>-30.871259</td>\n      <td>1.486902</td>\n      <td>-0.038364</td>\n      <td>0.171214</td>\n      <td>0.214921</td>\n      <td>...</td>\n      <td>0.285792</td>\n      <td>0.211505</td>\n      <td>546</td>\n      <td>2021</td>\n      <td>83</td>\n      <td>2</td>\n      <td>80.0</td>\n      <td>2021_83_2</td>\n      <td>T5</td>\n      <td>-0.798456</td>\n    </tr>\n    <tr>\n      <th>91711</th>\n      <td>1.977710</td>\n      <td>0.114427</td>\n      <td>-4.097666</td>\n      <td>-53.581650</td>\n      <td>19.719689</td>\n      <td>-35.784542</td>\n      <td>1.506722</td>\n      <td>-0.027991</td>\n      <td>0.153793</td>\n      <td>-0.008335</td>\n      <td>...</td>\n      <td>0.286086</td>\n      <td>0.209387</td>\n      <td>550</td>\n      <td>2021</td>\n      <td>83</td>\n      <td>2</td>\n      <td>80.0</td>\n      <td>2021_83_2</td>\n      <td>T5</td>\n      <td>0.400692</td>\n    </tr>\n    <tr>\n      <th>91712</th>\n      <td>1.337048</td>\n      <td>0.807283</td>\n      <td>-6.118449</td>\n      <td>-51.941492</td>\n      <td>24.628179</td>\n      <td>-39.636580</td>\n      <td>1.526256</td>\n      <td>-0.013196</td>\n      <td>0.134674</td>\n      <td>-0.224758</td>\n      <td>...</td>\n      <td>0.286508</td>\n      <td>0.207590</td>\n      <td>554</td>\n      <td>2021</td>\n      <td>83</td>\n      <td>2</td>\n      <td>80.0</td>\n      <td>2021_83_2</td>\n      <td>T5</td>\n      <td>1.070896</td>\n    </tr>\n    <tr>\n      <th>91713</th>\n      <td>1.636446</td>\n      <td>1.748325</td>\n      <td>-7.019642</td>\n      <td>-46.996131</td>\n      <td>20.312061</td>\n      <td>-45.623786</td>\n      <td>1.545766</td>\n      <td>0.008350</td>\n      <td>0.111672</td>\n      <td>-0.420576</td>\n      <td>...</td>\n      <td>0.287239</td>\n      <td>0.206113</td>\n      <td>559</td>\n      <td>2021</td>\n      <td>83</td>\n      <td>2</td>\n      <td>80.0</td>\n      <td>2021_83_2</td>\n      <td>T5</td>\n      <td>1.894139</td>\n    </tr>\n    <tr>\n      <th>91714</th>\n      <td>2.192252</td>\n      <td>3.361778</td>\n      <td>-7.891036</td>\n      <td>-39.437375</td>\n      <td>15.209137</td>\n      <td>-49.699073</td>\n      <td>1.565313</td>\n      <td>0.037428</td>\n      <td>0.083194</td>\n      <td>-0.584898</td>\n      <td>...</td>\n      <td>0.288382</td>\n      <td>0.204909</td>\n      <td>563</td>\n      <td>2021</td>\n      <td>83</td>\n      <td>2</td>\n      <td>80.0</td>\n      <td>2021_83_2</td>\n      <td>T5</td>\n      <td>3.815807</td>\n    </tr>\n  </tbody>\n</table>\n<p>31916 rows × 426 columns</p>\n</div>"
     },
     "execution_count": 55,
     "metadata": {},
     "output_type": "execute_result"
    }
   ],
   "source": [
    "# find for each instance the angular velocity\n",
    "angular_velocities = data.apply(lambda row: np.inner(np.array([row['LeftLowerLeg_angular_vel_0'], row['LeftLowerLeg_angular_vel_1'], row['LeftLowerLeg_angular_vel_2']]), np.array([row['LeftUpperLeg_angular_vel_0'], row['LeftUpperLeg_angular_vel_1'], row['LeftUpperLeg_angular_vel_2']])), axis=1)\n",
    "data['angular_velocity'] = angular_velocities\n",
    "data"
   ],
   "metadata": {
    "collapsed": false,
    "pycharm": {
     "name": "#%%\n"
    }
   }
  },
  {
   "cell_type": "code",
   "execution_count": 56,
   "outputs": [],
   "source": [
    "data.to_pickle('angular_velocity_T5.pkl')"
   ],
   "metadata": {
    "collapsed": false,
    "pycharm": {
     "name": "#%%\n"
    }
   }
  },
  {
   "cell_type": "markdown",
   "source": [
    "### Maximal angular lead knee extension velocity\n",
    "Based on the paper, maximal angular velocity = lowest peak velocity after T5.\n",
    "At T5 in the key event is involved the leading knee so the left leg, for which the angular velocity has been computed above.\n",
    "So we need to calculate the maximal angular velocity per user and per trial as:\n",
    "##### maximal_angular_velocity = min(column=angular_velocity)"
   ],
   "metadata": {
    "collapsed": false,
    "pycharm": {
     "name": "#%% md\n"
    }
   }
  },
  {
   "cell_type": "code",
   "execution_count": 129,
   "outputs": [
    {
     "data": {
      "text/plain": "       Pelvis_acc_0  Pelvis_acc_1  Pelvis_acc_2  Pelvis_angular_acc_0  \\\n74         0.152512     -0.795918      0.123093              0.025530   \n75         0.318390     -0.832675      0.060367             -0.276795   \n76         0.221898     -0.626987     -0.070908              1.720788   \n77         0.539407     -0.833769      0.098279              0.276090   \n78         0.468945     -1.036165      0.045915             -0.803576   \n...             ...           ...           ...                   ...   \n91710      2.768642     -0.111274     -3.398066            -50.671607   \n91711      1.977710      0.114427     -4.097666            -53.581650   \n91712      1.337048      0.807283     -6.118449            -51.941492   \n91713      1.636446      1.748325     -7.019642            -46.996131   \n91714      2.192252      3.361778     -7.891036            -39.437375   \n\n       Pelvis_angular_acc_1  Pelvis_angular_acc_2  Pelvis_vel_0  Pelvis_vel_1  \\\n74                 1.947904             -0.380464      0.063529     -0.077690   \n75                 1.146434              0.739649      0.064831     -0.080554   \n76                 2.390649              0.177294      0.065696     -0.082584   \n77                 0.285215              0.652241      0.067695     -0.085555   \n78                 0.601857              0.070244      0.069187     -0.089436   \n...                     ...                   ...           ...           ...   \n91710             16.548586            -30.871259      1.486902     -0.038364   \n91711             19.719689            -35.784542      1.506722     -0.027991   \n91712             24.628179            -39.636580      1.526256     -0.013196   \n91713             20.312061            -45.623786      1.545766      0.008350   \n91714             15.209137            -49.699073      1.565313      0.037428   \n\n       Pelvis_vel_2  Pelvis_angular_vel_0  ...  LeftFoot_pos_1  \\\n74        -0.011966              0.128181  ...        9.160253   \n75        -0.012061              0.127028  ...        9.160270   \n76        -0.012752              0.134198  ...        9.160299   \n77        -0.012773              0.135348  ...        9.160331   \n78        -0.013029              0.132000  ...        9.160362   \n...             ...                   ...  ...             ...   \n91710      0.171214              0.214921  ...        0.285792   \n91711      0.153793             -0.008335  ...        0.286086   \n91712      0.134674             -0.224758  ...        0.286508   \n91713      0.111672             -0.420576  ...        0.287239   \n91714      0.083194             -0.584898  ...        0.288382   \n\n       LeftFoot_pos_2  time  year  id  sample  speed        key  segment  \\\n74           0.162960   659  2017  10       1   79.0  2017_10_1       T5   \n75           0.162975   663  2017  10       1   79.0  2017_10_1       T5   \n76           0.162987   667  2017  10       1   79.0  2017_10_1       T5   \n77           0.162995   671  2017  10       1   79.0  2017_10_1       T5   \n78           0.163003   675  2017  10       1   79.0  2017_10_1       T5   \n...               ...   ...   ...  ..     ...    ...        ...      ...   \n91710        0.211505   546  2021  83       2   80.0  2021_83_2       T5   \n91711        0.209387   550  2021  83       2   80.0  2021_83_2       T5   \n91712        0.207590   554  2021  83       2   80.0  2021_83_2       T5   \n91713        0.206113   559  2021  83       2   80.0  2021_83_2       T5   \n91714        0.204909   563  2021  83       2   80.0  2021_83_2       T5   \n\n       angular_velocity  \n74             0.025873  \n75             0.022800  \n76             0.023223  \n77             0.023666  \n78             0.025127  \n...                 ...  \n91710         -0.798456  \n91711          0.400692  \n91712          1.070896  \n91713          1.894139  \n91714          3.815807  \n\n[31916 rows x 426 columns]",
      "text/html": "<div>\n<style scoped>\n    .dataframe tbody tr th:only-of-type {\n        vertical-align: middle;\n    }\n\n    .dataframe tbody tr th {\n        vertical-align: top;\n    }\n\n    .dataframe thead th {\n        text-align: right;\n    }\n</style>\n<table border=\"1\" class=\"dataframe\">\n  <thead>\n    <tr style=\"text-align: right;\">\n      <th></th>\n      <th>Pelvis_acc_0</th>\n      <th>Pelvis_acc_1</th>\n      <th>Pelvis_acc_2</th>\n      <th>Pelvis_angular_acc_0</th>\n      <th>Pelvis_angular_acc_1</th>\n      <th>Pelvis_angular_acc_2</th>\n      <th>Pelvis_vel_0</th>\n      <th>Pelvis_vel_1</th>\n      <th>Pelvis_vel_2</th>\n      <th>Pelvis_angular_vel_0</th>\n      <th>...</th>\n      <th>LeftFoot_pos_1</th>\n      <th>LeftFoot_pos_2</th>\n      <th>time</th>\n      <th>year</th>\n      <th>id</th>\n      <th>sample</th>\n      <th>speed</th>\n      <th>key</th>\n      <th>segment</th>\n      <th>angular_velocity</th>\n    </tr>\n  </thead>\n  <tbody>\n    <tr>\n      <th>74</th>\n      <td>0.152512</td>\n      <td>-0.795918</td>\n      <td>0.123093</td>\n      <td>0.025530</td>\n      <td>1.947904</td>\n      <td>-0.380464</td>\n      <td>0.063529</td>\n      <td>-0.077690</td>\n      <td>-0.011966</td>\n      <td>0.128181</td>\n      <td>...</td>\n      <td>9.160253</td>\n      <td>0.162960</td>\n      <td>659</td>\n      <td>2017</td>\n      <td>10</td>\n      <td>1</td>\n      <td>79.0</td>\n      <td>2017_10_1</td>\n      <td>T5</td>\n      <td>0.025873</td>\n    </tr>\n    <tr>\n      <th>75</th>\n      <td>0.318390</td>\n      <td>-0.832675</td>\n      <td>0.060367</td>\n      <td>-0.276795</td>\n      <td>1.146434</td>\n      <td>0.739649</td>\n      <td>0.064831</td>\n      <td>-0.080554</td>\n      <td>-0.012061</td>\n      <td>0.127028</td>\n      <td>...</td>\n      <td>9.160270</td>\n      <td>0.162975</td>\n      <td>663</td>\n      <td>2017</td>\n      <td>10</td>\n      <td>1</td>\n      <td>79.0</td>\n      <td>2017_10_1</td>\n      <td>T5</td>\n      <td>0.022800</td>\n    </tr>\n    <tr>\n      <th>76</th>\n      <td>0.221898</td>\n      <td>-0.626987</td>\n      <td>-0.070908</td>\n      <td>1.720788</td>\n      <td>2.390649</td>\n      <td>0.177294</td>\n      <td>0.065696</td>\n      <td>-0.082584</td>\n      <td>-0.012752</td>\n      <td>0.134198</td>\n      <td>...</td>\n      <td>9.160299</td>\n      <td>0.162987</td>\n      <td>667</td>\n      <td>2017</td>\n      <td>10</td>\n      <td>1</td>\n      <td>79.0</td>\n      <td>2017_10_1</td>\n      <td>T5</td>\n      <td>0.023223</td>\n    </tr>\n    <tr>\n      <th>77</th>\n      <td>0.539407</td>\n      <td>-0.833769</td>\n      <td>0.098279</td>\n      <td>0.276090</td>\n      <td>0.285215</td>\n      <td>0.652241</td>\n      <td>0.067695</td>\n      <td>-0.085555</td>\n      <td>-0.012773</td>\n      <td>0.135348</td>\n      <td>...</td>\n      <td>9.160331</td>\n      <td>0.162995</td>\n      <td>671</td>\n      <td>2017</td>\n      <td>10</td>\n      <td>1</td>\n      <td>79.0</td>\n      <td>2017_10_1</td>\n      <td>T5</td>\n      <td>0.023666</td>\n    </tr>\n    <tr>\n      <th>78</th>\n      <td>0.468945</td>\n      <td>-1.036165</td>\n      <td>0.045915</td>\n      <td>-0.803576</td>\n      <td>0.601857</td>\n      <td>0.070244</td>\n      <td>0.069187</td>\n      <td>-0.089436</td>\n      <td>-0.013029</td>\n      <td>0.132000</td>\n      <td>...</td>\n      <td>9.160362</td>\n      <td>0.163003</td>\n      <td>675</td>\n      <td>2017</td>\n      <td>10</td>\n      <td>1</td>\n      <td>79.0</td>\n      <td>2017_10_1</td>\n      <td>T5</td>\n      <td>0.025127</td>\n    </tr>\n    <tr>\n      <th>...</th>\n      <td>...</td>\n      <td>...</td>\n      <td>...</td>\n      <td>...</td>\n      <td>...</td>\n      <td>...</td>\n      <td>...</td>\n      <td>...</td>\n      <td>...</td>\n      <td>...</td>\n      <td>...</td>\n      <td>...</td>\n      <td>...</td>\n      <td>...</td>\n      <td>...</td>\n      <td>...</td>\n      <td>...</td>\n      <td>...</td>\n      <td>...</td>\n      <td>...</td>\n      <td>...</td>\n    </tr>\n    <tr>\n      <th>91710</th>\n      <td>2.768642</td>\n      <td>-0.111274</td>\n      <td>-3.398066</td>\n      <td>-50.671607</td>\n      <td>16.548586</td>\n      <td>-30.871259</td>\n      <td>1.486902</td>\n      <td>-0.038364</td>\n      <td>0.171214</td>\n      <td>0.214921</td>\n      <td>...</td>\n      <td>0.285792</td>\n      <td>0.211505</td>\n      <td>546</td>\n      <td>2021</td>\n      <td>83</td>\n      <td>2</td>\n      <td>80.0</td>\n      <td>2021_83_2</td>\n      <td>T5</td>\n      <td>-0.798456</td>\n    </tr>\n    <tr>\n      <th>91711</th>\n      <td>1.977710</td>\n      <td>0.114427</td>\n      <td>-4.097666</td>\n      <td>-53.581650</td>\n      <td>19.719689</td>\n      <td>-35.784542</td>\n      <td>1.506722</td>\n      <td>-0.027991</td>\n      <td>0.153793</td>\n      <td>-0.008335</td>\n      <td>...</td>\n      <td>0.286086</td>\n      <td>0.209387</td>\n      <td>550</td>\n      <td>2021</td>\n      <td>83</td>\n      <td>2</td>\n      <td>80.0</td>\n      <td>2021_83_2</td>\n      <td>T5</td>\n      <td>0.400692</td>\n    </tr>\n    <tr>\n      <th>91712</th>\n      <td>1.337048</td>\n      <td>0.807283</td>\n      <td>-6.118449</td>\n      <td>-51.941492</td>\n      <td>24.628179</td>\n      <td>-39.636580</td>\n      <td>1.526256</td>\n      <td>-0.013196</td>\n      <td>0.134674</td>\n      <td>-0.224758</td>\n      <td>...</td>\n      <td>0.286508</td>\n      <td>0.207590</td>\n      <td>554</td>\n      <td>2021</td>\n      <td>83</td>\n      <td>2</td>\n      <td>80.0</td>\n      <td>2021_83_2</td>\n      <td>T5</td>\n      <td>1.070896</td>\n    </tr>\n    <tr>\n      <th>91713</th>\n      <td>1.636446</td>\n      <td>1.748325</td>\n      <td>-7.019642</td>\n      <td>-46.996131</td>\n      <td>20.312061</td>\n      <td>-45.623786</td>\n      <td>1.545766</td>\n      <td>0.008350</td>\n      <td>0.111672</td>\n      <td>-0.420576</td>\n      <td>...</td>\n      <td>0.287239</td>\n      <td>0.206113</td>\n      <td>559</td>\n      <td>2021</td>\n      <td>83</td>\n      <td>2</td>\n      <td>80.0</td>\n      <td>2021_83_2</td>\n      <td>T5</td>\n      <td>1.894139</td>\n    </tr>\n    <tr>\n      <th>91714</th>\n      <td>2.192252</td>\n      <td>3.361778</td>\n      <td>-7.891036</td>\n      <td>-39.437375</td>\n      <td>15.209137</td>\n      <td>-49.699073</td>\n      <td>1.565313</td>\n      <td>0.037428</td>\n      <td>0.083194</td>\n      <td>-0.584898</td>\n      <td>...</td>\n      <td>0.288382</td>\n      <td>0.204909</td>\n      <td>563</td>\n      <td>2021</td>\n      <td>83</td>\n      <td>2</td>\n      <td>80.0</td>\n      <td>2021_83_2</td>\n      <td>T5</td>\n      <td>3.815807</td>\n    </tr>\n  </tbody>\n</table>\n<p>31916 rows × 426 columns</p>\n</div>"
     },
     "execution_count": 129,
     "metadata": {},
     "output_type": "execute_result"
    }
   ],
   "source": [
    "data = pd.read_pickle('angular_velocity_T5.pkl')\n",
    "data"
   ],
   "metadata": {
    "collapsed": false,
    "pycharm": {
     "name": "#%%\n"
    }
   }
  },
  {
   "cell_type": "markdown",
   "source": [
    "per user and per trial find the maximal angular velocity"
   ],
   "metadata": {
    "collapsed": false,
    "pycharm": {
     "name": "#%% md\n"
    }
   }
  },
  {
   "cell_type": "code",
   "execution_count": 130,
   "outputs": [],
   "source": [
    "max_angular_vel_df = pd.DataFrame(columns=['user', 'trial', 'key', 'speed', 'max_angular_velocity'])"
   ],
   "metadata": {
    "collapsed": false,
    "pycharm": {
     "name": "#%%\n"
    }
   }
  },
  {
   "cell_type": "code",
   "execution_count": 131,
   "outputs": [
    {
     "data": {
      "text/plain": "    user trial        key speed max_angular_velocity\n0     10     1  2017_10_1  79.0            -0.157342\n1     10     2  2017_10_2  82.0            -0.000337\n2     10     3  2017_10_3  78.0            -0.002581\n3     10     4  2017_10_4  77.0            -0.040354\n4     10     5  2017_10_5  78.0            -0.114195\n..   ...   ...        ...   ...                  ...\n331   82     2  2021_82_2  74.0            -1.588954\n332   82     3  2021_82_3  79.0            -1.978891\n333   82     4  2021_82_4  77.0            -2.741879\n334   82     7  2021_82_7  90.0            -6.895237\n335   83     2  2021_83_2  80.0            -4.341877\n\n[336 rows x 5 columns]",
      "text/html": "<div>\n<style scoped>\n    .dataframe tbody tr th:only-of-type {\n        vertical-align: middle;\n    }\n\n    .dataframe tbody tr th {\n        vertical-align: top;\n    }\n\n    .dataframe thead th {\n        text-align: right;\n    }\n</style>\n<table border=\"1\" class=\"dataframe\">\n  <thead>\n    <tr style=\"text-align: right;\">\n      <th></th>\n      <th>user</th>\n      <th>trial</th>\n      <th>key</th>\n      <th>speed</th>\n      <th>max_angular_velocity</th>\n    </tr>\n  </thead>\n  <tbody>\n    <tr>\n      <th>0</th>\n      <td>10</td>\n      <td>1</td>\n      <td>2017_10_1</td>\n      <td>79.0</td>\n      <td>-0.157342</td>\n    </tr>\n    <tr>\n      <th>1</th>\n      <td>10</td>\n      <td>2</td>\n      <td>2017_10_2</td>\n      <td>82.0</td>\n      <td>-0.000337</td>\n    </tr>\n    <tr>\n      <th>2</th>\n      <td>10</td>\n      <td>3</td>\n      <td>2017_10_3</td>\n      <td>78.0</td>\n      <td>-0.002581</td>\n    </tr>\n    <tr>\n      <th>3</th>\n      <td>10</td>\n      <td>4</td>\n      <td>2017_10_4</td>\n      <td>77.0</td>\n      <td>-0.040354</td>\n    </tr>\n    <tr>\n      <th>4</th>\n      <td>10</td>\n      <td>5</td>\n      <td>2017_10_5</td>\n      <td>78.0</td>\n      <td>-0.114195</td>\n    </tr>\n    <tr>\n      <th>...</th>\n      <td>...</td>\n      <td>...</td>\n      <td>...</td>\n      <td>...</td>\n      <td>...</td>\n    </tr>\n    <tr>\n      <th>331</th>\n      <td>82</td>\n      <td>2</td>\n      <td>2021_82_2</td>\n      <td>74.0</td>\n      <td>-1.588954</td>\n    </tr>\n    <tr>\n      <th>332</th>\n      <td>82</td>\n      <td>3</td>\n      <td>2021_82_3</td>\n      <td>79.0</td>\n      <td>-1.978891</td>\n    </tr>\n    <tr>\n      <th>333</th>\n      <td>82</td>\n      <td>4</td>\n      <td>2021_82_4</td>\n      <td>77.0</td>\n      <td>-2.741879</td>\n    </tr>\n    <tr>\n      <th>334</th>\n      <td>82</td>\n      <td>7</td>\n      <td>2021_82_7</td>\n      <td>90.0</td>\n      <td>-6.895237</td>\n    </tr>\n    <tr>\n      <th>335</th>\n      <td>83</td>\n      <td>2</td>\n      <td>2021_83_2</td>\n      <td>80.0</td>\n      <td>-4.341877</td>\n    </tr>\n  </tbody>\n</table>\n<p>336 rows × 5 columns</p>\n</div>"
     },
     "execution_count": 131,
     "metadata": {},
     "output_type": "execute_result"
    }
   ],
   "source": [
    "# per user and per trial\n",
    "users = list(data['id'].unique())\n",
    "for user in users:\n",
    "    user_data = data.loc[data['id'] == user]\n",
    "    trials = list(user_data['sample'].unique())\n",
    "    for trial in trials:\n",
    "        user_trial_data = user_data.loc[user_data['sample'] == trial]\n",
    "\n",
    "        # current df\n",
    "        max_ang_vel_current_df = pd.DataFrame(columns=['user', 'trial', 'key', 'speed','max_angular_velocity'])\n",
    "        max_ang_vel_current_df.loc[0, 'user'] = user\n",
    "        max_ang_vel_current_df.loc[0, 'trial'] = trial\n",
    "        max_ang_vel_current_df.loc[0, 'key'] = user_trial_data['key'].iloc[0]\n",
    "        max_ang_vel_current_df.loc[0, 'speed'] = user_trial_data['speed'].iloc[0]\n",
    "\n",
    "        # find min\n",
    "        max_ang_vel = user_trial_data['angular_velocity'].min()\n",
    "\n",
    "        # current df\n",
    "        max_ang_vel_current_df.loc[0, 'max_angular_velocity'] = max_ang_vel\n",
    "\n",
    "        # concat to the final stance_df\n",
    "        max_angular_vel_df = pd.concat([max_angular_vel_df, max_ang_vel_current_df])\n",
    "\n",
    "max_angular_vel_df.reset_index(drop=True, inplace=True)\n",
    "max_angular_vel_df"
   ],
   "metadata": {
    "collapsed": false,
    "pycharm": {
     "name": "#%%\n"
    }
   }
  },
  {
   "cell_type": "code",
   "execution_count": 132,
   "outputs": [],
   "source": [
    "max_angular_vel_df.to_pickle('max_angular_vel_df.pkl')"
   ],
   "metadata": {
    "collapsed": false,
    "pycharm": {
     "name": "#%%\n"
    }
   }
  },
  {
   "cell_type": "code",
   "execution_count": null,
   "outputs": [],
   "source": [],
   "metadata": {
    "collapsed": false,
    "pycharm": {
     "name": "#%%\n"
    }
   }
  }
 ],
 "metadata": {
  "kernelspec": {
   "display_name": "Python 3",
   "language": "python",
   "name": "python3"
  },
  "language_info": {
   "codemirror_mode": {
    "name": "ipython",
    "version": 2
   },
   "file_extension": ".py",
   "mimetype": "text/x-python",
   "name": "python",
   "nbconvert_exporter": "python",
   "pygments_lexer": "ipython2",
   "version": "2.7.6"
  }
 },
 "nbformat": 4,
 "nbformat_minor": 0
}