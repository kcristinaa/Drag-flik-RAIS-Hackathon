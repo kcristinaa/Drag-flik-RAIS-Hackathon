{
 "cells": [
  {
   "cell_type": "code",
   "execution_count": 43,
   "metadata": {
    "collapsed": true
   },
   "outputs": [],
   "source": [
    "import pandas as pd\n",
    "import numpy as np\n",
    "import glob\n",
    "import os\n",
    "import swifter\n",
    "\n",
    "from tqdm import tqdm\n",
    "from dataprep.eda import create_report\n",
    "\n",
    "from utility_functions import get_year_from_filename"
   ]
  },
  {
   "cell_type": "code",
   "execution_count": 52,
   "outputs": [
    {
     "name": "stdout",
     "output_type": "stream",
     "text": [
      "Identified 94 .csv and .xlsx files...\n"
     ]
    }
   ],
   "source": [
    "file_names = []\n",
    "for f in glob.glob(os.path.join(\"data\", \"keyframes\", '**\\\\*.csv'), recursive=True):\n",
    "    file_names.append(f)\n",
    "\n",
    "for f in glob.glob(os.path.join(\"data\", \"keyframes\", '**\\\\*.xlsx'), recursive=True):\n",
    "    file_names.append(f)\n",
    "\n",
    "print(\"Identified {} .csv and .xlsx files...\".format(len(file_names)))"
   ],
   "metadata": {
    "collapsed": false
   }
  },
  {
   "cell_type": "code",
   "execution_count": 53,
   "outputs": [
    {
     "data": {
      "text/plain": "['data\\\\keyframes\\\\2017\\\\Keyframes\\\\Body10_keyframes.csv',\n 'data\\\\keyframes\\\\2017\\\\Keyframes\\\\Body11_keyframes.csv',\n 'data\\\\keyframes\\\\2017\\\\Keyframes\\\\Body12_keyframes.csv',\n 'data\\\\keyframes\\\\2017\\\\Keyframes\\\\Body13_keyframes.csv',\n 'data\\\\keyframes\\\\2017\\\\Keyframes\\\\Body14_keyframes.csv',\n 'data\\\\keyframes\\\\2017\\\\Keyframes\\\\Body18_keyframes.csv',\n 'data\\\\keyframes\\\\2017\\\\Keyframes\\\\Body22_keyframes.csv',\n 'data\\\\keyframes\\\\2017\\\\Keyframes\\\\Body26_keyframes.csv',\n 'data\\\\keyframes\\\\2017\\\\Keyframes\\\\Body27_keyframes.csv',\n 'data\\\\keyframes\\\\2017\\\\Keyframes\\\\Body28_keyframes.csv',\n 'data\\\\keyframes\\\\2017\\\\Keyframes\\\\Body57_keyframes.csv',\n 'data\\\\keyframes\\\\2017\\\\Keyframes\\\\Body59_keyframes.csv',\n 'data\\\\keyframes\\\\2017\\\\Keyframes\\\\Body60_keyframes.csv',\n 'data\\\\keyframes\\\\2017\\\\Keyframes\\\\Body61_keyframes.csv',\n 'data\\\\keyframes\\\\2019\\\\Keyframes\\\\Body11_keyframes.csv',\n 'data\\\\keyframes\\\\2019\\\\Keyframes\\\\Body12_keyframes.csv',\n 'data\\\\keyframes\\\\2019\\\\Keyframes\\\\Body13_keyframes.csv',\n 'data\\\\keyframes\\\\2019\\\\Keyframes\\\\Body14_keyframes.csv',\n 'data\\\\keyframes\\\\2019\\\\Keyframes\\\\Body15_keyframes.csv',\n 'data\\\\keyframes\\\\2019\\\\Keyframes\\\\Body16_keyframes.csv',\n 'data\\\\keyframes\\\\2019\\\\Keyframes\\\\Body17_keyframes.csv',\n 'data\\\\keyframes\\\\2019\\\\Keyframes\\\\Body19_keyframes.csv',\n 'data\\\\keyframes\\\\2019\\\\Keyframes\\\\Body1_keyframes.csv',\n 'data\\\\keyframes\\\\2019\\\\Keyframes\\\\Body21_keyframes.csv',\n 'data\\\\keyframes\\\\2019\\\\Keyframes\\\\Body23_keyframes.csv',\n 'data\\\\keyframes\\\\2019\\\\Keyframes\\\\Body25_keyframes.csv',\n 'data\\\\keyframes\\\\2019\\\\Keyframes\\\\Body26_keyframes.csv',\n 'data\\\\keyframes\\\\2019\\\\Keyframes\\\\Body27_keyframes.csv',\n 'data\\\\keyframes\\\\2019\\\\Keyframes\\\\Body28_keyframes.csv',\n 'data\\\\keyframes\\\\2019\\\\Keyframes\\\\Body30_keyframes.csv',\n 'data\\\\keyframes\\\\2019\\\\Keyframes\\\\Body31_keyframes.csv',\n 'data\\\\keyframes\\\\2019\\\\Keyframes\\\\Body32_keyframes.csv',\n 'data\\\\keyframes\\\\2019\\\\Keyframes\\\\Body33_keyframes.csv',\n 'data\\\\keyframes\\\\2019\\\\Keyframes\\\\Body34_keyframes.csv',\n 'data\\\\keyframes\\\\2019\\\\Keyframes\\\\Body35_keyframes.csv',\n 'data\\\\keyframes\\\\2019\\\\Keyframes\\\\Body36_keyframes.csv',\n 'data\\\\keyframes\\\\2019\\\\Keyframes\\\\Body37_keyframes.csv',\n 'data\\\\keyframes\\\\2019\\\\Keyframes\\\\Body38_keyframes.csv',\n 'data\\\\keyframes\\\\2019\\\\Keyframes\\\\Body39_keyframes.csv',\n 'data\\\\keyframes\\\\2019\\\\Keyframes\\\\Body3_keyframes.csv',\n 'data\\\\keyframes\\\\2019\\\\Keyframes\\\\Body40_keyframes.csv',\n 'data\\\\keyframes\\\\2019\\\\Keyframes\\\\Body41_keyframes.csv',\n 'data\\\\keyframes\\\\2019\\\\Keyframes\\\\Body42_keyframes.csv',\n 'data\\\\keyframes\\\\2019\\\\Keyframes\\\\Body43_keyframes.csv',\n 'data\\\\keyframes\\\\2019\\\\Keyframes\\\\Body44_keyframes.csv',\n 'data\\\\keyframes\\\\2019\\\\Keyframes\\\\Body45_keyframes.csv',\n 'data\\\\keyframes\\\\2019\\\\Keyframes\\\\Body46_keyframes.csv',\n 'data\\\\keyframes\\\\2019\\\\Keyframes\\\\Body47_keyframes.csv',\n 'data\\\\keyframes\\\\2019\\\\Keyframes\\\\Body48_keyframes.csv',\n 'data\\\\keyframes\\\\2019\\\\Keyframes\\\\Body49_keyframes.csv',\n 'data\\\\keyframes\\\\2019\\\\Keyframes\\\\Body4_keyframes.csv',\n 'data\\\\keyframes\\\\2019\\\\Keyframes\\\\Body50_keyframes.csv',\n 'data\\\\keyframes\\\\2019\\\\Keyframes\\\\Body51_keyframes.csv',\n 'data\\\\keyframes\\\\2019\\\\Keyframes\\\\Body52_keyframes.csv',\n 'data\\\\keyframes\\\\2019\\\\Keyframes\\\\Body53_keyframes.csv',\n 'data\\\\keyframes\\\\2019\\\\Keyframes\\\\Body54_keyframes.csv',\n 'data\\\\keyframes\\\\2019\\\\Keyframes\\\\Body55_keyframes.csv',\n 'data\\\\keyframes\\\\2019\\\\Keyframes\\\\Body56_keyframes.csv',\n 'data\\\\keyframes\\\\2019\\\\Keyframes\\\\Body5_keyframes.csv',\n 'data\\\\keyframes\\\\2019\\\\Keyframes\\\\Body6_keyframes.csv',\n 'data\\\\keyframes\\\\2021_A\\\\Keyframes\\\\Body35_keyframes.csv',\n 'data\\\\keyframes\\\\2021_A\\\\Keyframes\\\\Body66_keyframes.csv',\n 'data\\\\keyframes\\\\2021_A\\\\Keyframes\\\\Body67_keyframes.csv',\n 'data\\\\keyframes\\\\2021_A\\\\Keyframes\\\\Body68_keyframes.csv',\n 'data\\\\keyframes\\\\2021_A\\\\Keyframes\\\\Body69_keyframes.csv',\n 'data\\\\keyframes\\\\2021_A\\\\Keyframes\\\\Body7_keyframes.csv',\n 'data\\\\keyframes\\\\2021_B\\\\Keyframes\\\\Body12_keyframes.csv',\n 'data\\\\keyframes\\\\2021_B\\\\Keyframes\\\\Body13_keyframes.csv',\n 'data\\\\keyframes\\\\2021_B\\\\Keyframes\\\\Body32_keyframes.csv',\n 'data\\\\keyframes\\\\2021_B\\\\Keyframes\\\\Body38_keyframes.csv',\n 'data\\\\keyframes\\\\2021_B\\\\Keyframes\\\\Body40_keyframes.csv',\n 'data\\\\keyframes\\\\2021_B\\\\Keyframes\\\\Body69_keyframes.csv',\n 'data\\\\keyframes\\\\2021_B\\\\Keyframes\\\\Body70_keyframes.csv',\n 'data\\\\keyframes\\\\2021_B\\\\Keyframes\\\\Body71_keyframes.csv',\n 'data\\\\keyframes\\\\2021_B\\\\Keyframes\\\\Body72_keyframes.csv',\n 'data\\\\keyframes\\\\2021_B\\\\Keyframes\\\\Body73_keyframes.csv',\n 'data\\\\keyframes\\\\2021_B\\\\Keyframes\\\\Body74_keyframes.csv',\n 'data\\\\keyframes\\\\2021_B\\\\Keyframes\\\\Body75_keyframes.csv',\n 'data\\\\keyframes\\\\2021_B\\\\Keyframes\\\\Body76_keyframes.csv',\n 'data\\\\keyframes\\\\2021_B\\\\Keyframes\\\\Body78_keyframes.csv',\n 'data\\\\keyframes\\\\2021_B\\\\Keyframes\\\\Body79_keyframes.csv',\n 'data\\\\keyframes\\\\2021_B\\\\Keyframes\\\\Body7_keyframes.csv',\n 'data\\\\keyframes\\\\2021_B\\\\Keyframes\\\\Body80_keyframes.csv',\n 'data\\\\keyframes\\\\2021_B\\\\Keyframes\\\\Body81_keyframes.csv',\n 'data\\\\keyframes\\\\2021_B\\\\Keyframes\\\\body82_keyframes.csv',\n 'data\\\\keyframes\\\\2021_B\\\\Keyframes\\\\body83_keyframes.csv',\n 'data\\\\keyframes\\\\2022\\\\Keyframes\\\\Body17_keyframes.csv',\n 'data\\\\keyframes\\\\2022\\\\Keyframes\\\\Body18_keyframes.csv',\n 'data\\\\keyframes\\\\2022\\\\Keyframes\\\\Body21_keyframes.csv',\n 'data\\\\keyframes\\\\2022\\\\Keyframes\\\\Body84_keyframes.csv',\n 'data\\\\keyframes\\\\2022\\\\Keyframes\\\\Body85_keyframes.csv',\n 'data\\\\keyframes\\\\2022\\\\Keyframes\\\\Body86_keyframes.csv',\n 'data\\\\keyframes\\\\2017\\\\Keyframes\\\\Body18_keyframes.xlsx',\n 'data\\\\keyframes\\\\2017\\\\Keyframes\\\\Body64_keyframes.xlsx']"
     },
     "execution_count": 53,
     "metadata": {},
     "output_type": "execute_result"
    }
   ],
   "source": [
    "file_names"
   ],
   "metadata": {
    "collapsed": false
   }
  },
  {
   "cell_type": "code",
   "execution_count": 54,
   "outputs": [
    {
     "name": "stderr",
     "output_type": "stream",
     "text": [
      "100%|██████████| 94/94 [00:00<00:00, 186.20it/s]\n"
     ]
    }
   ],
   "source": [
    "df = pd.DataFrame(columns=['bodyNumber', 'trial', 'year', 'T0', 'T1', 'T2', 'T3', 'T4', 'T5', 'T6', 'BR', 'BV', 'ORWF'])\n",
    "# BEFORE RUNNING: Go to file data\\keyframes\\2021_A\\Keyframes\\Body69_keyframes.csv and delete the final comma in line 15\n",
    "for file_name in tqdm(file_names):\n",
    "    year = get_year_from_filename(file_name)\n",
    "    if str.endswith(file_name, 'csv'):\n",
    "        temp = pd.read_csv(file_name, sep=';|,', engine='python')\n",
    "    else:\n",
    "        temp = pd.read_excel(file_name)\n",
    "    # add year\n",
    "    temp.loc[:, 'year'] = year\n",
    "    # remove empty, unnamed columns\n",
    "    temp = temp.loc[:, ~temp.columns.str.contains('^Unnamed')]\n",
    "    # remove filename column present only in 2021_B folder\n",
    "    temp = temp.loc[:, ~temp.columns.str.contains('filename')]\n",
    "    # remove white spaces from column names\n",
    "    temp.columns = temp.columns.str.replace(' ', '')\n",
    "    # append temp to main df\n",
    "    df = pd.concat([df, temp], axis=0)\n",
    "    if len(df.columns) != 13:\n",
    "        print(\"There is a problem with the formatting of file {}. Please correct it before proceeding.\".format(file_name))\n",
    "        print(df.tail())\n",
    "        break"
   ],
   "metadata": {
    "collapsed": false
   }
  },
  {
   "cell_type": "code",
   "execution_count": 55,
   "outputs": [
    {
     "name": "stdout",
     "output_type": "stream",
     "text": [
      "*********** Dataframe Content: ***********\n",
      "\n",
      "  bodyNumber trial  year   T0   T1   T2   T3   T4   T5   T6   BR   BV ORWF\n",
      "0         10     1  2017  NaN  NaN  350  532  601  655  790  NaN  NaN  NaN\n",
      "1         10     2  2017  NaN  NaN  310  574  595  649  840  NaN  NaN  NaN\n",
      "2         10     3  2017  NaN  NaN  269  533  600  654  792  NaN  NaN  NaN\n",
      "3         10     4  2017  NaN  NaN  271  535  557  611  790  NaN  NaN  NaN\n",
      "4         10     5  2017  NaN  NaN  214  478  533  587  815  NaN  NaN  NaN\n"
     ]
    }
   ],
   "source": [
    "print(\"*********** Dataframe Content: ***********\\n\")\n",
    "print(df.head())"
   ],
   "metadata": {
    "collapsed": false
   }
  },
  {
   "cell_type": "code",
   "execution_count": 56,
   "outputs": [
    {
     "name": "stdout",
     "output_type": "stream",
     "text": [
      "*********** Dataframe Description: ***********\n",
      "\n",
      "        bodyNumber  trial  year   T0   T1      T2      T3      T4      T5  \\\n",
      "count         1647   1647  1647  335  335  1494.0  1494.0  1645.0  1645.0   \n",
      "unique          75     28     4   26  265   786.0   914.0   991.0   980.0   \n",
      "top             13      6  2019   50  750     0.0    -1.0    -1.0    -1.0   \n",
      "freq            55     94   881   87    4   128.0    32.0    32.0    32.0   \n",
      "\n",
      "            T6   BR    BV  ORWF  \n",
      "count   1542.0   67    40    27  \n",
      "unique   939.0   66    39    25  \n",
      "top       -1.0  741  1829   734  \n",
      "freq      32.0    2     2     2  \n"
     ]
    }
   ],
   "source": [
    "print(\"*********** Dataframe Description: ***********\\n\")\n",
    "print(df.describe())"
   ],
   "metadata": {
    "collapsed": false
   }
  },
  {
   "cell_type": "code",
   "execution_count": 57,
   "outputs": [
    {
     "name": "stdout",
     "output_type": "stream",
     "text": [
      "*********** Dataframe Null Values per Column: ***********\n",
      "\n"
     ]
    },
    {
     "data": {
      "text/plain": "bodyNumber       0\ntrial            0\nyear             0\nT0            1312\nT1            1312\nT2             153\nT3             153\nT4               2\nT5               2\nT6             105\nBR            1580\nBV            1607\nORWF          1620\ndtype: int64"
     },
     "execution_count": 57,
     "metadata": {},
     "output_type": "execute_result"
    }
   ],
   "source": [
    "print(\"*********** Dataframe Null Values per Column: ***********\\n\")\n",
    "df.isna().sum()"
   ],
   "metadata": {
    "collapsed": false
   }
  },
  {
   "cell_type": "code",
   "execution_count": 59,
   "outputs": [],
   "source": [
    "df.to_csv(os.path.join(\"data\", \"keyframes.csv\"))"
   ],
   "metadata": {
    "collapsed": false
   }
  },
  {
   "cell_type": "code",
   "execution_count": 18,
   "outputs": [
    {
     "data": {
      "text/plain": "  0%|          | 0/2602 [00:00<?, ?it/s]",
      "application/vnd.jupyter.widget-view+json": {
       "version_major": 2,
       "version_minor": 0,
       "model_id": "3f68b1f14c9e452992add2f3b9f50261"
      }
     },
     "metadata": {},
     "output_type": "display_data"
    },
    {
     "name": "stderr",
     "output_type": "stream",
     "text": [
      "C:\\Users\\syfan\\PycharmProjects\\Drag-flik-RAIS-Hackathon\\venv\\lib\\site-packages\\dask\\core.py:119: RuntimeWarning: invalid value encountered in divide\n",
      "  return func(*(_execute_task(a, cache) for a in args))\n"
     ]
    }
   ],
   "source": [
    "report = create_report(df, title='Kinetic Analysis Keyframes').show_browser()"
   ],
   "metadata": {
    "collapsed": false
   }
  },
  {
   "cell_type": "markdown",
   "source": [
    "## Merge keyframes to original dataframe"
   ],
   "metadata": {
    "collapsed": false
   }
  },
  {
   "cell_type": "code",
   "execution_count": 44,
   "outputs": [
    {
     "name": "stdout",
     "output_type": "stream",
     "text": [
      "Reading mvnx data...\n",
      "Creating key...\n"
     ]
    },
    {
     "data": {
      "text/plain": "   Pelvis_acc_0  Pelvis_acc_1  Pelvis_acc_2  Pelvis_angular_acc_0  \\\n0      0.065029      0.060930     -0.063273              0.848845   \n1      0.124831     -0.110555     -0.033831             -0.365366   \n2      0.149079     -0.071584     -0.092055              0.063539   \n3      0.071367     -0.329402     -0.074564             -1.390745   \n4      0.150359     -0.121912     -0.028015             -0.380801   \n\n   Pelvis_angular_acc_1  Pelvis_angular_acc_2  Pelvis_vel_0  Pelvis_vel_1  \\\n0             -0.554506             -1.050589     -0.069628      0.014435   \n1             -0.883694             -0.479441     -0.068602      0.014635   \n2             -0.969149             -0.945796     -0.067396      0.014898   \n3             -0.642128             -0.478393     -0.066487      0.014024   \n4             -1.111007             -0.887547     -0.065267      0.013861   \n\n   Pelvis_vel_2  Pelvis_angular_vel_0  ...  LeftFoot_ori_3  LeftFoot_pos_0  \\\n0      0.004669              0.060686  ...       -0.428791        8.701041   \n1      0.004517              0.059164  ...       -0.428764        8.700834   \n2      0.004128              0.059429  ...       -0.428748        8.700640   \n3      0.003817              0.053634  ...       -0.428726        8.700454   \n4      0.003700              0.052047  ...       -0.428685        8.700278   \n\n   LeftFoot_pos_1  LeftFoot_pos_2  time  year  id  sample  speed       key  \n0       11.541834        0.171602     0  2017   1       1   65.0  2017_1_1  \n1       11.541925        0.171608     4  2017   1       1   65.0  2017_1_1  \n2       11.542024        0.171618     9  2017   1       1   65.0  2017_1_1  \n3       11.542136        0.171630    13  2017   1       1   65.0  2017_1_1  \n4       11.542247        0.171644    17  2017   1       1   65.0  2017_1_1  \n\n[5 rows x 424 columns]",
      "text/html": "<div>\n<style scoped>\n    .dataframe tbody tr th:only-of-type {\n        vertical-align: middle;\n    }\n\n    .dataframe tbody tr th {\n        vertical-align: top;\n    }\n\n    .dataframe thead th {\n        text-align: right;\n    }\n</style>\n<table border=\"1\" class=\"dataframe\">\n  <thead>\n    <tr style=\"text-align: right;\">\n      <th></th>\n      <th>Pelvis_acc_0</th>\n      <th>Pelvis_acc_1</th>\n      <th>Pelvis_acc_2</th>\n      <th>Pelvis_angular_acc_0</th>\n      <th>Pelvis_angular_acc_1</th>\n      <th>Pelvis_angular_acc_2</th>\n      <th>Pelvis_vel_0</th>\n      <th>Pelvis_vel_1</th>\n      <th>Pelvis_vel_2</th>\n      <th>Pelvis_angular_vel_0</th>\n      <th>...</th>\n      <th>LeftFoot_ori_3</th>\n      <th>LeftFoot_pos_0</th>\n      <th>LeftFoot_pos_1</th>\n      <th>LeftFoot_pos_2</th>\n      <th>time</th>\n      <th>year</th>\n      <th>id</th>\n      <th>sample</th>\n      <th>speed</th>\n      <th>key</th>\n    </tr>\n  </thead>\n  <tbody>\n    <tr>\n      <th>0</th>\n      <td>0.065029</td>\n      <td>0.060930</td>\n      <td>-0.063273</td>\n      <td>0.848845</td>\n      <td>-0.554506</td>\n      <td>-1.050589</td>\n      <td>-0.069628</td>\n      <td>0.014435</td>\n      <td>0.004669</td>\n      <td>0.060686</td>\n      <td>...</td>\n      <td>-0.428791</td>\n      <td>8.701041</td>\n      <td>11.541834</td>\n      <td>0.171602</td>\n      <td>0</td>\n      <td>2017</td>\n      <td>1</td>\n      <td>1</td>\n      <td>65.0</td>\n      <td>2017_1_1</td>\n    </tr>\n    <tr>\n      <th>1</th>\n      <td>0.124831</td>\n      <td>-0.110555</td>\n      <td>-0.033831</td>\n      <td>-0.365366</td>\n      <td>-0.883694</td>\n      <td>-0.479441</td>\n      <td>-0.068602</td>\n      <td>0.014635</td>\n      <td>0.004517</td>\n      <td>0.059164</td>\n      <td>...</td>\n      <td>-0.428764</td>\n      <td>8.700834</td>\n      <td>11.541925</td>\n      <td>0.171608</td>\n      <td>4</td>\n      <td>2017</td>\n      <td>1</td>\n      <td>1</td>\n      <td>65.0</td>\n      <td>2017_1_1</td>\n    </tr>\n    <tr>\n      <th>2</th>\n      <td>0.149079</td>\n      <td>-0.071584</td>\n      <td>-0.092055</td>\n      <td>0.063539</td>\n      <td>-0.969149</td>\n      <td>-0.945796</td>\n      <td>-0.067396</td>\n      <td>0.014898</td>\n      <td>0.004128</td>\n      <td>0.059429</td>\n      <td>...</td>\n      <td>-0.428748</td>\n      <td>8.700640</td>\n      <td>11.542024</td>\n      <td>0.171618</td>\n      <td>9</td>\n      <td>2017</td>\n      <td>1</td>\n      <td>1</td>\n      <td>65.0</td>\n      <td>2017_1_1</td>\n    </tr>\n    <tr>\n      <th>3</th>\n      <td>0.071367</td>\n      <td>-0.329402</td>\n      <td>-0.074564</td>\n      <td>-1.390745</td>\n      <td>-0.642128</td>\n      <td>-0.478393</td>\n      <td>-0.066487</td>\n      <td>0.014024</td>\n      <td>0.003817</td>\n      <td>0.053634</td>\n      <td>...</td>\n      <td>-0.428726</td>\n      <td>8.700454</td>\n      <td>11.542136</td>\n      <td>0.171630</td>\n      <td>13</td>\n      <td>2017</td>\n      <td>1</td>\n      <td>1</td>\n      <td>65.0</td>\n      <td>2017_1_1</td>\n    </tr>\n    <tr>\n      <th>4</th>\n      <td>0.150359</td>\n      <td>-0.121912</td>\n      <td>-0.028015</td>\n      <td>-0.380801</td>\n      <td>-1.111007</td>\n      <td>-0.887547</td>\n      <td>-0.065267</td>\n      <td>0.013861</td>\n      <td>0.003700</td>\n      <td>0.052047</td>\n      <td>...</td>\n      <td>-0.428685</td>\n      <td>8.700278</td>\n      <td>11.542247</td>\n      <td>0.171644</td>\n      <td>17</td>\n      <td>2017</td>\n      <td>1</td>\n      <td>1</td>\n      <td>65.0</td>\n      <td>2017_1_1</td>\n    </tr>\n  </tbody>\n</table>\n<p>5 rows × 424 columns</p>\n</div>"
     },
     "execution_count": 44,
     "metadata": {},
     "output_type": "execute_result"
    }
   ],
   "source": [
    "print(\"Reading mvnx data...\")\n",
    "mvnx = pd.read_pickle(os.path.join(\"data\", \"mvnx_merged_data_train_validation_test_preprocessed.pkl\"))\n",
    "mvnx = mvnx.drop_duplicates()\n",
    "mvnx.time = mvnx.time.astype(int)\n",
    "print(\"Creating key...\")\n",
    "mvnx[\"key\"] = mvnx['year'].astype(str) + '_' + mvnx['id'].astype(str) + '_' + mvnx['sample'].astype(str)\n",
    "mvnx.head()"
   ],
   "metadata": {
    "collapsed": false
   }
  },
  {
   "cell_type": "code",
   "execution_count": 45,
   "outputs": [
    {
     "name": "stdout",
     "output_type": "stream",
     "text": [
      "Reading keyframe data...\n",
      "Creating key...\n"
     ]
    },
    {
     "data": {
      "text/plain": "   bodyNumber  trial  year  T0  T1     T2     T3     T4     T5     T6  BR  BV  \\\n0          10      1  2017 NaN NaN  350.0  532.0  601.0  655.0  790.0 NaN NaN   \n1          10      2  2017 NaN NaN  310.0  574.0  595.0  649.0  840.0 NaN NaN   \n2          10      3  2017 NaN NaN  269.0  533.0  600.0  654.0  792.0 NaN NaN   \n3          10      4  2017 NaN NaN  271.0  535.0  557.0  611.0  790.0 NaN NaN   \n4          10      5  2017 NaN NaN  214.0  478.0  533.0  587.0  815.0 NaN NaN   \n\n   ORWF        key  \n0   NaN  2017_10_1  \n1   NaN  2017_10_2  \n2   NaN  2017_10_3  \n3   NaN  2017_10_4  \n4   NaN  2017_10_5  ",
      "text/html": "<div>\n<style scoped>\n    .dataframe tbody tr th:only-of-type {\n        vertical-align: middle;\n    }\n\n    .dataframe tbody tr th {\n        vertical-align: top;\n    }\n\n    .dataframe thead th {\n        text-align: right;\n    }\n</style>\n<table border=\"1\" class=\"dataframe\">\n  <thead>\n    <tr style=\"text-align: right;\">\n      <th></th>\n      <th>bodyNumber</th>\n      <th>trial</th>\n      <th>year</th>\n      <th>T0</th>\n      <th>T1</th>\n      <th>T2</th>\n      <th>T3</th>\n      <th>T4</th>\n      <th>T5</th>\n      <th>T6</th>\n      <th>BR</th>\n      <th>BV</th>\n      <th>ORWF</th>\n      <th>key</th>\n    </tr>\n  </thead>\n  <tbody>\n    <tr>\n      <th>0</th>\n      <td>10</td>\n      <td>1</td>\n      <td>2017</td>\n      <td>NaN</td>\n      <td>NaN</td>\n      <td>350.0</td>\n      <td>532.0</td>\n      <td>601.0</td>\n      <td>655.0</td>\n      <td>790.0</td>\n      <td>NaN</td>\n      <td>NaN</td>\n      <td>NaN</td>\n      <td>2017_10_1</td>\n    </tr>\n    <tr>\n      <th>1</th>\n      <td>10</td>\n      <td>2</td>\n      <td>2017</td>\n      <td>NaN</td>\n      <td>NaN</td>\n      <td>310.0</td>\n      <td>574.0</td>\n      <td>595.0</td>\n      <td>649.0</td>\n      <td>840.0</td>\n      <td>NaN</td>\n      <td>NaN</td>\n      <td>NaN</td>\n      <td>2017_10_2</td>\n    </tr>\n    <tr>\n      <th>2</th>\n      <td>10</td>\n      <td>3</td>\n      <td>2017</td>\n      <td>NaN</td>\n      <td>NaN</td>\n      <td>269.0</td>\n      <td>533.0</td>\n      <td>600.0</td>\n      <td>654.0</td>\n      <td>792.0</td>\n      <td>NaN</td>\n      <td>NaN</td>\n      <td>NaN</td>\n      <td>2017_10_3</td>\n    </tr>\n    <tr>\n      <th>3</th>\n      <td>10</td>\n      <td>4</td>\n      <td>2017</td>\n      <td>NaN</td>\n      <td>NaN</td>\n      <td>271.0</td>\n      <td>535.0</td>\n      <td>557.0</td>\n      <td>611.0</td>\n      <td>790.0</td>\n      <td>NaN</td>\n      <td>NaN</td>\n      <td>NaN</td>\n      <td>2017_10_4</td>\n    </tr>\n    <tr>\n      <th>4</th>\n      <td>10</td>\n      <td>5</td>\n      <td>2017</td>\n      <td>NaN</td>\n      <td>NaN</td>\n      <td>214.0</td>\n      <td>478.0</td>\n      <td>533.0</td>\n      <td>587.0</td>\n      <td>815.0</td>\n      <td>NaN</td>\n      <td>NaN</td>\n      <td>NaN</td>\n      <td>2017_10_5</td>\n    </tr>\n  </tbody>\n</table>\n</div>"
     },
     "execution_count": 45,
     "metadata": {},
     "output_type": "execute_result"
    }
   ],
   "source": [
    "# keep only the columns without null values for segmentation\n",
    "print(\"Reading keyframe data...\")\n",
    "df = pd.read_csv(os.path.join(\"data\", \"keyframes.csv\"), index_col=[0])\n",
    "# df = df[['bodyNumber', 'trial', 'year', 'T4', 'T5']]\n",
    "print(\"Creating key...\")\n",
    "df[\"key\"] = df['year'].astype(str) + '_' + df['bodyNumber'].astype(str) + '_' + df['trial'].astype(str)\n",
    "df.head()"
   ],
   "metadata": {
    "collapsed": false
   }
  },
  {
   "cell_type": "code",
   "execution_count": 46,
   "outputs": [],
   "source": [
    "# merged = mvnx.merge(df, how='left', left_on=['year', 'id', 'sample'], right_on=['year', 'bodyNumber', 'trial'])\n",
    "# merged.head()"
   ],
   "metadata": {
    "collapsed": false
   }
  },
  {
   "cell_type": "code",
   "execution_count": 47,
   "outputs": [
    {
     "data": {
      "text/plain": "         Pelvis_acc_0  Pelvis_acc_1  Pelvis_acc_2  Pelvis_angular_acc_0  \\\n0            0.065029      0.060930     -0.063273              0.848845   \n1            0.124831     -0.110555     -0.033831             -0.365366   \n2            0.149079     -0.071584     -0.092055              0.063539   \n3            0.071367     -0.329402     -0.074564             -1.390745   \n4            0.150359     -0.121912     -0.028015             -0.380801   \n...               ...           ...           ...                   ...   \n1818484     -0.678712     -0.744590     -1.186564             -3.637199   \n1818485     -0.940335     -1.197655     -1.366915             -7.152955   \n1818486     -0.831967     -1.163168     -1.292596             -5.512093   \n1818487     -0.617368     -0.357365     -1.066019             -1.425752   \n1818488     -1.159579     -0.899015     -1.462578             -5.758271   \n\n         Pelvis_angular_acc_1  Pelvis_angular_acc_2  Pelvis_vel_0  \\\n0                   -0.554506             -1.050589     -0.069628   \n1                   -0.883694             -0.479441     -0.068602   \n2                   -0.969149             -0.945796     -0.067396   \n3                   -0.642128             -0.478393     -0.066487   \n4                   -1.111007             -0.887547     -0.065267   \n...                       ...                   ...           ...   \n1818484             -0.377002              4.884401      0.055096   \n1818485              0.081270              5.653244      0.051436   \n1818486             -0.151179              3.237055      0.047789   \n1818487             -2.776401              5.538847      0.044178   \n1818488              0.260591              6.279631      0.040622   \n\n         Pelvis_vel_1  Pelvis_vel_2  Pelvis_angular_vel_0  ...  \\\n0            0.014435      0.004669              0.060686  ...   \n1            0.014635      0.004517              0.059164  ...   \n2            0.014898      0.004128              0.059429  ...   \n3            0.014024      0.003817              0.053634  ...   \n4            0.013861      0.003700              0.052047  ...   \n...               ...           ...                   ...  ...   \n1818484      0.064242      0.032775             -0.310567  ...   \n1818485      0.061982      0.027549             -0.340371  ...   \n1818486      0.059788      0.022355             -0.363338  ...   \n1818487      0.057759      0.017240             -0.369279  ...   \n1818488      0.055993      0.012251             -0.393272  ...   \n\n         LeftFoot_pos_0  LeftFoot_pos_1  LeftFoot_pos_2  time  year  id  \\\n0              8.701041       11.541834        0.171602     0  2017   1   \n1              8.700834       11.541925        0.171608     4  2017   1   \n2              8.700640       11.542024        0.171618     9  2017   1   \n3              8.700454       11.542136        0.171630    13  2017   1   \n4              8.700278       11.542247        0.171644    17  2017   1   \n...                 ...             ...             ...   ...   ...  ..   \n1818484        6.571525        0.447844        0.226406  3234  2021  83   \n1818485        6.569550        0.451821        0.224835  3238  2021  83   \n1818486        6.567587        0.455787        0.223269  3242  2021  83   \n1818487        6.565653        0.459721        0.221714  3246  2021  83   \n1818488        6.563767        0.463606        0.220178  3250  2021  83   \n\n         sample  speed        key  segment  \n0             1   65.0   2017_1_1      NaN  \n1             1   65.0   2017_1_1      NaN  \n2             1   65.0   2017_1_1      NaN  \n3             1   65.0   2017_1_1      NaN  \n4             1   65.0   2017_1_1      NaN  \n...         ...    ...        ...      ...  \n1818484       2   80.0  2021_83_2      NaN  \n1818485       2   80.0  2021_83_2      NaN  \n1818486       2   80.0  2021_83_2      NaN  \n1818487       2   80.0  2021_83_2      NaN  \n1818488       2   80.0  2021_83_2      NaN  \n\n[1057637 rows x 425 columns]",
      "text/html": "<div>\n<style scoped>\n    .dataframe tbody tr th:only-of-type {\n        vertical-align: middle;\n    }\n\n    .dataframe tbody tr th {\n        vertical-align: top;\n    }\n\n    .dataframe thead th {\n        text-align: right;\n    }\n</style>\n<table border=\"1\" class=\"dataframe\">\n  <thead>\n    <tr style=\"text-align: right;\">\n      <th></th>\n      <th>Pelvis_acc_0</th>\n      <th>Pelvis_acc_1</th>\n      <th>Pelvis_acc_2</th>\n      <th>Pelvis_angular_acc_0</th>\n      <th>Pelvis_angular_acc_1</th>\n      <th>Pelvis_angular_acc_2</th>\n      <th>Pelvis_vel_0</th>\n      <th>Pelvis_vel_1</th>\n      <th>Pelvis_vel_2</th>\n      <th>Pelvis_angular_vel_0</th>\n      <th>...</th>\n      <th>LeftFoot_pos_0</th>\n      <th>LeftFoot_pos_1</th>\n      <th>LeftFoot_pos_2</th>\n      <th>time</th>\n      <th>year</th>\n      <th>id</th>\n      <th>sample</th>\n      <th>speed</th>\n      <th>key</th>\n      <th>segment</th>\n    </tr>\n  </thead>\n  <tbody>\n    <tr>\n      <th>0</th>\n      <td>0.065029</td>\n      <td>0.060930</td>\n      <td>-0.063273</td>\n      <td>0.848845</td>\n      <td>-0.554506</td>\n      <td>-1.050589</td>\n      <td>-0.069628</td>\n      <td>0.014435</td>\n      <td>0.004669</td>\n      <td>0.060686</td>\n      <td>...</td>\n      <td>8.701041</td>\n      <td>11.541834</td>\n      <td>0.171602</td>\n      <td>0</td>\n      <td>2017</td>\n      <td>1</td>\n      <td>1</td>\n      <td>65.0</td>\n      <td>2017_1_1</td>\n      <td>NaN</td>\n    </tr>\n    <tr>\n      <th>1</th>\n      <td>0.124831</td>\n      <td>-0.110555</td>\n      <td>-0.033831</td>\n      <td>-0.365366</td>\n      <td>-0.883694</td>\n      <td>-0.479441</td>\n      <td>-0.068602</td>\n      <td>0.014635</td>\n      <td>0.004517</td>\n      <td>0.059164</td>\n      <td>...</td>\n      <td>8.700834</td>\n      <td>11.541925</td>\n      <td>0.171608</td>\n      <td>4</td>\n      <td>2017</td>\n      <td>1</td>\n      <td>1</td>\n      <td>65.0</td>\n      <td>2017_1_1</td>\n      <td>NaN</td>\n    </tr>\n    <tr>\n      <th>2</th>\n      <td>0.149079</td>\n      <td>-0.071584</td>\n      <td>-0.092055</td>\n      <td>0.063539</td>\n      <td>-0.969149</td>\n      <td>-0.945796</td>\n      <td>-0.067396</td>\n      <td>0.014898</td>\n      <td>0.004128</td>\n      <td>0.059429</td>\n      <td>...</td>\n      <td>8.700640</td>\n      <td>11.542024</td>\n      <td>0.171618</td>\n      <td>9</td>\n      <td>2017</td>\n      <td>1</td>\n      <td>1</td>\n      <td>65.0</td>\n      <td>2017_1_1</td>\n      <td>NaN</td>\n    </tr>\n    <tr>\n      <th>3</th>\n      <td>0.071367</td>\n      <td>-0.329402</td>\n      <td>-0.074564</td>\n      <td>-1.390745</td>\n      <td>-0.642128</td>\n      <td>-0.478393</td>\n      <td>-0.066487</td>\n      <td>0.014024</td>\n      <td>0.003817</td>\n      <td>0.053634</td>\n      <td>...</td>\n      <td>8.700454</td>\n      <td>11.542136</td>\n      <td>0.171630</td>\n      <td>13</td>\n      <td>2017</td>\n      <td>1</td>\n      <td>1</td>\n      <td>65.0</td>\n      <td>2017_1_1</td>\n      <td>NaN</td>\n    </tr>\n    <tr>\n      <th>4</th>\n      <td>0.150359</td>\n      <td>-0.121912</td>\n      <td>-0.028015</td>\n      <td>-0.380801</td>\n      <td>-1.111007</td>\n      <td>-0.887547</td>\n      <td>-0.065267</td>\n      <td>0.013861</td>\n      <td>0.003700</td>\n      <td>0.052047</td>\n      <td>...</td>\n      <td>8.700278</td>\n      <td>11.542247</td>\n      <td>0.171644</td>\n      <td>17</td>\n      <td>2017</td>\n      <td>1</td>\n      <td>1</td>\n      <td>65.0</td>\n      <td>2017_1_1</td>\n      <td>NaN</td>\n    </tr>\n    <tr>\n      <th>...</th>\n      <td>...</td>\n      <td>...</td>\n      <td>...</td>\n      <td>...</td>\n      <td>...</td>\n      <td>...</td>\n      <td>...</td>\n      <td>...</td>\n      <td>...</td>\n      <td>...</td>\n      <td>...</td>\n      <td>...</td>\n      <td>...</td>\n      <td>...</td>\n      <td>...</td>\n      <td>...</td>\n      <td>...</td>\n      <td>...</td>\n      <td>...</td>\n      <td>...</td>\n      <td>...</td>\n    </tr>\n    <tr>\n      <th>1818484</th>\n      <td>-0.678712</td>\n      <td>-0.744590</td>\n      <td>-1.186564</td>\n      <td>-3.637199</td>\n      <td>-0.377002</td>\n      <td>4.884401</td>\n      <td>0.055096</td>\n      <td>0.064242</td>\n      <td>0.032775</td>\n      <td>-0.310567</td>\n      <td>...</td>\n      <td>6.571525</td>\n      <td>0.447844</td>\n      <td>0.226406</td>\n      <td>3234</td>\n      <td>2021</td>\n      <td>83</td>\n      <td>2</td>\n      <td>80.0</td>\n      <td>2021_83_2</td>\n      <td>NaN</td>\n    </tr>\n    <tr>\n      <th>1818485</th>\n      <td>-0.940335</td>\n      <td>-1.197655</td>\n      <td>-1.366915</td>\n      <td>-7.152955</td>\n      <td>0.081270</td>\n      <td>5.653244</td>\n      <td>0.051436</td>\n      <td>0.061982</td>\n      <td>0.027549</td>\n      <td>-0.340371</td>\n      <td>...</td>\n      <td>6.569550</td>\n      <td>0.451821</td>\n      <td>0.224835</td>\n      <td>3238</td>\n      <td>2021</td>\n      <td>83</td>\n      <td>2</td>\n      <td>80.0</td>\n      <td>2021_83_2</td>\n      <td>NaN</td>\n    </tr>\n    <tr>\n      <th>1818486</th>\n      <td>-0.831967</td>\n      <td>-1.163168</td>\n      <td>-1.292596</td>\n      <td>-5.512093</td>\n      <td>-0.151179</td>\n      <td>3.237055</td>\n      <td>0.047789</td>\n      <td>0.059788</td>\n      <td>0.022355</td>\n      <td>-0.363338</td>\n      <td>...</td>\n      <td>6.567587</td>\n      <td>0.455787</td>\n      <td>0.223269</td>\n      <td>3242</td>\n      <td>2021</td>\n      <td>83</td>\n      <td>2</td>\n      <td>80.0</td>\n      <td>2021_83_2</td>\n      <td>NaN</td>\n    </tr>\n    <tr>\n      <th>1818487</th>\n      <td>-0.617368</td>\n      <td>-0.357365</td>\n      <td>-1.066019</td>\n      <td>-1.425752</td>\n      <td>-2.776401</td>\n      <td>5.538847</td>\n      <td>0.044178</td>\n      <td>0.057759</td>\n      <td>0.017240</td>\n      <td>-0.369279</td>\n      <td>...</td>\n      <td>6.565653</td>\n      <td>0.459721</td>\n      <td>0.221714</td>\n      <td>3246</td>\n      <td>2021</td>\n      <td>83</td>\n      <td>2</td>\n      <td>80.0</td>\n      <td>2021_83_2</td>\n      <td>NaN</td>\n    </tr>\n    <tr>\n      <th>1818488</th>\n      <td>-1.159579</td>\n      <td>-0.899015</td>\n      <td>-1.462578</td>\n      <td>-5.758271</td>\n      <td>0.260591</td>\n      <td>6.279631</td>\n      <td>0.040622</td>\n      <td>0.055993</td>\n      <td>0.012251</td>\n      <td>-0.393272</td>\n      <td>...</td>\n      <td>6.563767</td>\n      <td>0.463606</td>\n      <td>0.220178</td>\n      <td>3250</td>\n      <td>2021</td>\n      <td>83</td>\n      <td>2</td>\n      <td>80.0</td>\n      <td>2021_83_2</td>\n      <td>NaN</td>\n    </tr>\n  </tbody>\n</table>\n<p>1057637 rows × 425 columns</p>\n</div>"
     },
     "execution_count": 47,
     "metadata": {},
     "output_type": "execute_result"
    }
   ],
   "source": [
    "# adding Ti in the mvnx data\n",
    "mvnx[['segment']] = np.NaN\n",
    "mvnx"
   ],
   "metadata": {
    "collapsed": false
   }
  },
  {
   "cell_type": "code",
   "execution_count": 48,
   "outputs": [
    {
     "name": "stderr",
     "output_type": "stream",
     "text": [
      "1647it [04:44,  5.78it/s]\n"
     ]
    },
    {
     "data": {
      "text/plain": "   Pelvis_acc_0  Pelvis_acc_1  Pelvis_acc_2  Pelvis_angular_acc_0  \\\n0      0.065029      0.060930     -0.063273              0.848845   \n1      0.124831     -0.110555     -0.033831             -0.365366   \n2      0.149079     -0.071584     -0.092055              0.063539   \n3      0.071367     -0.329402     -0.074564             -1.390745   \n4      0.150359     -0.121912     -0.028015             -0.380801   \n\n   Pelvis_angular_acc_1  Pelvis_angular_acc_2  Pelvis_vel_0  Pelvis_vel_1  \\\n0             -0.554506             -1.050589     -0.069628      0.014435   \n1             -0.883694             -0.479441     -0.068602      0.014635   \n2             -0.969149             -0.945796     -0.067396      0.014898   \n3             -0.642128             -0.478393     -0.066487      0.014024   \n4             -1.111007             -0.887547     -0.065267      0.013861   \n\n   Pelvis_vel_2  Pelvis_angular_vel_0  ...  LeftFoot_pos_0  LeftFoot_pos_1  \\\n0      0.004669              0.060686  ...        8.701041       11.541834   \n1      0.004517              0.059164  ...        8.700834       11.541925   \n2      0.004128              0.059429  ...        8.700640       11.542024   \n3      0.003817              0.053634  ...        8.700454       11.542136   \n4      0.003700              0.052047  ...        8.700278       11.542247   \n\n   LeftFoot_pos_2  time  year  id  sample  speed       key  segment  \n0        0.171602     0  2017   1       1   65.0  2017_1_1      NaN  \n1        0.171608     4  2017   1       1   65.0  2017_1_1      NaN  \n2        0.171618     9  2017   1       1   65.0  2017_1_1      NaN  \n3        0.171630    13  2017   1       1   65.0  2017_1_1      NaN  \n4        0.171644    17  2017   1       1   65.0  2017_1_1      NaN  \n\n[5 rows x 425 columns]",
      "text/html": "<div>\n<style scoped>\n    .dataframe tbody tr th:only-of-type {\n        vertical-align: middle;\n    }\n\n    .dataframe tbody tr th {\n        vertical-align: top;\n    }\n\n    .dataframe thead th {\n        text-align: right;\n    }\n</style>\n<table border=\"1\" class=\"dataframe\">\n  <thead>\n    <tr style=\"text-align: right;\">\n      <th></th>\n      <th>Pelvis_acc_0</th>\n      <th>Pelvis_acc_1</th>\n      <th>Pelvis_acc_2</th>\n      <th>Pelvis_angular_acc_0</th>\n      <th>Pelvis_angular_acc_1</th>\n      <th>Pelvis_angular_acc_2</th>\n      <th>Pelvis_vel_0</th>\n      <th>Pelvis_vel_1</th>\n      <th>Pelvis_vel_2</th>\n      <th>Pelvis_angular_vel_0</th>\n      <th>...</th>\n      <th>LeftFoot_pos_0</th>\n      <th>LeftFoot_pos_1</th>\n      <th>LeftFoot_pos_2</th>\n      <th>time</th>\n      <th>year</th>\n      <th>id</th>\n      <th>sample</th>\n      <th>speed</th>\n      <th>key</th>\n      <th>segment</th>\n    </tr>\n  </thead>\n  <tbody>\n    <tr>\n      <th>0</th>\n      <td>0.065029</td>\n      <td>0.060930</td>\n      <td>-0.063273</td>\n      <td>0.848845</td>\n      <td>-0.554506</td>\n      <td>-1.050589</td>\n      <td>-0.069628</td>\n      <td>0.014435</td>\n      <td>0.004669</td>\n      <td>0.060686</td>\n      <td>...</td>\n      <td>8.701041</td>\n      <td>11.541834</td>\n      <td>0.171602</td>\n      <td>0</td>\n      <td>2017</td>\n      <td>1</td>\n      <td>1</td>\n      <td>65.0</td>\n      <td>2017_1_1</td>\n      <td>NaN</td>\n    </tr>\n    <tr>\n      <th>1</th>\n      <td>0.124831</td>\n      <td>-0.110555</td>\n      <td>-0.033831</td>\n      <td>-0.365366</td>\n      <td>-0.883694</td>\n      <td>-0.479441</td>\n      <td>-0.068602</td>\n      <td>0.014635</td>\n      <td>0.004517</td>\n      <td>0.059164</td>\n      <td>...</td>\n      <td>8.700834</td>\n      <td>11.541925</td>\n      <td>0.171608</td>\n      <td>4</td>\n      <td>2017</td>\n      <td>1</td>\n      <td>1</td>\n      <td>65.0</td>\n      <td>2017_1_1</td>\n      <td>NaN</td>\n    </tr>\n    <tr>\n      <th>2</th>\n      <td>0.149079</td>\n      <td>-0.071584</td>\n      <td>-0.092055</td>\n      <td>0.063539</td>\n      <td>-0.969149</td>\n      <td>-0.945796</td>\n      <td>-0.067396</td>\n      <td>0.014898</td>\n      <td>0.004128</td>\n      <td>0.059429</td>\n      <td>...</td>\n      <td>8.700640</td>\n      <td>11.542024</td>\n      <td>0.171618</td>\n      <td>9</td>\n      <td>2017</td>\n      <td>1</td>\n      <td>1</td>\n      <td>65.0</td>\n      <td>2017_1_1</td>\n      <td>NaN</td>\n    </tr>\n    <tr>\n      <th>3</th>\n      <td>0.071367</td>\n      <td>-0.329402</td>\n      <td>-0.074564</td>\n      <td>-1.390745</td>\n      <td>-0.642128</td>\n      <td>-0.478393</td>\n      <td>-0.066487</td>\n      <td>0.014024</td>\n      <td>0.003817</td>\n      <td>0.053634</td>\n      <td>...</td>\n      <td>8.700454</td>\n      <td>11.542136</td>\n      <td>0.171630</td>\n      <td>13</td>\n      <td>2017</td>\n      <td>1</td>\n      <td>1</td>\n      <td>65.0</td>\n      <td>2017_1_1</td>\n      <td>NaN</td>\n    </tr>\n    <tr>\n      <th>4</th>\n      <td>0.150359</td>\n      <td>-0.121912</td>\n      <td>-0.028015</td>\n      <td>-0.380801</td>\n      <td>-1.111007</td>\n      <td>-0.887547</td>\n      <td>-0.065267</td>\n      <td>0.013861</td>\n      <td>0.003700</td>\n      <td>0.052047</td>\n      <td>...</td>\n      <td>8.700278</td>\n      <td>11.542247</td>\n      <td>0.171644</td>\n      <td>17</td>\n      <td>2017</td>\n      <td>1</td>\n      <td>1</td>\n      <td>65.0</td>\n      <td>2017_1_1</td>\n      <td>NaN</td>\n    </tr>\n  </tbody>\n</table>\n<p>5 rows × 425 columns</p>\n</div>"
     },
     "execution_count": 48,
     "metadata": {},
     "output_type": "execute_result"
    }
   ],
   "source": [
    "for row in tqdm(df.iterrows()):\n",
    "    # get data from keyframes row\n",
    "    key = row[1].key\n",
    "    T2 = row[1].T2\n",
    "    T3 = row[1].T3\n",
    "    T4 = row[1].T4\n",
    "    T5 = row[1].T5\n",
    "    T6 = row[1].T6\n",
    "    # adding True (1) to the rows referring to each time segment\n",
    "    mvnx.loc[(mvnx[\"key\"]==key) & (mvnx[\"time\"] >= T2) & (mvnx[\"time\"] < T3), \"segment\"] = \"T2\"\n",
    "    mvnx.loc[(mvnx[\"key\"]==key) & (mvnx[\"time\"] >= T3) & (mvnx[\"time\"] < T4), \"segment\"] = \"T3\"\n",
    "    mvnx.loc[(mvnx[\"key\"]==key) & (mvnx[\"time\"] >= T4) & (mvnx[\"time\"] < T5), \"segment\"] = \"T4\"\n",
    "    mvnx.loc[(mvnx[\"key\"]==key) & (mvnx[\"time\"] >= T5) & (mvnx[\"time\"] < T6), \"segment\"] = \"T5\"\n",
    "mvnx.head()"
   ],
   "metadata": {
    "collapsed": false
   }
  },
  {
   "cell_type": "code",
   "execution_count": 49,
   "outputs": [
    {
     "data": {
      "text/plain": "      Pelvis_acc_0  Pelvis_acc_1  Pelvis_acc_2  Pelvis_angular_acc_0  \\\n2692      0.100720     -0.158526     -0.072276             -1.132179   \n2693      0.123224      0.046644     -0.091935             -0.158352   \n2694      0.040653     -0.079366     -0.067010             -0.894743   \n2695      0.058090      0.029313     -0.060487             -0.070511   \n2696      0.037328     -0.004200     -0.032659             -0.110013   \n...            ...           ...           ...                   ...   \n5029     -0.069188      0.065409      0.989158              2.790476   \n5030      0.127856      0.445422      0.586566              4.601451   \n5031     -0.065614      0.680388     -0.060183              6.079559   \n5032      0.171911      0.491820     -0.146881              4.178833   \n5033      0.468272      0.375422     -0.411843              1.486331   \n\n      Pelvis_angular_acc_1  Pelvis_angular_acc_2  Pelvis_vel_0  Pelvis_vel_1  \\\n2692             -0.265471             -0.409607      0.000684      0.017791   \n2693              0.101824              0.032851      0.001245      0.017702   \n2694              0.377400             -0.026166      0.001366      0.017094   \n2695             -0.122347             -0.773893      0.001459      0.016905   \n2696              0.046052             -0.073637      0.001461      0.016572   \n...                    ...                   ...           ...           ...   \n5029             -1.601495             -5.520876      0.926644     -0.391370   \n5030             -1.468475             -1.902815      0.935452     -0.387229   \n5031              0.043252             -1.316606      0.944233     -0.383161   \n5032             -1.651495             -0.914933      0.953866     -0.380842   \n5033             -1.342489              1.221568      0.963902     -0.379806   \n\n      Pelvis_vel_2  Pelvis_angular_vel_0  ...  LeftFoot_pos_0  LeftFoot_pos_1  \\\n2692     -0.005597              0.001888  ...        1.619714        9.163127   \n2693     -0.005931              0.001228  ...        1.619729        9.163137   \n2694     -0.006136             -0.002500  ...        1.619737        9.163137   \n2695     -0.006294             -0.002794  ...        1.619737        9.163125   \n2696     -0.006323             -0.003252  ...        1.619735        9.163112   \n...            ...                   ...  ...             ...             ...   \n5029      0.395236             -0.043358  ...       11.230515        5.828831   \n5030      0.392885             -0.024186  ...       11.231894        5.828888   \n5031      0.388151              0.001146  ...       11.233307        5.828946   \n5032      0.384128              0.018558  ...       11.234719        5.829018   \n5033      0.379466              0.024751  ...       11.236111        5.829100   \n\n      LeftFoot_pos_2  time  year  id  sample  speed        key  segment  \n2692        0.162508     0  2017  10       1   79.0  2017_10_1      NaN  \n2693        0.162488     4  2017  10       1   79.0  2017_10_1      NaN  \n2694        0.162468     8  2017  10       1   79.0  2017_10_1      NaN  \n2695        0.162448    13  2017  10       1   79.0  2017_10_1      NaN  \n2696        0.162429    17  2017  10       1   79.0  2017_10_1      NaN  \n...              ...   ...   ...  ..     ...    ...        ...      ...  \n5029        0.176877  4999  2017  10       1   79.0  2017_10_1      NaN  \n5030        0.177889  5003  2017  10       1   79.0  2017_10_1      NaN  \n5031        0.178902  5007  2017  10       1   79.0  2017_10_1      NaN  \n5032        0.180074  5011  2017  10       1   79.0  2017_10_1      NaN  \n5033        0.181250  5016  2017  10       1   79.0  2017_10_1      NaN  \n\n[2342 rows x 425 columns]",
      "text/html": "<div>\n<style scoped>\n    .dataframe tbody tr th:only-of-type {\n        vertical-align: middle;\n    }\n\n    .dataframe tbody tr th {\n        vertical-align: top;\n    }\n\n    .dataframe thead th {\n        text-align: right;\n    }\n</style>\n<table border=\"1\" class=\"dataframe\">\n  <thead>\n    <tr style=\"text-align: right;\">\n      <th></th>\n      <th>Pelvis_acc_0</th>\n      <th>Pelvis_acc_1</th>\n      <th>Pelvis_acc_2</th>\n      <th>Pelvis_angular_acc_0</th>\n      <th>Pelvis_angular_acc_1</th>\n      <th>Pelvis_angular_acc_2</th>\n      <th>Pelvis_vel_0</th>\n      <th>Pelvis_vel_1</th>\n      <th>Pelvis_vel_2</th>\n      <th>Pelvis_angular_vel_0</th>\n      <th>...</th>\n      <th>LeftFoot_pos_0</th>\n      <th>LeftFoot_pos_1</th>\n      <th>LeftFoot_pos_2</th>\n      <th>time</th>\n      <th>year</th>\n      <th>id</th>\n      <th>sample</th>\n      <th>speed</th>\n      <th>key</th>\n      <th>segment</th>\n    </tr>\n  </thead>\n  <tbody>\n    <tr>\n      <th>2692</th>\n      <td>0.100720</td>\n      <td>-0.158526</td>\n      <td>-0.072276</td>\n      <td>-1.132179</td>\n      <td>-0.265471</td>\n      <td>-0.409607</td>\n      <td>0.000684</td>\n      <td>0.017791</td>\n      <td>-0.005597</td>\n      <td>0.001888</td>\n      <td>...</td>\n      <td>1.619714</td>\n      <td>9.163127</td>\n      <td>0.162508</td>\n      <td>0</td>\n      <td>2017</td>\n      <td>10</td>\n      <td>1</td>\n      <td>79.0</td>\n      <td>2017_10_1</td>\n      <td>NaN</td>\n    </tr>\n    <tr>\n      <th>2693</th>\n      <td>0.123224</td>\n      <td>0.046644</td>\n      <td>-0.091935</td>\n      <td>-0.158352</td>\n      <td>0.101824</td>\n      <td>0.032851</td>\n      <td>0.001245</td>\n      <td>0.017702</td>\n      <td>-0.005931</td>\n      <td>0.001228</td>\n      <td>...</td>\n      <td>1.619729</td>\n      <td>9.163137</td>\n      <td>0.162488</td>\n      <td>4</td>\n      <td>2017</td>\n      <td>10</td>\n      <td>1</td>\n      <td>79.0</td>\n      <td>2017_10_1</td>\n      <td>NaN</td>\n    </tr>\n    <tr>\n      <th>2694</th>\n      <td>0.040653</td>\n      <td>-0.079366</td>\n      <td>-0.067010</td>\n      <td>-0.894743</td>\n      <td>0.377400</td>\n      <td>-0.026166</td>\n      <td>0.001366</td>\n      <td>0.017094</td>\n      <td>-0.006136</td>\n      <td>-0.002500</td>\n      <td>...</td>\n      <td>1.619737</td>\n      <td>9.163137</td>\n      <td>0.162468</td>\n      <td>8</td>\n      <td>2017</td>\n      <td>10</td>\n      <td>1</td>\n      <td>79.0</td>\n      <td>2017_10_1</td>\n      <td>NaN</td>\n    </tr>\n    <tr>\n      <th>2695</th>\n      <td>0.058090</td>\n      <td>0.029313</td>\n      <td>-0.060487</td>\n      <td>-0.070511</td>\n      <td>-0.122347</td>\n      <td>-0.773893</td>\n      <td>0.001459</td>\n      <td>0.016905</td>\n      <td>-0.006294</td>\n      <td>-0.002794</td>\n      <td>...</td>\n      <td>1.619737</td>\n      <td>9.163125</td>\n      <td>0.162448</td>\n      <td>13</td>\n      <td>2017</td>\n      <td>10</td>\n      <td>1</td>\n      <td>79.0</td>\n      <td>2017_10_1</td>\n      <td>NaN</td>\n    </tr>\n    <tr>\n      <th>2696</th>\n      <td>0.037328</td>\n      <td>-0.004200</td>\n      <td>-0.032659</td>\n      <td>-0.110013</td>\n      <td>0.046052</td>\n      <td>-0.073637</td>\n      <td>0.001461</td>\n      <td>0.016572</td>\n      <td>-0.006323</td>\n      <td>-0.003252</td>\n      <td>...</td>\n      <td>1.619735</td>\n      <td>9.163112</td>\n      <td>0.162429</td>\n      <td>17</td>\n      <td>2017</td>\n      <td>10</td>\n      <td>1</td>\n      <td>79.0</td>\n      <td>2017_10_1</td>\n      <td>NaN</td>\n    </tr>\n    <tr>\n      <th>...</th>\n      <td>...</td>\n      <td>...</td>\n      <td>...</td>\n      <td>...</td>\n      <td>...</td>\n      <td>...</td>\n      <td>...</td>\n      <td>...</td>\n      <td>...</td>\n      <td>...</td>\n      <td>...</td>\n      <td>...</td>\n      <td>...</td>\n      <td>...</td>\n      <td>...</td>\n      <td>...</td>\n      <td>...</td>\n      <td>...</td>\n      <td>...</td>\n      <td>...</td>\n      <td>...</td>\n    </tr>\n    <tr>\n      <th>5029</th>\n      <td>-0.069188</td>\n      <td>0.065409</td>\n      <td>0.989158</td>\n      <td>2.790476</td>\n      <td>-1.601495</td>\n      <td>-5.520876</td>\n      <td>0.926644</td>\n      <td>-0.391370</td>\n      <td>0.395236</td>\n      <td>-0.043358</td>\n      <td>...</td>\n      <td>11.230515</td>\n      <td>5.828831</td>\n      <td>0.176877</td>\n      <td>4999</td>\n      <td>2017</td>\n      <td>10</td>\n      <td>1</td>\n      <td>79.0</td>\n      <td>2017_10_1</td>\n      <td>NaN</td>\n    </tr>\n    <tr>\n      <th>5030</th>\n      <td>0.127856</td>\n      <td>0.445422</td>\n      <td>0.586566</td>\n      <td>4.601451</td>\n      <td>-1.468475</td>\n      <td>-1.902815</td>\n      <td>0.935452</td>\n      <td>-0.387229</td>\n      <td>0.392885</td>\n      <td>-0.024186</td>\n      <td>...</td>\n      <td>11.231894</td>\n      <td>5.828888</td>\n      <td>0.177889</td>\n      <td>5003</td>\n      <td>2017</td>\n      <td>10</td>\n      <td>1</td>\n      <td>79.0</td>\n      <td>2017_10_1</td>\n      <td>NaN</td>\n    </tr>\n    <tr>\n      <th>5031</th>\n      <td>-0.065614</td>\n      <td>0.680388</td>\n      <td>-0.060183</td>\n      <td>6.079559</td>\n      <td>0.043252</td>\n      <td>-1.316606</td>\n      <td>0.944233</td>\n      <td>-0.383161</td>\n      <td>0.388151</td>\n      <td>0.001146</td>\n      <td>...</td>\n      <td>11.233307</td>\n      <td>5.828946</td>\n      <td>0.178902</td>\n      <td>5007</td>\n      <td>2017</td>\n      <td>10</td>\n      <td>1</td>\n      <td>79.0</td>\n      <td>2017_10_1</td>\n      <td>NaN</td>\n    </tr>\n    <tr>\n      <th>5032</th>\n      <td>0.171911</td>\n      <td>0.491820</td>\n      <td>-0.146881</td>\n      <td>4.178833</td>\n      <td>-1.651495</td>\n      <td>-0.914933</td>\n      <td>0.953866</td>\n      <td>-0.380842</td>\n      <td>0.384128</td>\n      <td>0.018558</td>\n      <td>...</td>\n      <td>11.234719</td>\n      <td>5.829018</td>\n      <td>0.180074</td>\n      <td>5011</td>\n      <td>2017</td>\n      <td>10</td>\n      <td>1</td>\n      <td>79.0</td>\n      <td>2017_10_1</td>\n      <td>NaN</td>\n    </tr>\n    <tr>\n      <th>5033</th>\n      <td>0.468272</td>\n      <td>0.375422</td>\n      <td>-0.411843</td>\n      <td>1.486331</td>\n      <td>-1.342489</td>\n      <td>1.221568</td>\n      <td>0.963902</td>\n      <td>-0.379806</td>\n      <td>0.379466</td>\n      <td>0.024751</td>\n      <td>...</td>\n      <td>11.236111</td>\n      <td>5.829100</td>\n      <td>0.181250</td>\n      <td>5016</td>\n      <td>2017</td>\n      <td>10</td>\n      <td>1</td>\n      <td>79.0</td>\n      <td>2017_10_1</td>\n      <td>NaN</td>\n    </tr>\n  </tbody>\n</table>\n<p>2342 rows × 425 columns</p>\n</div>"
     },
     "execution_count": 49,
     "metadata": {},
     "output_type": "execute_result"
    }
   ],
   "source": [
    "# Testing if it works\n",
    "# correct T2=350, T3=532, T4=601, T5=655, T6=790\n",
    "mvnx.loc[mvnx.key==\"2017_10_1\"]"
   ],
   "metadata": {
    "collapsed": false
   }
  },
  {
   "cell_type": "code",
   "execution_count": 50,
   "outputs": [
    {
     "name": "stdout",
     "output_type": "stream",
     "text": [
      "Original shape: 1057637 - HAR shape: 91715\n"
     ]
    }
   ],
   "source": [
    "har = mvnx.loc[mvnx.segment.notnull()]\n",
    "print(\"Original shape: {} - HAR shape: {}\".format(mvnx.shape[0], har.shape[0]))"
   ],
   "metadata": {
    "collapsed": false
   }
  },
  {
   "cell_type": "code",
   "execution_count": 51,
   "outputs": [
    {
     "data": {
      "text/plain": "      Pelvis_acc_0  Pelvis_acc_1  Pelvis_acc_2  Pelvis_angular_acc_0  \\\n2776     -0.054363      0.056517     -0.053088              0.420520   \n2777     -0.107037      0.053799     -0.122576             -0.002736   \n2778      0.144353     -0.014925     -0.004969             -0.029263   \n2779     -0.030959     -0.105743     -0.107790             -1.158075   \n2780      0.059421     -0.083124      0.010181             -0.362501   \n\n      Pelvis_angular_acc_1  Pelvis_angular_acc_2  Pelvis_vel_0  Pelvis_vel_1  \\\n2776              0.209671             -0.530950      0.007970     -0.003923   \n2777              0.640158              0.677067      0.007299     -0.004135   \n2778             -1.064792              0.387637      0.007754     -0.004556   \n2779              0.311378              0.144316      0.007494     -0.005328   \n2780             -0.402047             -0.376975      0.007641     -0.005942   \n\n      Pelvis_vel_2  Pelvis_angular_vel_0  ...  LeftFoot_pos_0  LeftFoot_pos_1  \\\n2776     -0.001043             -0.000674  ...        1.618867        9.162230   \n2777     -0.001530             -0.000686  ...        1.618847        9.162230   \n2778     -0.001520             -0.000808  ...        1.618827        9.162235   \n2779     -0.001936             -0.005633  ...        1.618806        9.162238   \n2780     -0.001857             -0.007143  ...        1.618786        9.162240   \n\n      LeftFoot_pos_2  time  year  id  sample  speed        key  segment  \n2776        0.161790   350  2017  10       1   79.0  2017_10_1       T2  \n2777        0.161792   354  2017  10       1   79.0  2017_10_1       T2  \n2778        0.161795   359  2017  10       1   79.0  2017_10_1       T2  \n2779        0.161799   363  2017  10       1   79.0  2017_10_1       T2  \n2780        0.161802   367  2017  10       1   79.0  2017_10_1       T2  \n\n[5 rows x 425 columns]",
      "text/html": "<div>\n<style scoped>\n    .dataframe tbody tr th:only-of-type {\n        vertical-align: middle;\n    }\n\n    .dataframe tbody tr th {\n        vertical-align: top;\n    }\n\n    .dataframe thead th {\n        text-align: right;\n    }\n</style>\n<table border=\"1\" class=\"dataframe\">\n  <thead>\n    <tr style=\"text-align: right;\">\n      <th></th>\n      <th>Pelvis_acc_0</th>\n      <th>Pelvis_acc_1</th>\n      <th>Pelvis_acc_2</th>\n      <th>Pelvis_angular_acc_0</th>\n      <th>Pelvis_angular_acc_1</th>\n      <th>Pelvis_angular_acc_2</th>\n      <th>Pelvis_vel_0</th>\n      <th>Pelvis_vel_1</th>\n      <th>Pelvis_vel_2</th>\n      <th>Pelvis_angular_vel_0</th>\n      <th>...</th>\n      <th>LeftFoot_pos_0</th>\n      <th>LeftFoot_pos_1</th>\n      <th>LeftFoot_pos_2</th>\n      <th>time</th>\n      <th>year</th>\n      <th>id</th>\n      <th>sample</th>\n      <th>speed</th>\n      <th>key</th>\n      <th>segment</th>\n    </tr>\n  </thead>\n  <tbody>\n    <tr>\n      <th>2776</th>\n      <td>-0.054363</td>\n      <td>0.056517</td>\n      <td>-0.053088</td>\n      <td>0.420520</td>\n      <td>0.209671</td>\n      <td>-0.530950</td>\n      <td>0.007970</td>\n      <td>-0.003923</td>\n      <td>-0.001043</td>\n      <td>-0.000674</td>\n      <td>...</td>\n      <td>1.618867</td>\n      <td>9.162230</td>\n      <td>0.161790</td>\n      <td>350</td>\n      <td>2017</td>\n      <td>10</td>\n      <td>1</td>\n      <td>79.0</td>\n      <td>2017_10_1</td>\n      <td>T2</td>\n    </tr>\n    <tr>\n      <th>2777</th>\n      <td>-0.107037</td>\n      <td>0.053799</td>\n      <td>-0.122576</td>\n      <td>-0.002736</td>\n      <td>0.640158</td>\n      <td>0.677067</td>\n      <td>0.007299</td>\n      <td>-0.004135</td>\n      <td>-0.001530</td>\n      <td>-0.000686</td>\n      <td>...</td>\n      <td>1.618847</td>\n      <td>9.162230</td>\n      <td>0.161792</td>\n      <td>354</td>\n      <td>2017</td>\n      <td>10</td>\n      <td>1</td>\n      <td>79.0</td>\n      <td>2017_10_1</td>\n      <td>T2</td>\n    </tr>\n    <tr>\n      <th>2778</th>\n      <td>0.144353</td>\n      <td>-0.014925</td>\n      <td>-0.004969</td>\n      <td>-0.029263</td>\n      <td>-1.064792</td>\n      <td>0.387637</td>\n      <td>0.007754</td>\n      <td>-0.004556</td>\n      <td>-0.001520</td>\n      <td>-0.000808</td>\n      <td>...</td>\n      <td>1.618827</td>\n      <td>9.162235</td>\n      <td>0.161795</td>\n      <td>359</td>\n      <td>2017</td>\n      <td>10</td>\n      <td>1</td>\n      <td>79.0</td>\n      <td>2017_10_1</td>\n      <td>T2</td>\n    </tr>\n    <tr>\n      <th>2779</th>\n      <td>-0.030959</td>\n      <td>-0.105743</td>\n      <td>-0.107790</td>\n      <td>-1.158075</td>\n      <td>0.311378</td>\n      <td>0.144316</td>\n      <td>0.007494</td>\n      <td>-0.005328</td>\n      <td>-0.001936</td>\n      <td>-0.005633</td>\n      <td>...</td>\n      <td>1.618806</td>\n      <td>9.162238</td>\n      <td>0.161799</td>\n      <td>363</td>\n      <td>2017</td>\n      <td>10</td>\n      <td>1</td>\n      <td>79.0</td>\n      <td>2017_10_1</td>\n      <td>T2</td>\n    </tr>\n    <tr>\n      <th>2780</th>\n      <td>0.059421</td>\n      <td>-0.083124</td>\n      <td>0.010181</td>\n      <td>-0.362501</td>\n      <td>-0.402047</td>\n      <td>-0.376975</td>\n      <td>0.007641</td>\n      <td>-0.005942</td>\n      <td>-0.001857</td>\n      <td>-0.007143</td>\n      <td>...</td>\n      <td>1.618786</td>\n      <td>9.162240</td>\n      <td>0.161802</td>\n      <td>367</td>\n      <td>2017</td>\n      <td>10</td>\n      <td>1</td>\n      <td>79.0</td>\n      <td>2017_10_1</td>\n      <td>T2</td>\n    </tr>\n  </tbody>\n</table>\n<p>5 rows × 425 columns</p>\n</div>"
     },
     "execution_count": 51,
     "metadata": {},
     "output_type": "execute_result"
    }
   ],
   "source": [
    "har.head()"
   ],
   "metadata": {
    "collapsed": false
   }
  },
  {
   "cell_type": "code",
   "execution_count": 54,
   "outputs": [],
   "source": [
    "mvnx.to_pickle(os.path.join(\"data\", \"mvnx_merged_data_train_validation_test_preprocessed_har.pkl\"))"
   ],
   "metadata": {
    "collapsed": false
   }
  },
  {
   "cell_type": "code",
   "execution_count": 55,
   "outputs": [],
   "source": [
    "har.to_pickle(os.path.join(\"data\", \"mvnx_merged_data_train_validation_test_preprocessed_har_without_null.pkl\"))"
   ],
   "metadata": {
    "collapsed": false
   }
  },
  {
   "cell_type": "code",
   "execution_count": null,
   "outputs": [],
   "source": [],
   "metadata": {
    "collapsed": false
   }
  }
 ],
 "metadata": {
  "kernelspec": {
   "display_name": "Python 3",
   "language": "python",
   "name": "python3"
  },
  "language_info": {
   "codemirror_mode": {
    "name": "ipython",
    "version": 2
   },
   "file_extension": ".py",
   "mimetype": "text/x-python",
   "name": "python",
   "nbconvert_exporter": "python",
   "pygments_lexer": "ipython2",
   "version": "2.7.6"
  }
 },
 "nbformat": 4,
 "nbformat_minor": 0
}
