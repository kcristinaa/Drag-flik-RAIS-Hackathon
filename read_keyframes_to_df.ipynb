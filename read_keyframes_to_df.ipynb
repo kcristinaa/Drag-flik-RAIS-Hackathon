{
 "cells": [
  {
   "cell_type": "code",
   "execution_count": 51,
   "metadata": {
    "collapsed": true
   },
   "outputs": [],
   "source": [
    "import pandas as pd\n",
    "import glob\n",
    "import os\n",
    "\n",
    "from tqdm import tqdm\n",
    "\n",
    "from utility_functions import get_year_from_filename"
   ]
  },
  {
   "cell_type": "code",
   "execution_count": 52,
   "outputs": [
    {
     "name": "stdout",
     "output_type": "stream",
     "text": [
      "Identified 94 .csv and .xlsx files...\n"
     ]
    }
   ],
   "source": [
    "file_names = []\n",
    "for f in glob.glob(os.path.join(\"data\", \"keyframes\", '**\\\\*.csv'), recursive=True):\n",
    "    file_names.append(f)\n",
    "\n",
    "for f in glob.glob(os.path.join(\"data\", \"keyframes\", '**\\\\*.xlsx'), recursive=True):\n",
    "    file_names.append(f)\n",
    "\n",
    "print(\"Identified {} .csv and .xlsx files...\".format(len(file_names)))"
   ],
   "metadata": {
    "collapsed": false
   }
  },
  {
   "cell_type": "code",
   "execution_count": 53,
   "outputs": [
    {
     "data": {
      "text/plain": "['data\\\\keyframes\\\\2017\\\\Keyframes\\\\Body10_keyframes.csv',\n 'data\\\\keyframes\\\\2017\\\\Keyframes\\\\Body11_keyframes.csv',\n 'data\\\\keyframes\\\\2017\\\\Keyframes\\\\Body12_keyframes.csv',\n 'data\\\\keyframes\\\\2017\\\\Keyframes\\\\Body13_keyframes.csv',\n 'data\\\\keyframes\\\\2017\\\\Keyframes\\\\Body14_keyframes.csv',\n 'data\\\\keyframes\\\\2017\\\\Keyframes\\\\Body18_keyframes.csv',\n 'data\\\\keyframes\\\\2017\\\\Keyframes\\\\Body22_keyframes.csv',\n 'data\\\\keyframes\\\\2017\\\\Keyframes\\\\Body26_keyframes.csv',\n 'data\\\\keyframes\\\\2017\\\\Keyframes\\\\Body27_keyframes.csv',\n 'data\\\\keyframes\\\\2017\\\\Keyframes\\\\Body28_keyframes.csv',\n 'data\\\\keyframes\\\\2017\\\\Keyframes\\\\Body57_keyframes.csv',\n 'data\\\\keyframes\\\\2017\\\\Keyframes\\\\Body59_keyframes.csv',\n 'data\\\\keyframes\\\\2017\\\\Keyframes\\\\Body60_keyframes.csv',\n 'data\\\\keyframes\\\\2017\\\\Keyframes\\\\Body61_keyframes.csv',\n 'data\\\\keyframes\\\\2019\\\\Keyframes\\\\Body11_keyframes.csv',\n 'data\\\\keyframes\\\\2019\\\\Keyframes\\\\Body12_keyframes.csv',\n 'data\\\\keyframes\\\\2019\\\\Keyframes\\\\Body13_keyframes.csv',\n 'data\\\\keyframes\\\\2019\\\\Keyframes\\\\Body14_keyframes.csv',\n 'data\\\\keyframes\\\\2019\\\\Keyframes\\\\Body15_keyframes.csv',\n 'data\\\\keyframes\\\\2019\\\\Keyframes\\\\Body16_keyframes.csv',\n 'data\\\\keyframes\\\\2019\\\\Keyframes\\\\Body17_keyframes.csv',\n 'data\\\\keyframes\\\\2019\\\\Keyframes\\\\Body19_keyframes.csv',\n 'data\\\\keyframes\\\\2019\\\\Keyframes\\\\Body1_keyframes.csv',\n 'data\\\\keyframes\\\\2019\\\\Keyframes\\\\Body21_keyframes.csv',\n 'data\\\\keyframes\\\\2019\\\\Keyframes\\\\Body23_keyframes.csv',\n 'data\\\\keyframes\\\\2019\\\\Keyframes\\\\Body25_keyframes.csv',\n 'data\\\\keyframes\\\\2019\\\\Keyframes\\\\Body26_keyframes.csv',\n 'data\\\\keyframes\\\\2019\\\\Keyframes\\\\Body27_keyframes.csv',\n 'data\\\\keyframes\\\\2019\\\\Keyframes\\\\Body28_keyframes.csv',\n 'data\\\\keyframes\\\\2019\\\\Keyframes\\\\Body30_keyframes.csv',\n 'data\\\\keyframes\\\\2019\\\\Keyframes\\\\Body31_keyframes.csv',\n 'data\\\\keyframes\\\\2019\\\\Keyframes\\\\Body32_keyframes.csv',\n 'data\\\\keyframes\\\\2019\\\\Keyframes\\\\Body33_keyframes.csv',\n 'data\\\\keyframes\\\\2019\\\\Keyframes\\\\Body34_keyframes.csv',\n 'data\\\\keyframes\\\\2019\\\\Keyframes\\\\Body35_keyframes.csv',\n 'data\\\\keyframes\\\\2019\\\\Keyframes\\\\Body36_keyframes.csv',\n 'data\\\\keyframes\\\\2019\\\\Keyframes\\\\Body37_keyframes.csv',\n 'data\\\\keyframes\\\\2019\\\\Keyframes\\\\Body38_keyframes.csv',\n 'data\\\\keyframes\\\\2019\\\\Keyframes\\\\Body39_keyframes.csv',\n 'data\\\\keyframes\\\\2019\\\\Keyframes\\\\Body3_keyframes.csv',\n 'data\\\\keyframes\\\\2019\\\\Keyframes\\\\Body40_keyframes.csv',\n 'data\\\\keyframes\\\\2019\\\\Keyframes\\\\Body41_keyframes.csv',\n 'data\\\\keyframes\\\\2019\\\\Keyframes\\\\Body42_keyframes.csv',\n 'data\\\\keyframes\\\\2019\\\\Keyframes\\\\Body43_keyframes.csv',\n 'data\\\\keyframes\\\\2019\\\\Keyframes\\\\Body44_keyframes.csv',\n 'data\\\\keyframes\\\\2019\\\\Keyframes\\\\Body45_keyframes.csv',\n 'data\\\\keyframes\\\\2019\\\\Keyframes\\\\Body46_keyframes.csv',\n 'data\\\\keyframes\\\\2019\\\\Keyframes\\\\Body47_keyframes.csv',\n 'data\\\\keyframes\\\\2019\\\\Keyframes\\\\Body48_keyframes.csv',\n 'data\\\\keyframes\\\\2019\\\\Keyframes\\\\Body49_keyframes.csv',\n 'data\\\\keyframes\\\\2019\\\\Keyframes\\\\Body4_keyframes.csv',\n 'data\\\\keyframes\\\\2019\\\\Keyframes\\\\Body50_keyframes.csv',\n 'data\\\\keyframes\\\\2019\\\\Keyframes\\\\Body51_keyframes.csv',\n 'data\\\\keyframes\\\\2019\\\\Keyframes\\\\Body52_keyframes.csv',\n 'data\\\\keyframes\\\\2019\\\\Keyframes\\\\Body53_keyframes.csv',\n 'data\\\\keyframes\\\\2019\\\\Keyframes\\\\Body54_keyframes.csv',\n 'data\\\\keyframes\\\\2019\\\\Keyframes\\\\Body55_keyframes.csv',\n 'data\\\\keyframes\\\\2019\\\\Keyframes\\\\Body56_keyframes.csv',\n 'data\\\\keyframes\\\\2019\\\\Keyframes\\\\Body5_keyframes.csv',\n 'data\\\\keyframes\\\\2019\\\\Keyframes\\\\Body6_keyframes.csv',\n 'data\\\\keyframes\\\\2021_A\\\\Keyframes\\\\Body35_keyframes.csv',\n 'data\\\\keyframes\\\\2021_A\\\\Keyframes\\\\Body66_keyframes.csv',\n 'data\\\\keyframes\\\\2021_A\\\\Keyframes\\\\Body67_keyframes.csv',\n 'data\\\\keyframes\\\\2021_A\\\\Keyframes\\\\Body68_keyframes.csv',\n 'data\\\\keyframes\\\\2021_A\\\\Keyframes\\\\Body69_keyframes.csv',\n 'data\\\\keyframes\\\\2021_A\\\\Keyframes\\\\Body7_keyframes.csv',\n 'data\\\\keyframes\\\\2021_B\\\\Keyframes\\\\Body12_keyframes.csv',\n 'data\\\\keyframes\\\\2021_B\\\\Keyframes\\\\Body13_keyframes.csv',\n 'data\\\\keyframes\\\\2021_B\\\\Keyframes\\\\Body32_keyframes.csv',\n 'data\\\\keyframes\\\\2021_B\\\\Keyframes\\\\Body38_keyframes.csv',\n 'data\\\\keyframes\\\\2021_B\\\\Keyframes\\\\Body40_keyframes.csv',\n 'data\\\\keyframes\\\\2021_B\\\\Keyframes\\\\Body69_keyframes.csv',\n 'data\\\\keyframes\\\\2021_B\\\\Keyframes\\\\Body70_keyframes.csv',\n 'data\\\\keyframes\\\\2021_B\\\\Keyframes\\\\Body71_keyframes.csv',\n 'data\\\\keyframes\\\\2021_B\\\\Keyframes\\\\Body72_keyframes.csv',\n 'data\\\\keyframes\\\\2021_B\\\\Keyframes\\\\Body73_keyframes.csv',\n 'data\\\\keyframes\\\\2021_B\\\\Keyframes\\\\Body74_keyframes.csv',\n 'data\\\\keyframes\\\\2021_B\\\\Keyframes\\\\Body75_keyframes.csv',\n 'data\\\\keyframes\\\\2021_B\\\\Keyframes\\\\Body76_keyframes.csv',\n 'data\\\\keyframes\\\\2021_B\\\\Keyframes\\\\Body78_keyframes.csv',\n 'data\\\\keyframes\\\\2021_B\\\\Keyframes\\\\Body79_keyframes.csv',\n 'data\\\\keyframes\\\\2021_B\\\\Keyframes\\\\Body7_keyframes.csv',\n 'data\\\\keyframes\\\\2021_B\\\\Keyframes\\\\Body80_keyframes.csv',\n 'data\\\\keyframes\\\\2021_B\\\\Keyframes\\\\Body81_keyframes.csv',\n 'data\\\\keyframes\\\\2021_B\\\\Keyframes\\\\body82_keyframes.csv',\n 'data\\\\keyframes\\\\2021_B\\\\Keyframes\\\\body83_keyframes.csv',\n 'data\\\\keyframes\\\\2022\\\\Keyframes\\\\Body17_keyframes.csv',\n 'data\\\\keyframes\\\\2022\\\\Keyframes\\\\Body18_keyframes.csv',\n 'data\\\\keyframes\\\\2022\\\\Keyframes\\\\Body21_keyframes.csv',\n 'data\\\\keyframes\\\\2022\\\\Keyframes\\\\Body84_keyframes.csv',\n 'data\\\\keyframes\\\\2022\\\\Keyframes\\\\Body85_keyframes.csv',\n 'data\\\\keyframes\\\\2022\\\\Keyframes\\\\Body86_keyframes.csv',\n 'data\\\\keyframes\\\\2017\\\\Keyframes\\\\Body18_keyframes.xlsx',\n 'data\\\\keyframes\\\\2017\\\\Keyframes\\\\Body64_keyframes.xlsx']"
     },
     "execution_count": 53,
     "metadata": {},
     "output_type": "execute_result"
    }
   ],
   "source": [
    "file_names"
   ],
   "metadata": {
    "collapsed": false
   }
  },
  {
   "cell_type": "code",
   "execution_count": 54,
   "outputs": [
    {
     "name": "stderr",
     "output_type": "stream",
     "text": [
      "100%|██████████| 94/94 [00:00<00:00, 186.20it/s]\n"
     ]
    }
   ],
   "source": [
    "df = pd.DataFrame(columns=['bodyNumber', 'trial', 'year', 'T0', 'T1', 'T2', 'T3', 'T4', 'T5', 'T6', 'BR', 'BV', 'ORWF'])\n",
    "# BEFORE RUNNING: Go to file data\\keyframes\\2021_A\\Keyframes\\Body69_keyframes.csv and delete the final comma in line 15\n",
    "for file_name in tqdm(file_names):\n",
    "    year = get_year_from_filename(file_name)\n",
    "    if str.endswith(file_name, 'csv'):\n",
    "        temp = pd.read_csv(file_name, sep=';|,', engine='python')\n",
    "    else:\n",
    "        temp = pd.read_excel(file_name)\n",
    "    # add year\n",
    "    temp.loc[:, 'year'] = year\n",
    "    # remove empty, unnamed columns\n",
    "    temp = temp.loc[:, ~temp.columns.str.contains('^Unnamed')]\n",
    "    # remove filename column present only in 2021_B folder\n",
    "    temp = temp.loc[:, ~temp.columns.str.contains('filename')]\n",
    "    # remove white spaces from column names\n",
    "    temp.columns = temp.columns.str.replace(' ', '')\n",
    "    # append temp to main df\n",
    "    df = pd.concat([df, temp], axis=0)\n",
    "    if len(df.columns) != 13:\n",
    "        print(\"There is a problem with the formatting of file {}. Please correct it before proceeding.\".format(file_name))\n",
    "        print(df.tail())\n",
    "        break"
   ],
   "metadata": {
    "collapsed": false
   }
  },
  {
   "cell_type": "code",
   "execution_count": 55,
   "outputs": [
    {
     "name": "stdout",
     "output_type": "stream",
     "text": [
      "*********** Dataframe Content: ***********\n",
      "\n",
      "  bodyNumber trial  year   T0   T1   T2   T3   T4   T5   T6   BR   BV ORWF\n",
      "0         10     1  2017  NaN  NaN  350  532  601  655  790  NaN  NaN  NaN\n",
      "1         10     2  2017  NaN  NaN  310  574  595  649  840  NaN  NaN  NaN\n",
      "2         10     3  2017  NaN  NaN  269  533  600  654  792  NaN  NaN  NaN\n",
      "3         10     4  2017  NaN  NaN  271  535  557  611  790  NaN  NaN  NaN\n",
      "4         10     5  2017  NaN  NaN  214  478  533  587  815  NaN  NaN  NaN\n"
     ]
    }
   ],
   "source": [
    "print(\"*********** Dataframe Content: ***********\\n\")\n",
    "print(df.head())"
   ],
   "metadata": {
    "collapsed": false
   }
  },
  {
   "cell_type": "code",
   "execution_count": 56,
   "outputs": [
    {
     "name": "stdout",
     "output_type": "stream",
     "text": [
      "*********** Dataframe Description: ***********\n",
      "\n",
      "        bodyNumber  trial  year   T0   T1      T2      T3      T4      T5  \\\n",
      "count         1647   1647  1647  335  335  1494.0  1494.0  1645.0  1645.0   \n",
      "unique          75     28     4   26  265   786.0   914.0   991.0   980.0   \n",
      "top             13      6  2019   50  750     0.0    -1.0    -1.0    -1.0   \n",
      "freq            55     94   881   87    4   128.0    32.0    32.0    32.0   \n",
      "\n",
      "            T6   BR    BV  ORWF  \n",
      "count   1542.0   67    40    27  \n",
      "unique   939.0   66    39    25  \n",
      "top       -1.0  741  1829   734  \n",
      "freq      32.0    2     2     2  \n"
     ]
    }
   ],
   "source": [
    "print(\"*********** Dataframe Description: ***********\\n\")\n",
    "print(df.describe())"
   ],
   "metadata": {
    "collapsed": false
   }
  },
  {
   "cell_type": "code",
   "execution_count": 57,
   "outputs": [
    {
     "name": "stdout",
     "output_type": "stream",
     "text": [
      "*********** Dataframe Null Values per Column: ***********\n",
      "\n"
     ]
    },
    {
     "data": {
      "text/plain": "bodyNumber       0\ntrial            0\nyear             0\nT0            1312\nT1            1312\nT2             153\nT3             153\nT4               2\nT5               2\nT6             105\nBR            1580\nBV            1607\nORWF          1620\ndtype: int64"
     },
     "execution_count": 57,
     "metadata": {},
     "output_type": "execute_result"
    }
   ],
   "source": [
    "print(\"*********** Dataframe Null Values per Column: ***********\\n\")\n",
    "df.isna().sum()"
   ],
   "metadata": {
    "collapsed": false
   }
  },
  {
   "cell_type": "code",
   "execution_count": 59,
   "outputs": [],
   "source": [
    "df.to_csv(os.path.join(\"data\", \"keyframes.csv\"))"
   ],
   "metadata": {
    "collapsed": false
   }
  }
 ],
 "metadata": {
  "kernelspec": {
   "display_name": "Python 3",
   "language": "python",
   "name": "python3"
  },
  "language_info": {
   "codemirror_mode": {
    "name": "ipython",
    "version": 2
   },
   "file_extension": ".py",
   "mimetype": "text/x-python",
   "name": "python",
   "nbconvert_exporter": "python",
   "pygments_lexer": "ipython2",
   "version": "2.7.6"
  }
 },
 "nbformat": 4,
 "nbformat_minor": 0
}
